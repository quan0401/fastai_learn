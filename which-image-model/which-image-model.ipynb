{
 "cells": [
  {
   "cell_type": "code",
   "execution_count": 42,
   "metadata": {},
   "outputs": [],
   "source": [
    "! git clone --depth 1 https://github.com/rwightman/pytorch-image-models.git\n",
    "%cd pytorch-image-models/results"
   ]
  },
  {
   "cell_type": "code",
   "execution_count": 43,
   "metadata": {},
   "outputs": [],
   "source": [
    "import pandas as pd"
   ]
  },
  {
   "cell_type": "code",
   "execution_count": 67,
   "metadata": {},
   "outputs": [
    {
     "data": {
      "text/html": [
       "<div>\n",
       "<style scoped>\n",
       "    .dataframe tbody tr th:only-of-type {\n",
       "        vertical-align: middle;\n",
       "    }\n",
       "\n",
       "    .dataframe tbody tr th {\n",
       "        vertical-align: top;\n",
       "    }\n",
       "\n",
       "    .dataframe thead th {\n",
       "        text-align: right;\n",
       "    }\n",
       "</style>\n",
       "<table border=\"1\" class=\"dataframe\">\n",
       "  <thead>\n",
       "    <tr style=\"text-align: right;\">\n",
       "      <th></th>\n",
       "      <th>model</th>\n",
       "      <th>top1</th>\n",
       "      <th>top1_err</th>\n",
       "      <th>top5</th>\n",
       "      <th>top5_err</th>\n",
       "      <th>param_count</th>\n",
       "      <th>img_size</th>\n",
       "      <th>crop_pct</th>\n",
       "      <th>interpolation</th>\n",
       "    </tr>\n",
       "  </thead>\n",
       "  <tbody>\n",
       "    <tr>\n",
       "      <th>0</th>\n",
       "      <td>eva02_large_patch14_448</td>\n",
       "      <td>90.052</td>\n",
       "      <td>9.948</td>\n",
       "      <td>99.048</td>\n",
       "      <td>0.952</td>\n",
       "      <td>305.08</td>\n",
       "      <td>448</td>\n",
       "      <td>1.000</td>\n",
       "      <td>bicubic</td>\n",
       "    </tr>\n",
       "    <tr>\n",
       "      <th>1</th>\n",
       "      <td>eva02_large_patch14_448</td>\n",
       "      <td>89.970</td>\n",
       "      <td>10.030</td>\n",
       "      <td>99.012</td>\n",
       "      <td>0.988</td>\n",
       "      <td>305.08</td>\n",
       "      <td>448</td>\n",
       "      <td>1.000</td>\n",
       "      <td>bicubic</td>\n",
       "    </tr>\n",
       "    <tr>\n",
       "      <th>2</th>\n",
       "      <td>eva_giant_patch14_560</td>\n",
       "      <td>89.786</td>\n",
       "      <td>10.214</td>\n",
       "      <td>98.992</td>\n",
       "      <td>1.008</td>\n",
       "      <td>1,014.45</td>\n",
       "      <td>560</td>\n",
       "      <td>1.000</td>\n",
       "      <td>bicubic</td>\n",
       "    </tr>\n",
       "    <tr>\n",
       "      <th>3</th>\n",
       "      <td>eva02_large_patch14_448</td>\n",
       "      <td>89.622</td>\n",
       "      <td>10.378</td>\n",
       "      <td>98.950</td>\n",
       "      <td>1.050</td>\n",
       "      <td>305.08</td>\n",
       "      <td>448</td>\n",
       "      <td>1.000</td>\n",
       "      <td>bicubic</td>\n",
       "    </tr>\n",
       "    <tr>\n",
       "      <th>4</th>\n",
       "      <td>eva02_large_patch14_448</td>\n",
       "      <td>89.574</td>\n",
       "      <td>10.426</td>\n",
       "      <td>98.924</td>\n",
       "      <td>1.076</td>\n",
       "      <td>305.08</td>\n",
       "      <td>448</td>\n",
       "      <td>1.000</td>\n",
       "      <td>bicubic</td>\n",
       "    </tr>\n",
       "    <tr>\n",
       "      <th>...</th>\n",
       "      <td>...</td>\n",
       "      <td>...</td>\n",
       "      <td>...</td>\n",
       "      <td>...</td>\n",
       "      <td>...</td>\n",
       "      <td>...</td>\n",
       "      <td>...</td>\n",
       "      <td>...</td>\n",
       "      <td>...</td>\n",
       "    </tr>\n",
       "    <tr>\n",
       "      <th>1075</th>\n",
       "      <td>efficientvit_m0</td>\n",
       "      <td>63.270</td>\n",
       "      <td>36.730</td>\n",
       "      <td>85.176</td>\n",
       "      <td>14.824</td>\n",
       "      <td>2.35</td>\n",
       "      <td>224</td>\n",
       "      <td>0.875</td>\n",
       "      <td>bicubic</td>\n",
       "    </tr>\n",
       "    <tr>\n",
       "      <th>1076</th>\n",
       "      <td>lcnet_050</td>\n",
       "      <td>63.138</td>\n",
       "      <td>36.862</td>\n",
       "      <td>84.382</td>\n",
       "      <td>15.618</td>\n",
       "      <td>1.88</td>\n",
       "      <td>224</td>\n",
       "      <td>0.875</td>\n",
       "      <td>bicubic</td>\n",
       "    </tr>\n",
       "    <tr>\n",
       "      <th>1077</th>\n",
       "      <td>tf_mobilenetv3_small_minimal_100</td>\n",
       "      <td>62.894</td>\n",
       "      <td>37.106</td>\n",
       "      <td>84.238</td>\n",
       "      <td>15.762</td>\n",
       "      <td>2.04</td>\n",
       "      <td>224</td>\n",
       "      <td>0.875</td>\n",
       "      <td>bilinear</td>\n",
       "    </tr>\n",
       "    <tr>\n",
       "      <th>1078</th>\n",
       "      <td>tinynet_e</td>\n",
       "      <td>59.866</td>\n",
       "      <td>40.134</td>\n",
       "      <td>81.762</td>\n",
       "      <td>18.238</td>\n",
       "      <td>2.04</td>\n",
       "      <td>106</td>\n",
       "      <td>0.875</td>\n",
       "      <td>bicubic</td>\n",
       "    </tr>\n",
       "    <tr>\n",
       "      <th>1079</th>\n",
       "      <td>mobilenetv3_small_050</td>\n",
       "      <td>57.916</td>\n",
       "      <td>42.084</td>\n",
       "      <td>80.180</td>\n",
       "      <td>19.820</td>\n",
       "      <td>1.59</td>\n",
       "      <td>224</td>\n",
       "      <td>0.875</td>\n",
       "      <td>bicubic</td>\n",
       "    </tr>\n",
       "  </tbody>\n",
       "</table>\n",
       "<p>1080 rows × 9 columns</p>\n",
       "</div>"
      ],
      "text/plain": [
       "                                 model    top1  top1_err    top5  top5_err  \\\n",
       "0              eva02_large_patch14_448  90.052     9.948  99.048     0.952   \n",
       "1              eva02_large_patch14_448  89.970    10.030  99.012     0.988   \n",
       "2                eva_giant_patch14_560  89.786    10.214  98.992     1.008   \n",
       "3              eva02_large_patch14_448  89.622    10.378  98.950     1.050   \n",
       "4              eva02_large_patch14_448  89.574    10.426  98.924     1.076   \n",
       "...                                ...     ...       ...     ...       ...   \n",
       "1075                   efficientvit_m0  63.270    36.730  85.176    14.824   \n",
       "1076                         lcnet_050  63.138    36.862  84.382    15.618   \n",
       "1077  tf_mobilenetv3_small_minimal_100  62.894    37.106  84.238    15.762   \n",
       "1078                         tinynet_e  59.866    40.134  81.762    18.238   \n",
       "1079             mobilenetv3_small_050  57.916    42.084  80.180    19.820   \n",
       "\n",
       "     param_count  img_size  crop_pct interpolation  \n",
       "0         305.08       448     1.000       bicubic  \n",
       "1         305.08       448     1.000       bicubic  \n",
       "2       1,014.45       560     1.000       bicubic  \n",
       "3         305.08       448     1.000       bicubic  \n",
       "4         305.08       448     1.000       bicubic  \n",
       "...          ...       ...       ...           ...  \n",
       "1075        2.35       224     0.875       bicubic  \n",
       "1076        1.88       224     0.875       bicubic  \n",
       "1077        2.04       224     0.875      bilinear  \n",
       "1078        2.04       106     0.875       bicubic  \n",
       "1079        1.59       224     0.875       bicubic  \n",
       "\n",
       "[1080 rows x 9 columns]"
      ]
     },
     "execution_count": 67,
     "metadata": {},
     "output_type": "execute_result"
    }
   ],
   "source": [
    "df_result = pd.read_csv('./results-imagenet.csv')\n",
    "df_result['model'] = df_result['model'].str.split('.').str[0]\n",
    "df_result"
   ]
  },
  {
   "cell_type": "code",
   "execution_count": 45,
   "metadata": {},
   "outputs": [
    {
     "data": {
      "text/html": [
       "<div>\n",
       "<style scoped>\n",
       "    .dataframe tbody tr th:only-of-type {\n",
       "        vertical-align: middle;\n",
       "    }\n",
       "\n",
       "    .dataframe tbody tr th {\n",
       "        vertical-align: top;\n",
       "    }\n",
       "\n",
       "    .dataframe thead th {\n",
       "        text-align: right;\n",
       "    }\n",
       "</style>\n",
       "<table border=\"1\" class=\"dataframe\">\n",
       "  <thead>\n",
       "    <tr style=\"text-align: right;\">\n",
       "      <th></th>\n",
       "      <th>model</th>\n",
       "      <th>infer_samples_per_sec</th>\n",
       "      <th>infer_step_time</th>\n",
       "      <th>infer_batch_size</th>\n",
       "      <th>infer_img_size</th>\n",
       "      <th>param_count</th>\n",
       "    </tr>\n",
       "  </thead>\n",
       "  <tbody>\n",
       "    <tr>\n",
       "      <th>0</th>\n",
       "      <td>tinynet_e</td>\n",
       "      <td>68298.73</td>\n",
       "      <td>14.982</td>\n",
       "      <td>1024</td>\n",
       "      <td>106</td>\n",
       "      <td>2.04</td>\n",
       "    </tr>\n",
       "    <tr>\n",
       "      <th>1</th>\n",
       "      <td>mobilenetv3_small_050</td>\n",
       "      <td>48773.32</td>\n",
       "      <td>20.985</td>\n",
       "      <td>1024</td>\n",
       "      <td>224</td>\n",
       "      <td>1.59</td>\n",
       "    </tr>\n",
       "    <tr>\n",
       "      <th>2</th>\n",
       "      <td>lcnet_035</td>\n",
       "      <td>47045.94</td>\n",
       "      <td>21.755</td>\n",
       "      <td>1024</td>\n",
       "      <td>224</td>\n",
       "      <td>1.64</td>\n",
       "    </tr>\n",
       "    <tr>\n",
       "      <th>3</th>\n",
       "      <td>lcnet_050</td>\n",
       "      <td>41541.83</td>\n",
       "      <td>24.639</td>\n",
       "      <td>1024</td>\n",
       "      <td>224</td>\n",
       "      <td>1.88</td>\n",
       "    </tr>\n",
       "    <tr>\n",
       "      <th>4</th>\n",
       "      <td>mobilenetv3_small_075</td>\n",
       "      <td>37803.23</td>\n",
       "      <td>27.076</td>\n",
       "      <td>1024</td>\n",
       "      <td>224</td>\n",
       "      <td>2.04</td>\n",
       "    </tr>\n",
       "    <tr>\n",
       "      <th>...</th>\n",
       "      <td>...</td>\n",
       "      <td>...</td>\n",
       "      <td>...</td>\n",
       "      <td>...</td>\n",
       "      <td>...</td>\n",
       "      <td>...</td>\n",
       "    </tr>\n",
       "    <tr>\n",
       "      <th>737</th>\n",
       "      <td>nfnet_f7</td>\n",
       "      <td>20.63</td>\n",
       "      <td>9307.125</td>\n",
       "      <td>192</td>\n",
       "      <td>608</td>\n",
       "      <td>499.50</td>\n",
       "    </tr>\n",
       "    <tr>\n",
       "      <th>738</th>\n",
       "      <td>resnetv2_152x4_bitm</td>\n",
       "      <td>18.31</td>\n",
       "      <td>3496.111</td>\n",
       "      <td>64</td>\n",
       "      <td>480</td>\n",
       "      <td>936.53</td>\n",
       "    </tr>\n",
       "    <tr>\n",
       "      <th>739</th>\n",
       "      <td>swin_v2_cr_giant_384</td>\n",
       "      <td>13.76</td>\n",
       "      <td>2325.078</td>\n",
       "      <td>32</td>\n",
       "      <td>384</td>\n",
       "      <td>2598.76</td>\n",
       "    </tr>\n",
       "    <tr>\n",
       "      <th>740</th>\n",
       "      <td>cait_m48_448</td>\n",
       "      <td>13.51</td>\n",
       "      <td>9473.095</td>\n",
       "      <td>128</td>\n",
       "      <td>448</td>\n",
       "      <td>356.46</td>\n",
       "    </tr>\n",
       "    <tr>\n",
       "      <th>741</th>\n",
       "      <td>convmixer_1536_20</td>\n",
       "      <td>13.51</td>\n",
       "      <td>75823.541</td>\n",
       "      <td>1024</td>\n",
       "      <td>224</td>\n",
       "      <td>51.63</td>\n",
       "    </tr>\n",
       "  </tbody>\n",
       "</table>\n",
       "<p>742 rows × 6 columns</p>\n",
       "</div>"
      ],
      "text/plain": [
       "                     model  infer_samples_per_sec  infer_step_time  \\\n",
       "0                tinynet_e               68298.73           14.982   \n",
       "1    mobilenetv3_small_050               48773.32           20.985   \n",
       "2                lcnet_035               47045.94           21.755   \n",
       "3                lcnet_050               41541.83           24.639   \n",
       "4    mobilenetv3_small_075               37803.23           27.076   \n",
       "..                     ...                    ...              ...   \n",
       "737               nfnet_f7                  20.63         9307.125   \n",
       "738    resnetv2_152x4_bitm                  18.31         3496.111   \n",
       "739   swin_v2_cr_giant_384                  13.76         2325.078   \n",
       "740           cait_m48_448                  13.51         9473.095   \n",
       "741      convmixer_1536_20                  13.51        75823.541   \n",
       "\n",
       "     infer_batch_size  infer_img_size  param_count  \n",
       "0                1024             106         2.04  \n",
       "1                1024             224         1.59  \n",
       "2                1024             224         1.64  \n",
       "3                1024             224         1.88  \n",
       "4                1024             224         2.04  \n",
       "..                ...             ...          ...  \n",
       "737               192             608       499.50  \n",
       "738                64             480       936.53  \n",
       "739                32             384      2598.76  \n",
       "740               128             448       356.46  \n",
       "741              1024             224        51.63  \n",
       "\n",
       "[742 rows x 6 columns]"
      ]
     },
     "execution_count": 45,
     "metadata": {},
     "output_type": "execute_result"
    }
   ],
   "source": [
    "df = pd.read_csv('./benchmark-infer-amp-nhwc-pt111-cu113-rtx3090.csv')\n",
    "df"
   ]
  },
  {
   "cell_type": "code",
   "execution_count": 71,
   "metadata": {},
   "outputs": [],
   "source": [
    "def get_data(part, col):\n",
    "    df = pd.read_csv(f'benchmark-{part}-amp-nchw-pt111-cu113-rtx3090.csv').merge(df_result, on='model')\n",
    "    df['secs'] = 1. / df[col]\n",
    "    df['family'] = df.model.str.extract('^([a-z]+?(?:v2)?)(?:\\d|_|$)')\n",
    "    df = df[~df.model.str.endswith('gn')]\n",
    "    df.loc[df.model.str.contains('in22'),'family'] = df.loc[df.model.str.contains('in22'),'family'] + '_in22'\n",
    "    df.loc[df.model.str.contains('resnet.*d'),'family'] = df.loc[df.model.str.contains('resnet.*d'),'family'] + 'd'\n",
    "    return df[df.family.str.contains('^re[sg]netd?|beit|convnext|levit|efficient|vit|vgg')]"
   ]
  },
  {
   "cell_type": "code",
   "execution_count": 72,
   "metadata": {},
   "outputs": [],
   "source": [
    "df = get_data('infer', 'infer_samples_per_sec')"
   ]
  },
  {
   "cell_type": "code",
   "execution_count": 73,
   "metadata": {},
   "outputs": [
    {
     "data": {
      "text/html": [
       "<div>\n",
       "<style scoped>\n",
       "    .dataframe tbody tr th:only-of-type {\n",
       "        vertical-align: middle;\n",
       "    }\n",
       "\n",
       "    .dataframe tbody tr th {\n",
       "        vertical-align: top;\n",
       "    }\n",
       "\n",
       "    .dataframe thead th {\n",
       "        text-align: right;\n",
       "    }\n",
       "</style>\n",
       "<table border=\"1\" class=\"dataframe\">\n",
       "  <thead>\n",
       "    <tr style=\"text-align: right;\">\n",
       "      <th></th>\n",
       "      <th>model</th>\n",
       "      <th>infer_samples_per_sec</th>\n",
       "      <th>infer_step_time</th>\n",
       "      <th>infer_batch_size</th>\n",
       "      <th>infer_img_size</th>\n",
       "      <th>param_count_x</th>\n",
       "      <th>top1</th>\n",
       "      <th>top1_err</th>\n",
       "      <th>top5</th>\n",
       "      <th>top5_err</th>\n",
       "      <th>param_count_y</th>\n",
       "      <th>img_size</th>\n",
       "      <th>crop_pct</th>\n",
       "      <th>interpolation</th>\n",
       "      <th>secs</th>\n",
       "      <th>family</th>\n",
       "    </tr>\n",
       "  </thead>\n",
       "  <tbody>\n",
       "    <tr>\n",
       "      <th>10</th>\n",
       "      <td>levit_128s</td>\n",
       "      <td>19963.52</td>\n",
       "      <td>51.282</td>\n",
       "      <td>1024</td>\n",
       "      <td>224</td>\n",
       "      <td>7.78</td>\n",
       "      <td>76.526</td>\n",
       "      <td>23.474</td>\n",
       "      <td>92.872</td>\n",
       "      <td>7.128</td>\n",
       "      <td>7.78</td>\n",
       "      <td>224</td>\n",
       "      <td>0.900</td>\n",
       "      <td>bicubic</td>\n",
       "      <td>0.000050</td>\n",
       "      <td>levit</td>\n",
       "    </tr>\n",
       "    <tr>\n",
       "      <th>13</th>\n",
       "      <td>regnetx_002</td>\n",
       "      <td>16238.56</td>\n",
       "      <td>63.048</td>\n",
       "      <td>1024</td>\n",
       "      <td>224</td>\n",
       "      <td>2.68</td>\n",
       "      <td>68.752</td>\n",
       "      <td>31.248</td>\n",
       "      <td>88.542</td>\n",
       "      <td>11.458</td>\n",
       "      <td>2.68</td>\n",
       "      <td>224</td>\n",
       "      <td>0.875</td>\n",
       "      <td>bicubic</td>\n",
       "      <td>0.000062</td>\n",
       "      <td>regnetx</td>\n",
       "    </tr>\n",
       "    <tr>\n",
       "      <th>14</th>\n",
       "      <td>regnety_002</td>\n",
       "      <td>15227.23</td>\n",
       "      <td>67.235</td>\n",
       "      <td>1024</td>\n",
       "      <td>224</td>\n",
       "      <td>3.16</td>\n",
       "      <td>70.280</td>\n",
       "      <td>29.720</td>\n",
       "      <td>89.530</td>\n",
       "      <td>10.470</td>\n",
       "      <td>3.16</td>\n",
       "      <td>224</td>\n",
       "      <td>0.875</td>\n",
       "      <td>bicubic</td>\n",
       "      <td>0.000066</td>\n",
       "      <td>regnety</td>\n",
       "    </tr>\n",
       "    <tr>\n",
       "      <th>17</th>\n",
       "      <td>levit_128</td>\n",
       "      <td>13679.77</td>\n",
       "      <td>74.845</td>\n",
       "      <td>1024</td>\n",
       "      <td>224</td>\n",
       "      <td>9.21</td>\n",
       "      <td>78.490</td>\n",
       "      <td>21.510</td>\n",
       "      <td>94.012</td>\n",
       "      <td>5.988</td>\n",
       "      <td>9.21</td>\n",
       "      <td>224</td>\n",
       "      <td>0.900</td>\n",
       "      <td>bicubic</td>\n",
       "      <td>0.000073</td>\n",
       "      <td>levit</td>\n",
       "    </tr>\n",
       "    <tr>\n",
       "      <th>18</th>\n",
       "      <td>vit_small_patch32_224</td>\n",
       "      <td>12109.88</td>\n",
       "      <td>84.548</td>\n",
       "      <td>1024</td>\n",
       "      <td>224</td>\n",
       "      <td>22.88</td>\n",
       "      <td>75.994</td>\n",
       "      <td>24.006</td>\n",
       "      <td>93.270</td>\n",
       "      <td>6.730</td>\n",
       "      <td>22.88</td>\n",
       "      <td>224</td>\n",
       "      <td>0.900</td>\n",
       "      <td>bicubic</td>\n",
       "      <td>0.000083</td>\n",
       "      <td>vit</td>\n",
       "    </tr>\n",
       "    <tr>\n",
       "      <th>...</th>\n",
       "      <td>...</td>\n",
       "      <td>...</td>\n",
       "      <td>...</td>\n",
       "      <td>...</td>\n",
       "      <td>...</td>\n",
       "      <td>...</td>\n",
       "      <td>...</td>\n",
       "      <td>...</td>\n",
       "      <td>...</td>\n",
       "      <td>...</td>\n",
       "      <td>...</td>\n",
       "      <td>...</td>\n",
       "      <td>...</td>\n",
       "      <td>...</td>\n",
       "      <td>...</td>\n",
       "      <td>...</td>\n",
       "    </tr>\n",
       "    <tr>\n",
       "      <th>630</th>\n",
       "      <td>resnetrs350</td>\n",
       "      <td>151.88</td>\n",
       "      <td>3371.146</td>\n",
       "      <td>512</td>\n",
       "      <td>384</td>\n",
       "      <td>163.96</td>\n",
       "      <td>84.714</td>\n",
       "      <td>15.286</td>\n",
       "      <td>96.992</td>\n",
       "      <td>3.008</td>\n",
       "      <td>163.96</td>\n",
       "      <td>384</td>\n",
       "      <td>1.000</td>\n",
       "      <td>bicubic</td>\n",
       "      <td>0.006584</td>\n",
       "      <td>resnetrs</td>\n",
       "    </tr>\n",
       "    <tr>\n",
       "      <th>640</th>\n",
       "      <td>resnetrs420</td>\n",
       "      <td>108.78</td>\n",
       "      <td>4706.738</td>\n",
       "      <td>512</td>\n",
       "      <td>416</td>\n",
       "      <td>191.89</td>\n",
       "      <td>85.004</td>\n",
       "      <td>14.996</td>\n",
       "      <td>97.124</td>\n",
       "      <td>2.876</td>\n",
       "      <td>191.89</td>\n",
       "      <td>416</td>\n",
       "      <td>1.000</td>\n",
       "      <td>bicubic</td>\n",
       "      <td>0.009193</td>\n",
       "      <td>resnetrs</td>\n",
       "    </tr>\n",
       "    <tr>\n",
       "      <th>643</th>\n",
       "      <td>vit_large_patch16_384</td>\n",
       "      <td>94.74</td>\n",
       "      <td>2702.220</td>\n",
       "      <td>256</td>\n",
       "      <td>384</td>\n",
       "      <td>304.72</td>\n",
       "      <td>87.084</td>\n",
       "      <td>12.916</td>\n",
       "      <td>98.302</td>\n",
       "      <td>1.698</td>\n",
       "      <td>304.72</td>\n",
       "      <td>384</td>\n",
       "      <td>1.000</td>\n",
       "      <td>bicubic</td>\n",
       "      <td>0.010555</td>\n",
       "      <td>vit</td>\n",
       "    </tr>\n",
       "    <tr>\n",
       "      <th>644</th>\n",
       "      <td>beit_large_patch16_384</td>\n",
       "      <td>82.64</td>\n",
       "      <td>3097.749</td>\n",
       "      <td>256</td>\n",
       "      <td>384</td>\n",
       "      <td>305.00</td>\n",
       "      <td>88.402</td>\n",
       "      <td>11.598</td>\n",
       "      <td>98.608</td>\n",
       "      <td>1.392</td>\n",
       "      <td>305.00</td>\n",
       "      <td>384</td>\n",
       "      <td>1.000</td>\n",
       "      <td>bicubic</td>\n",
       "      <td>0.012101</td>\n",
       "      <td>beit</td>\n",
       "    </tr>\n",
       "    <tr>\n",
       "      <th>652</th>\n",
       "      <td>beit_large_patch16_512</td>\n",
       "      <td>33.30</td>\n",
       "      <td>2882.954</td>\n",
       "      <td>96</td>\n",
       "      <td>512</td>\n",
       "      <td>305.67</td>\n",
       "      <td>88.596</td>\n",
       "      <td>11.404</td>\n",
       "      <td>98.656</td>\n",
       "      <td>1.344</td>\n",
       "      <td>305.67</td>\n",
       "      <td>512</td>\n",
       "      <td>1.000</td>\n",
       "      <td>bicubic</td>\n",
       "      <td>0.030030</td>\n",
       "      <td>beit</td>\n",
       "    </tr>\n",
       "  </tbody>\n",
       "</table>\n",
       "<p>247 rows × 16 columns</p>\n",
       "</div>"
      ],
      "text/plain": [
       "                      model  infer_samples_per_sec  infer_step_time  \\\n",
       "10               levit_128s               19963.52           51.282   \n",
       "13              regnetx_002               16238.56           63.048   \n",
       "14              regnety_002               15227.23           67.235   \n",
       "17                levit_128               13679.77           74.845   \n",
       "18    vit_small_patch32_224               12109.88           84.548   \n",
       "..                      ...                    ...              ...   \n",
       "630             resnetrs350                 151.88         3371.146   \n",
       "640             resnetrs420                 108.78         4706.738   \n",
       "643   vit_large_patch16_384                  94.74         2702.220   \n",
       "644  beit_large_patch16_384                  82.64         3097.749   \n",
       "652  beit_large_patch16_512                  33.30         2882.954   \n",
       "\n",
       "     infer_batch_size  infer_img_size  param_count_x    top1  top1_err  \\\n",
       "10               1024             224           7.78  76.526    23.474   \n",
       "13               1024             224           2.68  68.752    31.248   \n",
       "14               1024             224           3.16  70.280    29.720   \n",
       "17               1024             224           9.21  78.490    21.510   \n",
       "18               1024             224          22.88  75.994    24.006   \n",
       "..                ...             ...            ...     ...       ...   \n",
       "630               512             384         163.96  84.714    15.286   \n",
       "640               512             416         191.89  85.004    14.996   \n",
       "643               256             384         304.72  87.084    12.916   \n",
       "644               256             384         305.00  88.402    11.598   \n",
       "652                96             512         305.67  88.596    11.404   \n",
       "\n",
       "       top5  top5_err param_count_y  img_size  crop_pct interpolation  \\\n",
       "10   92.872     7.128          7.78       224     0.900       bicubic   \n",
       "13   88.542    11.458          2.68       224     0.875       bicubic   \n",
       "14   89.530    10.470          3.16       224     0.875       bicubic   \n",
       "17   94.012     5.988          9.21       224     0.900       bicubic   \n",
       "18   93.270     6.730         22.88       224     0.900       bicubic   \n",
       "..      ...       ...           ...       ...       ...           ...   \n",
       "630  96.992     3.008        163.96       384     1.000       bicubic   \n",
       "640  97.124     2.876        191.89       416     1.000       bicubic   \n",
       "643  98.302     1.698        304.72       384     1.000       bicubic   \n",
       "644  98.608     1.392        305.00       384     1.000       bicubic   \n",
       "652  98.656     1.344        305.67       512     1.000       bicubic   \n",
       "\n",
       "         secs    family  \n",
       "10   0.000050     levit  \n",
       "13   0.000062   regnetx  \n",
       "14   0.000066   regnety  \n",
       "17   0.000073     levit  \n",
       "18   0.000083       vit  \n",
       "..        ...       ...  \n",
       "630  0.006584  resnetrs  \n",
       "640  0.009193  resnetrs  \n",
       "643  0.010555       vit  \n",
       "644  0.012101      beit  \n",
       "652  0.030030      beit  \n",
       "\n",
       "[247 rows x 16 columns]"
      ]
     },
     "execution_count": 73,
     "metadata": {},
     "output_type": "execute_result"
    }
   ],
   "source": [
    "df"
   ]
  },
  {
   "cell_type": "code",
   "execution_count": 74,
   "metadata": {},
   "outputs": [
    {
     "data": {
      "application/vnd.plotly.v1+json": {
       "config": {
        "plotlyServerURL": "https://plot.ly"
       },
       "data": [
        {
         "customdata": [
          [
           224
          ],
          [
           224
          ],
          [
           224
          ],
          [
           224
          ],
          [
           224
          ]
         ],
         "hovertemplate": "<b>%{hovertext}</b><br><br>family=levit<br>secs=%{x}<br>top1=%{y}<br>size=%{marker.size}<br>infer_img_size=%{customdata[0]}<extra></extra>",
         "hovertext": [
          "levit_128s",
          "levit_128",
          "levit_192",
          "levit_256",
          "levit_384"
         ],
         "legendgroup": "levit",
         "marker": {
          "color": "#636efa",
          "size": [
           50176,
           50176,
           50176,
           50176,
           50176
          ],
          "sizemode": "area",
          "sizeref": 655.36,
          "symbol": "circle"
         },
         "mode": "markers",
         "name": "levit",
         "orientation": "v",
         "showlegend": true,
         "type": "scatter",
         "x": [
          0.00005009136665277466,
          0.00007310064423597765,
          0.00008550377541920364,
          0.00011725501323809099,
          0.00019315572021007615
         ],
         "xaxis": "x",
         "y": [
          76.526,
          78.49,
          79.838,
          81.524,
          82.596
         ],
         "yaxis": "y"
        },
        {
         "customdata": [
          [
           224
          ],
          [
           224
          ],
          [
           224
          ],
          [
           224
          ],
          [
           224
          ],
          [
           224
          ],
          [
           224
          ],
          [
           224
          ],
          [
           224
          ],
          [
           224
          ],
          [
           224
          ],
          [
           224
          ],
          [
           224
          ],
          [
           224
          ],
          [
           224
          ],
          [
           224
          ],
          [
           224
          ],
          [
           224
          ]
         ],
         "hovertemplate": "<b>%{hovertext}</b><br><br>family=regnetx<br>secs=%{x}<br>top1=%{y}<br>size=%{marker.size}<br>infer_img_size=%{customdata[0]}<extra></extra>",
         "hovertext": [
          "regnetx_002",
          "regnetx_004",
          "regnetx_006",
          "regnetx_008",
          "regnetx_008",
          "regnetx_016",
          "regnetx_016",
          "regnetx_032",
          "regnetx_032",
          "regnetx_040",
          "regnetx_080",
          "regnetx_080",
          "regnetx_064",
          "regnetx_120",
          "regnetx_160",
          "regnetx_160",
          "regnetx_320",
          "regnetx_320"
         ],
         "legendgroup": "regnetx",
         "marker": {
          "color": "#EF553B",
          "size": [
           50176,
           50176,
           50176,
           50176,
           50176,
           50176,
           50176,
           50176,
           50176,
           50176,
           50176,
           50176,
           50176,
           50176,
           50176,
           50176,
           50176,
           50176
          ],
          "sizemode": "area",
          "sizeref": 655.36,
          "symbol": "circle"
         },
         "mode": "markers",
         "name": "regnetx",
         "orientation": "v",
         "showlegend": true,
         "type": "scatter",
         "x": [
          0.00006158181513631751,
          0.0000993068382688832,
          0.00012414556812736342,
          0.0001572683123222868,
          0.0001572683123222868,
          0.00027466868090365995,
          0.00027466868090365995,
          0.00045423162178858246,
          0.00045423162178858246,
          0.0004991938020097543,
          0.0006456111355008651,
          0.0006456111355008651,
          0.0006894269483205559,
          0.0009537616358919578,
          0.001178647619721132,
          0.001178647619721132,
          0.0021347451114336947,
          0.0021347451114336947
         ],
         "xaxis": "x",
         "y": [
          68.752,
          72.402,
          73.868,
          77.306,
          75.028,
          79.436,
          76.924,
          80.926,
          78.168,
          78.492,
          81.54,
          79.198,
          79.066,
          79.588,
          82.566,
          79.866,
          82.81,
          80.246
         ],
         "yaxis": "y"
        },
        {
         "customdata": [
          [
           224
          ],
          [
           224
          ],
          [
           224
          ],
          [
           224
          ],
          [
           224
          ],
          [
           224
          ],
          [
           224
          ],
          [
           288
          ],
          [
           288
          ],
          [
           288
          ],
          [
           288
          ],
          [
           288
          ],
          [
           224
          ],
          [
           224
          ],
          [
           288
          ],
          [
           288
          ],
          [
           288
          ],
          [
           288
          ],
          [
           224
          ],
          [
           224
          ],
          [
           224
          ],
          [
           224
          ],
          [
           224
          ],
          [
           288
          ],
          [
           288
          ],
          [
           288
          ],
          [
           288
          ],
          [
           288
          ],
          [
           288
          ],
          [
           288
          ]
         ],
         "hovertemplate": "<b>%{hovertext}</b><br><br>family=regnety<br>secs=%{x}<br>top1=%{y}<br>size=%{marker.size}<br>infer_img_size=%{customdata[0]}<extra></extra>",
         "hovertext": [
          "regnety_002",
          "regnety_004",
          "regnety_004",
          "regnety_006",
          "regnety_008",
          "regnety_016",
          "regnety_016",
          "regnety_032",
          "regnety_032",
          "regnety_032",
          "regnety_040",
          "regnety_040",
          "regnety_120",
          "regnety_120",
          "regnety_064",
          "regnety_064",
          "regnety_080",
          "regnety_080",
          "regnety_320",
          "regnety_320",
          "regnety_320",
          "regnety_320",
          "regnety_320",
          "regnety_160",
          "regnety_160",
          "regnety_160",
          "regnety_160",
          "regnety_160",
          "regnety_160",
          "regnety_160"
         ],
         "legendgroup": "regnety",
         "marker": {
          "color": "#00cc96",
          "size": [
           50176,
           50176,
           50176,
           50176,
           50176,
           50176,
           50176,
           82944,
           82944,
           82944,
           82944,
           82944,
           50176,
           50176,
           82944,
           82944,
           82944,
           82944,
           50176,
           50176,
           50176,
           50176,
           50176,
           82944,
           82944,
           82944,
           82944,
           82944,
           82944,
           82944
          ],
          "sizemode": "area",
          "sizeref": 655.36,
          "symbol": "circle"
         },
         "mode": "markers",
         "name": "regnety",
         "orientation": "v",
         "showlegend": true,
         "type": "scatter",
         "x": [
          0.00006567182606422836,
          0.00011768818045834838,
          0.00011768818045834838,
          0.0001376780866050236,
          0.0001683413828571236,
          0.00029908152065008357,
          0.00029908152065008357,
          0.000722105080731348,
          0.000722105080731348,
          0.000722105080731348,
          0.0008265555775970377,
          0.0008265555775970377,
          0.0009963632740497186,
          0.0009963632740497186,
          0.001244973419817487,
          0.001244973419817487,
          0.0013032881961188077,
          0.0013032881961188077,
          0.0018701376421304608,
          0.0018701376421304608,
          0.0018701376421304608,
          0.0018701376421304608,
          0.0018701376421304608,
          0.0019094172458565645,
          0.0019094172458565645,
          0.0019094172458565645,
          0.0019094172458565645,
          0.0019094172458565645,
          0.0019094172458565645,
          0.0019094172458565645
         ],
         "xaxis": "x",
         "y": [
          70.28,
          75.594,
          74.026,
          75.268,
          76.302,
          80.666,
          77.868,
          82.726,
          81.756,
          78.876,
          83.044,
          79.22,
          85.4,
          80.38,
          83.72,
          79.716,
          83.926,
          79.868,
          86.834,
          84.548,
          83.328,
          83.162,
          80.81,
          86.02,
          85.988,
          85.986,
          83.782,
          83.69,
          82.646,
          80.298
         ],
         "yaxis": "y"
        },
        {
         "customdata": [
          [
           224
          ],
          [
           224
          ],
          [
           224
          ],
          [
           224
          ],
          [
           224
          ],
          [
           224
          ],
          [
           384
          ],
          [
           384
          ],
          [
           224
          ],
          [
           224
          ],
          [
           224
          ],
          [
           384
          ],
          [
           384
          ],
          [
           384
          ],
          [
           224
          ],
          [
           224
          ],
          [
           224
          ],
          [
           224
          ],
          [
           224
          ],
          [
           224
          ],
          [
           224
          ],
          [
           384
          ],
          [
           384
          ],
          [
           384
          ],
          [
           384
          ],
          [
           224
          ],
          [
           384
          ],
          [
           384
          ],
          [
           384
          ],
          [
           384
          ],
          [
           224
          ],
          [
           224
          ],
          [
           384
          ],
          [
           384
          ]
         ],
         "hovertemplate": "<b>%{hovertext}</b><br><br>family=vit<br>secs=%{x}<br>top1=%{y}<br>size=%{marker.size}<br>infer_img_size=%{customdata[0]}<extra></extra>",
         "hovertext": [
          "vit_small_patch32_224",
          "vit_tiny_r_s16_p8_224",
          "vit_tiny_patch16_224",
          "vit_base_patch32_224",
          "vit_base_patch32_224",
          "vit_base_patch32_224",
          "vit_small_patch32_384",
          "vit_tiny_r_s16_p8_384",
          "vit_small_patch16_224",
          "vit_small_patch16_224",
          "vit_small_r26_s32_224",
          "vit_tiny_patch16_384",
          "vit_base_patch32_384",
          "vit_base_patch32_384",
          "vit_base_patch16_224_miil",
          "vit_base_patch16_224",
          "vit_base_patch16_224",
          "vit_base_patch16_224",
          "vit_base_patch16_224",
          "vit_base_patch16_224",
          "vit_large_r50_s32_224",
          "vit_small_patch16_384",
          "vit_small_patch16_384",
          "vit_small_r26_s32_384",
          "vit_large_patch32_384",
          "vit_large_patch16_224",
          "vit_base_patch16_384",
          "vit_base_patch16_384",
          "vit_base_patch16_384",
          "vit_large_r50_s32_384",
          "vit_base_patch8_224",
          "vit_base_patch8_224",
          "vit_base_r50_s16_384",
          "vit_large_patch16_384"
         ],
         "legendgroup": "vit",
         "marker": {
          "color": "#ab63fa",
          "size": [
           50176,
           50176,
           50176,
           50176,
           50176,
           50176,
           147456,
           147456,
           50176,
           50176,
           50176,
           147456,
           147456,
           147456,
           50176,
           50176,
           50176,
           50176,
           50176,
           50176,
           50176,
           147456,
           147456,
           147456,
           147456,
           50176,
           147456,
           147456,
           147456,
           147456,
           50176,
           50176,
           147456,
           147456
          ],
          "sizemode": "area",
          "sizeref": 655.36,
          "symbol": "circle"
         },
         "mode": "markers",
         "name": "vit",
         "orientation": "v",
         "showlegend": true,
         "type": "scatter",
         "x": [
          0.00008257720142561281,
          0.00009435617948055037,
          0.00015755971513203504,
          0.0002149017147007816,
          0.0002149017147007816,
          0.0002149017147007816,
          0.00026270714458350407,
          0.0002897097976956483,
          0.00035144320150698845,
          0.00035144320150698845,
          0.0005556265522816805,
          0.0006761050937757765,
          0.0006801471838505852,
          0.0006801471838505852,
          0.0008890469416785206,
          0.0009182736455463728,
          0.0009182736455463728,
          0.0009182736455463728,
          0.0009182736455463728,
          0.0009182736455463728,
          0.0013773535528834896,
          0.0014612832989931758,
          0.0014612832989931758,
          0.0016359650557864083,
          0.0020215088542087814,
          0.002802847693256349,
          0.0035659522875583923,
          0.0035659522875583923,
          0.0035659522875583923,
          0.004156621498046388,
          0.005457025920873124,
          0.005457025920873124,
          0.005744155321959906,
          0.010555203715431708
         ],
         "xaxis": "x",
         "y": [
          75.994,
          71.798,
          75.462,
          80.716,
          74.894,
          73.694,
          80.486,
          75.96,
          81.386,
          78.848,
          81.864,
          78.424,
          83.352,
          78.756,
          84.266,
          85.094,
          84.532,
          81.79,
          80.238,
          79.154,
          84.418,
          83.804,
          81.116,
          84.048,
          81.51,
          85.836,
          85.994,
          84.2,
          81.102,
          86.182,
          86.218,
          85.798,
          84.976,
          87.084
         ],
         "yaxis": "y"
        },
        {
         "customdata": [
          [
           224
          ],
          [
           224
          ],
          [
           224
          ],
          [
           224
          ],
          [
           224
          ],
          [
           224
          ],
          [
           224
          ],
          [
           224
          ],
          [
           224
          ],
          [
           224
          ],
          [
           224
          ],
          [
           224
          ],
          [
           224
          ],
          [
           224
          ],
          [
           256
          ],
          [
           224
          ],
          [
           224
          ],
          [
           224
          ],
          [
           224
          ],
          [
           224
          ],
          [
           224
          ],
          [
           224
          ],
          [
           224
          ],
          [
           224
          ],
          [
           224
          ],
          [
           224
          ],
          [
           224
          ],
          [
           224
          ],
          [
           224
          ],
          [
           224
          ],
          [
           224
          ],
          [
           224
          ],
          [
           224
          ],
          [
           256
          ],
          [
           256
          ],
          [
           224
          ],
          [
           224
          ],
          [
           224
          ],
          [
           224
          ],
          [
           224
          ],
          [
           224
          ],
          [
           224
          ],
          [
           288
          ],
          [
           288
          ],
          [
           224
          ],
          [
           224
          ],
          [
           224
          ],
          [
           224
          ],
          [
           224
          ],
          [
           224
          ],
          [
           224
          ]
         ],
         "hovertemplate": "<b>%{hovertext}</b><br><br>family=resnet<br>secs=%{x}<br>top1=%{y}<br>size=%{marker.size}<br>infer_img_size=%{customdata[0]}<extra></extra>",
         "hovertext": [
          "resnet18",
          "resnet18",
          "resnet18",
          "resnet18",
          "resnet18",
          "resnet18",
          "resnet18",
          "resnet34",
          "resnet34",
          "resnet34",
          "resnet34",
          "resnet34",
          "resnet34",
          "resnet26",
          "resnet26t",
          "resnet50",
          "resnet50",
          "resnet50",
          "resnet50",
          "resnet50",
          "resnet50",
          "resnet50",
          "resnet50",
          "resnet50",
          "resnet50",
          "resnet50",
          "resnet50",
          "resnet50",
          "resnet50",
          "resnet50",
          "resnet50",
          "resnet50",
          "resnet50",
          "resnet32ts",
          "resnet33ts",
          "resnet101",
          "resnet101",
          "resnet101",
          "resnet101",
          "resnet101",
          "resnet101",
          "resnet101",
          "resnet51q",
          "resnet61q",
          "resnet152",
          "resnet152",
          "resnet152",
          "resnet152",
          "resnet152",
          "resnet152",
          "resnet152"
         ],
         "legendgroup": "resnet",
         "marker": {
          "color": "#FFA15A",
          "size": [
           50176,
           50176,
           50176,
           50176,
           50176,
           50176,
           50176,
           50176,
           50176,
           50176,
           50176,
           50176,
           50176,
           50176,
           65536,
           50176,
           50176,
           50176,
           50176,
           50176,
           50176,
           50176,
           50176,
           50176,
           50176,
           50176,
           50176,
           50176,
           50176,
           50176,
           50176,
           50176,
           50176,
           65536,
           65536,
           50176,
           50176,
           50176,
           50176,
           50176,
           50176,
           50176,
           82944,
           82944,
           50176,
           50176,
           50176,
           50176,
           50176,
           50176,
           50176
          ],
          "sizemode": "area",
          "sizeref": 655.36,
          "symbol": "circle"
         },
         "mode": "markers",
         "name": "resnet",
         "orientation": "v",
         "showlegend": true,
         "type": "scatter",
         "x": [
          0.00011201657845361113,
          0.00011201657845361113,
          0.00011201657845361113,
          0.00011201657845361113,
          0.00011201657845361113,
          0.00011201657845361113,
          0.00011201657845361113,
          0.00019086519191495045,
          0.00019086519191495045,
          0.00019086519191495045,
          0.00019086519191495045,
          0.00019086519191495045,
          0.00019086519191495045,
          0.00023253218245405165,
          0.000328893274132544,
          0.0003729659370209719,
          0.0003729659370209719,
          0.0003729659370209719,
          0.0003729659370209719,
          0.0003729659370209719,
          0.0003729659370209719,
          0.0003729659370209719,
          0.0003729659370209719,
          0.0003729659370209719,
          0.0003729659370209719,
          0.0003729659370209719,
          0.0003729659370209719,
          0.0003729659370209719,
          0.0003729659370209719,
          0.0003729659370209719,
          0.0003729659370209719,
          0.0003729659370209719,
          0.0003729659370209719,
          0.0003858441498310003,
          0.0003920200400644481,
          0.0006051620321341039,
          0.0006051620321341039,
          0.0006051620321341039,
          0.0006051620321341039,
          0.0006051620321341039,
          0.0006051620321341039,
          0.0006051620321341039,
          0.0007319894007934765,
          0.0008086820100600043,
          0.0008669568082118149,
          0.0008669568082118149,
          0.0008669568082118149,
          0.0008669568082118149,
          0.0008669568082118149,
          0.0008669568082118149,
          0.0008669568082118149
         ],
         "xaxis": "x",
         "y": [
          73.288,
          73.158,
          72.598,
          72.372,
          70.834,
          69.76,
          68.252,
          77.918,
          77.158,
          76.48,
          74.58,
          73.306,
          72.97,
          76.366,
          78.328,
          81.214,
          81.172,
          80.972,
          80.912,
          80.87,
          80.848,
          80.772,
          80.706,
          80.678,
          80.454,
          79.976,
          79.836,
          79.64,
          79.23,
          79.002,
          78.048,
          77.582,
          76.128,
          79.388,
          79.726,
          82.778,
          82.322,
          82.236,
          81.888,
          79.814,
          79.31,
          77.38,
          82.36,
          82.524,
          83.45,
          82.732,
          82.608,
          82.286,
          80.546,
          79.696,
          78.322
         ],
         "yaxis": "y"
        },
        {
         "customdata": [
          [
           224
          ],
          [
           224
          ],
          [
           224
          ],
          [
           224
          ],
          [
           224
          ],
          [
           224
          ],
          [
           224
          ],
          [
           224
          ],
          [
           320
          ],
          [
           320
          ],
          [
           320
          ],
          [
           320
          ],
          [
           320
          ]
         ],
         "hovertemplate": "<b>%{hovertext}</b><br><br>family=resnetd<br>secs=%{x}<br>top1=%{y}<br>size=%{marker.size}<br>infer_img_size=%{customdata[0]}<extra></extra>",
         "hovertext": [
          "resnet18d",
          "resnet34d",
          "resnet26d",
          "resnet50d",
          "resnet50d",
          "resnet50d",
          "resnet50d",
          "resnet50d",
          "resnet101d",
          "resnet101d",
          "resnet152d",
          "resnet152d",
          "resnet200d"
         ],
         "legendgroup": "resnetd",
         "marker": {
          "color": "#19d3f3",
          "size": [
           50176,
           50176,
           50176,
           50176,
           50176,
           50176,
           50176,
           50176,
           102400,
           102400,
           102400,
           102400,
           102400
          ],
          "sizemode": "area",
          "sizeref": 655.36,
          "symbol": "circle"
         },
         "mode": "markers",
         "name": "resnetd",
         "orientation": "v",
         "showlegend": true,
         "type": "scatter",
         "x": [
          0.00013372148222239754,
          0.00021241299032883653,
          0.0002566339886054509,
          0.0003972399766422894,
          0.0003972399766422894,
          0.0003972399766422894,
          0.0003972399766422894,
          0.0003972399766422894,
          0.0012560762689510507,
          0.0012560762689510507,
          0.001781610219316218,
          0.001781610219316218,
          0.002475186257765897
         ],
         "xaxis": "x",
         "y": [
          73.794,
          78.436,
          77.408,
          81.45,
          81.356,
          81.164,
          79.078,
          78.72,
          83.02,
          80.426,
          83.684,
          80.476,
          83.964
         ],
         "yaxis": "y"
        },
        {
         "customdata": [
          [
           224
          ],
          [
           224
          ],
          [
           240
          ],
          [
           224
          ],
          [
           224
          ],
          [
           260
          ],
          [
           256
          ],
          [
           300
          ],
          [
           288
          ],
          [
           240
          ],
          [
           320
          ],
          [
           300
          ],
          [
           300
          ],
          [
           384
          ],
          [
           456
          ]
         ],
         "hovertemplate": "<b>%{hovertext}</b><br><br>family=efficientnet<br>secs=%{x}<br>top1=%{y}<br>size=%{marker.size}<br>infer_img_size=%{customdata[0]}<extra></extra>",
         "hovertext": [
          "efficientnet_lite0",
          "efficientnet_b0",
          "efficientnet_b1_pruned",
          "efficientnet_es_pruned",
          "efficientnet_es",
          "efficientnet_b2_pruned",
          "efficientnet_b1",
          "efficientnet_b3_pruned",
          "efficientnet_b2",
          "efficientnet_em",
          "efficientnet_b3",
          "efficientnet_el",
          "efficientnet_el_pruned",
          "efficientnet_b4",
          "efficientnet_b5"
         ],
         "legendgroup": "efficientnet",
         "marker": {
          "color": "#FF6692",
          "size": [
           50176,
           50176,
           57600,
           50176,
           50176,
           67600,
           65536,
           90000,
           82944,
           57600,
           102400,
           90000,
           90000,
           147456,
           207936
          ],
          "sizemode": "area",
          "sizeref": 655.36,
          "symbol": "circle"
         },
         "mode": "markers",
         "name": "efficientnet",
         "orientation": "v",
         "showlegend": true,
         "type": "scatter",
         "x": [
          0.00014170066301740227,
          0.00016172070833670252,
          0.00016543773998812158,
          0.00023558235959291368,
          0.00023565341980242815,
          0.0002468130267915541,
          0.0002872729466447956,
          0.0003110913395281989,
          0.00037737273104645455,
          0.00038652870168874386,
          0.000619463544570402,
          0.0008465536799688469,
          0.0008479606546256254,
          0.0012189027437500763,
          0.0024326757000024328
         ],
         "xaxis": "x",
         "y": [
          75.482,
          77.694,
          78.24,
          75.006,
          78.058,
          79.92,
          78.8,
          80.852,
          80.61,
          79.244,
          82.246,
          81.312,
          80.298,
          83.414,
          85.896
         ],
         "yaxis": "y"
        },
        {
         "customdata": [
          [
           256
          ],
          [
           256
          ],
          [
           256
          ]
         ],
         "hovertemplate": "<b>%{hovertext}</b><br><br>family=mobilevit<br>secs=%{x}<br>top1=%{y}<br>size=%{marker.size}<br>infer_img_size=%{customdata[0]}<extra></extra>",
         "hovertext": [
          "mobilevit_xxs",
          "mobilevit_xs",
          "mobilevit_s"
         ],
         "legendgroup": "mobilevit",
         "marker": {
          "color": "#B6E880",
          "size": [
           65536,
           65536,
           65536
          ],
          "sizemode": "area",
          "sizeref": 655.36,
          "symbol": "circle"
         },
         "mode": "markers",
         "name": "mobilevit",
         "orientation": "v",
         "showlegend": true,
         "type": "scatter",
         "x": [
          0.0001940236825306897,
          0.00034327338635762905,
          0.0004463548431732259
         ],
         "xaxis": "x",
         "y": [
          68.918,
          74.634,
          78.312
         ],
         "yaxis": "y"
        },
        {
         "customdata": [
          [
           224
          ],
          [
           224
          ],
          [
           224
          ],
          [
           224
          ],
          [
           224
          ],
          [
           224
          ],
          [
           224
          ],
          [
           224
          ]
         ],
         "hovertemplate": "<b>%{hovertext}</b><br><br>family=repvgg<br>secs=%{x}<br>top1=%{y}<br>size=%{marker.size}<br>infer_img_size=%{customdata[0]}<extra></extra>",
         "hovertext": [
          "repvgg_b0",
          "repvgg_a2",
          "repvgg_b1g4",
          "repvgg_b1",
          "repvgg_b2g4",
          "repvgg_b2",
          "repvgg_b3g4",
          "repvgg_b3"
         ],
         "legendgroup": "repvgg",
         "marker": {
          "color": "#FF97FF",
          "size": [
           50176,
           50176,
           50176,
           50176,
           50176,
           50176,
           50176,
           50176
          ],
          "sizemode": "area",
          "sizeref": 655.36,
          "symbol": "circle"
         },
         "mode": "markers",
         "name": "repvgg",
         "orientation": "v",
         "showlegend": true,
         "type": "scatter",
         "x": [
          0.00023714215249188972,
          0.0003044380986014114,
          0.0005306616289189361,
          0.0006031908797538982,
          0.0007764698574401341,
          0.0008852456113948814,
          0.0010025866736179344,
          0.0011384723977367168
         ],
         "xaxis": "x",
         "y": [
          75.144,
          76.458,
          77.588,
          78.368,
          79.382,
          78.792,
          80.216,
          80.506
         ],
         "yaxis": "y"
        },
        {
         "customdata": [
          [
           240
          ],
          [
           240
          ],
          [
           240
          ],
          [
           240
          ],
          [
           240
          ],
          [
           240
          ],
          [
           240
          ],
          [
           240
          ],
          [
           240
          ],
          [
           408
          ],
          [
           408
          ]
         ],
         "hovertemplate": "<b>%{hovertext}</b><br><br>family=crossvit<br>secs=%{x}<br>top1=%{y}<br>size=%{marker.size}<br>infer_img_size=%{customdata[0]}<extra></extra>",
         "hovertext": [
          "crossvit_tiny_240",
          "crossvit_9_240",
          "crossvit_9_dagger_240",
          "crossvit_small_240",
          "crossvit_15_240",
          "crossvit_15_dagger_240",
          "crossvit_18_240",
          "crossvit_18_dagger_240",
          "crossvit_base_240",
          "crossvit_15_dagger_408",
          "crossvit_18_dagger_408"
         ],
         "legendgroup": "crossvit",
         "marker": {
          "color": "#FECB52",
          "size": [
           57600,
           57600,
           57600,
           57600,
           57600,
           57600,
           57600,
           57600,
           57600,
           166464,
           166464
          ],
          "sizemode": "area",
          "sizeref": 655.36,
          "symbol": "circle"
         },
         "mode": "markers",
         "name": "crossvit",
         "orientation": "v",
         "showlegend": true,
         "type": "scatter",
         "x": [
          0.0002549641520402232,
          0.0002694154224164408,
          0.0002808838854106101,
          0.0005390690277890084,
          0.0005843032767727761,
          0.0006066709538080736,
          0.0008260776182530111,
          0.0008547154652216277,
          0.0013226988347023268,
          0.0028176951253874333,
          0.003843640696467694
         ],
         "xaxis": "x",
         "y": [
          73.34,
          73.96,
          76.978,
          81.018,
          81.536,
          82.33,
          82.4,
          82.518,
          82.214,
          83.84,
          84.202
         ],
         "yaxis": "y"
        },
        {
         "customdata": [
          [
           224
          ],
          [
           224
          ],
          [
           224
          ]
         ],
         "hovertemplate": "<b>%{hovertext}</b><br><br>family=convit<br>secs=%{x}<br>top1=%{y}<br>size=%{marker.size}<br>infer_img_size=%{customdata[0]}<extra></extra>",
         "hovertext": [
          "convit_tiny",
          "convit_small",
          "convit_base"
         ],
         "legendgroup": "convit",
         "marker": {
          "color": "#636efa",
          "size": [
           50176,
           50176,
           50176
          ],
          "sizemode": "area",
          "sizeref": 655.36,
          "symbol": "circle"
         },
         "mode": "markers",
         "name": "convit",
         "orientation": "v",
         "showlegend": true,
         "type": "scatter",
         "x": [
          0.0003208048351704757,
          0.0007521907555756139,
          0.0014841639704354537
         ],
         "xaxis": "x",
         "y": [
          73.112,
          81.42,
          82.29
         ],
         "yaxis": "y"
        },
        {
         "customdata": [
          [
           224
          ],
          [
           224
          ]
         ],
         "hovertemplate": "<b>%{hovertext}</b><br><br>family=resnetv2<br>secs=%{x}<br>top1=%{y}<br>size=%{marker.size}<br>infer_img_size=%{customdata[0]}<extra></extra>",
         "hovertext": [
          "resnetv2_50",
          "resnetv2_101"
         ],
         "legendgroup": "resnetv2",
         "marker": {
          "color": "#EF553B",
          "size": [
           50176,
           50176
          ],
          "sizemode": "area",
          "sizeref": 655.36,
          "symbol": "circle"
         },
         "mode": "markers",
         "name": "resnetv2",
         "orientation": "v",
         "showlegend": true,
         "type": "scatter",
         "x": [
          0.0003596837660329039,
          0.0005906569877674938
         ],
         "xaxis": "x",
         "y": [
          81.398,
          83
         ],
         "yaxis": "y"
        },
        {
         "customdata": [
          [
           224
          ],
          [
           224
          ],
          [
           224
          ],
          [
           224
          ]
         ],
         "hovertemplate": "<b>%{hovertext}</b><br><br>family=vgg<br>secs=%{x}<br>top1=%{y}<br>size=%{marker.size}<br>infer_img_size=%{customdata[0]}<extra></extra>",
         "hovertext": [
          "vgg11_bn",
          "vgg13_bn",
          "vgg16_bn",
          "vgg19_bn"
         ],
         "legendgroup": "vgg",
         "marker": {
          "color": "#00cc96",
          "size": [
           50176,
           50176,
           50176,
           50176
          ],
          "sizemode": "area",
          "sizeref": 655.36,
          "symbol": "circle"
         },
         "mode": "markers",
         "name": "vgg",
         "orientation": "v",
         "showlegend": true,
         "type": "scatter",
         "x": [
          0.0003960835260939827,
          0.0006648538318850602,
          0.0008069917767537948,
          0.0009432271573963157
         ],
         "xaxis": "x",
         "y": [
          70.382,
          71.588,
          73.37,
          74.216
         ],
         "yaxis": "y"
        },
        {
         "customdata": [
          [
           224
          ],
          [
           224
          ]
         ],
         "hovertemplate": "<b>%{hovertext}</b><br><br>family=resnetaad<br>secs=%{x}<br>top1=%{y}<br>size=%{marker.size}<br>infer_img_size=%{customdata[0]}<extra></extra>",
         "hovertext": [
          "resnetaa50d",
          "resnetaa101d"
         ],
         "legendgroup": "resnetaad",
         "marker": {
          "color": "#ab63fa",
          "size": [
           50176,
           50176
          ],
          "sizemode": "area",
          "sizeref": 655.36,
          "symbol": "circle"
         },
         "mode": "markers",
         "name": "resnetaad",
         "orientation": "v",
         "showlegend": true,
         "type": "scatter",
         "x": [
          0.0004356653044864813,
          0.0006680383721240948
         ],
         "xaxis": "x",
         "y": [
          82.6,
          84.124
         ],
         "yaxis": "y"
        },
        {
         "customdata": [
          [
           224
          ],
          [
           224
          ],
          [
           224
          ],
          [
           224
          ],
          [
           224
          ],
          [
           224
          ],
          [
           224
          ],
          [
           224
          ],
          [
           224
          ],
          [
           224
          ],
          [
           224
          ],
          [
           224
          ],
          [
           224
          ],
          [
           224
          ],
          [
           224
          ],
          [
           224
          ],
          [
           224
          ],
          [
           224
          ],
          [
           224
          ],
          [
           224
          ],
          [
           224
          ]
         ],
         "hovertemplate": "<b>%{hovertext}</b><br><br>family=convnext<br>secs=%{x}<br>top1=%{y}<br>size=%{marker.size}<br>infer_img_size=%{customdata[0]}<extra></extra>",
         "hovertext": [
          "convnext_tiny",
          "convnext_tiny",
          "convnext_tiny",
          "convnext_tiny",
          "convnext_tiny",
          "convnext_tiny_hnf",
          "convnext_small",
          "convnext_small",
          "convnext_small",
          "convnext_small",
          "convnext_small",
          "convnext_base",
          "convnext_base",
          "convnext_base",
          "convnext_base",
          "convnext_base",
          "convnext_base",
          "convnext_base",
          "convnext_large",
          "convnext_large",
          "convnext_large"
         ],
         "legendgroup": "convnext",
         "marker": {
          "color": "#FFA15A",
          "size": [
           50176,
           50176,
           50176,
           50176,
           50176,
           50176,
           50176,
           50176,
           50176,
           50176,
           50176,
           50176,
           50176,
           50176,
           50176,
           50176,
           50176,
           50176,
           50176,
           50176,
           50176
          ],
          "sizemode": "area",
          "sizeref": 655.36,
          "symbol": "circle"
         },
         "mode": "markers",
         "name": "convnext",
         "orientation": "v",
         "showlegend": true,
         "type": "scatter",
         "x": [
          0.0004393055457932101,
          0.0004393055457932101,
          0.0004393055457932101,
          0.0004393055457932101,
          0.0004393055457932101,
          0.0004817976835167377,
          0.0007080999553897028,
          0.0007080999553897028,
          0.0007080999553897028,
          0.0007080999553897028,
          0.0007080999553897028,
          0.0010158059404331396,
          0.0010158059404331396,
          0.0010158059404331396,
          0.0010158059404331396,
          0.0010158059404331396,
          0.0010158059404331396,
          0.0010158059404331396,
          0.0018311999853504,
          0.0018311999853504,
          0.0018311999853504
         ],
         "xaxis": "x",
         "y": [
          85.122,
          84.45,
          84.088,
          82.698,
          78.898,
          82.584,
          86.182,
          85.778,
          85.33,
          85.262,
          83.7,
          87.134,
          86.796,
          86.502,
          86.37,
          86.274,
          86.158,
          84.428,
          87.472,
          87.026,
          84.846
         ],
         "yaxis": "y"
        },
        {
         "customdata": [
          [
           224
          ]
         ],
         "hovertemplate": "<b>%{hovertext}</b><br><br>family=resnetblur<br>secs=%{x}<br>top1=%{y}<br>size=%{marker.size}<br>infer_img_size=%{customdata[0]}<extra></extra>",
         "hovertext": [
          "resnetblur50"
         ],
         "legendgroup": "resnetblur",
         "marker": {
          "color": "#19d3f3",
          "size": [
           50176
          ],
          "sizemode": "area",
          "sizeref": 655.36,
          "symbol": "circle"
         },
         "mode": "markers",
         "name": "resnetblur",
         "orientation": "v",
         "showlegend": true,
         "type": "scatter",
         "x": [
          0.00044149720532269033
         ],
         "xaxis": "x",
         "y": [
          80.234
         ],
         "yaxis": "y"
        },
        {
         "customdata": [
          [
           224
          ],
          [
           288
          ],
          [
           320
          ],
          [
           320
          ],
          [
           352
          ],
          [
           384
          ],
          [
           416
          ]
         ],
         "hovertemplate": "<b>%{hovertext}</b><br><br>family=resnetrs<br>secs=%{x}<br>top1=%{y}<br>size=%{marker.size}<br>infer_img_size=%{customdata[0]}<extra></extra>",
         "hovertext": [
          "resnetrs50",
          "resnetrs101",
          "resnetrs152",
          "resnetrs200",
          "resnetrs270",
          "resnetrs350",
          "resnetrs420"
         ],
         "legendgroup": "resnetrs",
         "marker": {
          "color": "#FF6692",
          "size": [
           50176,
           82944,
           102400,
           102400,
           123904,
           147456,
           173056
          ],
          "sizemode": "area",
          "sizeref": 655.36,
          "symbol": "circle"
         },
         "mode": "markers",
         "name": "resnetrs",
         "orientation": "v",
         "showlegend": true,
         "type": "scatter",
         "x": [
          0.00044610992148465386,
          0.0011395102384994928,
          0.002001561217749845,
          0.002790879406100862,
          0.004395218002812939,
          0.006584145377929945,
          0.009192866335723478
         ],
         "xaxis": "x",
         "y": [
          79.894,
          82.284,
          83.702,
          84.444,
          84.428,
          84.714,
          85.004
         ],
         "yaxis": "y"
        },
        {
         "customdata": [
          [
           288
          ],
          [
           384
          ],
          [
           416
          ]
         ],
         "hovertemplate": "<b>%{hovertext}</b><br><br>family=efficientnetv2<br>secs=%{x}<br>top1=%{y}<br>size=%{marker.size}<br>infer_img_size=%{customdata[0]}<extra></extra>",
         "hovertext": [
          "efficientnetv2_rw_t",
          "efficientnetv2_rw_s",
          "efficientnetv2_rw_m"
         ],
         "legendgroup": "efficientnetv2",
         "marker": {
          "color": "#B6E880",
          "size": [
           82944,
           147456,
           173056
          ],
          "sizemode": "area",
          "sizeref": 655.36,
          "symbol": "circle"
         },
         "mode": "markers",
         "name": "efficientnetv2",
         "orientation": "v",
         "showlegend": true,
         "type": "scatter",
         "x": [
          0.0005000500050005,
          0.0011540547714394525,
          0.002457727093983484
         ],
         "xaxis": "x",
         "y": [
          82.35,
          83.806,
          84.81
         ],
         "yaxis": "y"
        },
        {
         "customdata": [
          [
           288
          ],
          [
           320
          ],
          [
           320
          ],
          [
           320
          ],
          [
           320
          ],
          [
           320
          ],
          [
           320
          ],
          [
           320
          ]
         ],
         "hovertemplate": "<b>%{hovertext}</b><br><br>family=regnetz<br>secs=%{x}<br>top1=%{y}<br>size=%{marker.size}<br>infer_img_size=%{customdata[0]}<extra></extra>",
         "hovertext": [
          "regnetz_b16",
          "regnetz_c16",
          "regnetz_d8",
          "regnetz_040",
          "regnetz_d32",
          "regnetz_c16_evos",
          "regnetz_e8",
          "regnetz_d8_evos"
         ],
         "legendgroup": "regnetz",
         "marker": {
          "color": "#FF97FF",
          "size": [
           82944,
           102400,
           102400,
           102400,
           102400,
           102400,
           102400,
           102400
          ],
          "sizemode": "area",
          "sizeref": 655.36,
          "symbol": "circle"
         },
         "mode": "markers",
         "name": "regnetz",
         "orientation": "v",
         "showlegend": true,
         "type": "scatter",
         "x": [
          0.0005580575134073318,
          0.00088329859025545,
          0.0011822007849813213,
          0.0012093653250773995,
          0.0013855213023900243,
          0.0018528812303131369,
          0.0022146432209771004,
          0.002680318421828513
         ],
         "xaxis": "x",
         "y": [
          80.728,
          82.632,
          84.052,
          84.24,
          84.022,
          82.636,
          85.034,
          84.126
         ],
         "yaxis": "y"
        },
        {
         "customdata": [
          [
           288
          ],
          [
           288
          ]
         ],
         "hovertemplate": "<b>%{hovertext}</b><br><br>family=regnetv<br>secs=%{x}<br>top1=%{y}<br>size=%{marker.size}<br>infer_img_size=%{customdata[0]}<extra></extra>",
         "hovertext": [
          "regnetv_040",
          "regnetv_064"
         ],
         "legendgroup": "regnetv",
         "marker": {
          "color": "#FECB52",
          "size": [
           82944,
           82944
          ],
          "sizemode": "area",
          "sizeref": 655.36,
          "symbol": "circle"
         },
         "mode": "markers",
         "name": "regnetv",
         "orientation": "v",
         "showlegend": true,
         "type": "scatter",
         "x": [
          0.0008264326209484141,
          0.001249328485938808
         ],
         "xaxis": "x",
         "y": [
          83.19,
          83.716
         ],
         "yaxis": "y"
        },
        {
         "customdata": [
          [
           224
          ],
          [
           224
          ],
          [
           384
          ],
          [
           384
          ],
          [
           512
          ]
         ],
         "hovertemplate": "<b>%{hovertext}</b><br><br>family=beit<br>secs=%{x}<br>top1=%{y}<br>size=%{marker.size}<br>infer_img_size=%{customdata[0]}<extra></extra>",
         "hovertext": [
          "beit_base_patch16_224",
          "beit_large_patch16_224",
          "beit_base_patch16_384",
          "beit_large_patch16_384",
          "beit_large_patch16_512"
         ],
         "legendgroup": "beit",
         "marker": {
          "color": "#636efa",
          "size": [
           50176,
           50176,
           147456,
           147456,
           262144
          ],
          "sizemode": "area",
          "sizeref": 655.36,
          "symbol": "circle"
         },
         "mode": "markers",
         "name": "beit",
         "orientation": "v",
         "showlegend": true,
         "type": "scatter",
         "x": [
          0.0009961548423086885,
          0.003026084851419234,
          0.0041459369817578775,
          0.012100677637947725,
          0.030030030030030033
         ],
         "xaxis": "x",
         "y": [
          85.212,
          87.478,
          86.8,
          88.402,
          88.596
         ],
         "yaxis": "y"
        },
        {
         "customdata": [
          [
           288
          ]
         ],
         "hovertemplate": "<b>%{hovertext}</b><br><br>family=resnetv2d<br>secs=%{x}<br>top1=%{y}<br>size=%{marker.size}<br>infer_img_size=%{customdata[0]}<extra></extra>",
         "hovertext": [
          "resnetv2_50d_evos"
         ],
         "legendgroup": "resnetv2d",
         "marker": {
          "color": "#EF553B",
          "size": [
           82944
          ],
          "sizemode": "area",
          "sizeref": 655.36,
          "symbol": "circle"
         },
         "mode": "markers",
         "name": "resnetv2d",
         "orientation": "v",
         "showlegend": true,
         "type": "scatter",
         "x": [
          0.001251611449741542
         ],
         "xaxis": "x",
         "y": [
          82.002
         ],
         "yaxis": "y"
        }
       ],
       "layout": {
        "height": 800,
        "legend": {
         "itemsizing": "constant",
         "title": {
          "text": "family"
         },
         "tracegroupgap": 0
        },
        "template": {
         "data": {
          "bar": [
           {
            "error_x": {
             "color": "#2a3f5f"
            },
            "error_y": {
             "color": "#2a3f5f"
            },
            "marker": {
             "line": {
              "color": "#E5ECF6",
              "width": 0.5
             },
             "pattern": {
              "fillmode": "overlay",
              "size": 10,
              "solidity": 0.2
             }
            },
            "type": "bar"
           }
          ],
          "barpolar": [
           {
            "marker": {
             "line": {
              "color": "#E5ECF6",
              "width": 0.5
             },
             "pattern": {
              "fillmode": "overlay",
              "size": 10,
              "solidity": 0.2
             }
            },
            "type": "barpolar"
           }
          ],
          "carpet": [
           {
            "aaxis": {
             "endlinecolor": "#2a3f5f",
             "gridcolor": "white",
             "linecolor": "white",
             "minorgridcolor": "white",
             "startlinecolor": "#2a3f5f"
            },
            "baxis": {
             "endlinecolor": "#2a3f5f",
             "gridcolor": "white",
             "linecolor": "white",
             "minorgridcolor": "white",
             "startlinecolor": "#2a3f5f"
            },
            "type": "carpet"
           }
          ],
          "choropleth": [
           {
            "colorbar": {
             "outlinewidth": 0,
             "ticks": ""
            },
            "type": "choropleth"
           }
          ],
          "contour": [
           {
            "colorbar": {
             "outlinewidth": 0,
             "ticks": ""
            },
            "colorscale": [
             [
              0,
              "#0d0887"
             ],
             [
              0.1111111111111111,
              "#46039f"
             ],
             [
              0.2222222222222222,
              "#7201a8"
             ],
             [
              0.3333333333333333,
              "#9c179e"
             ],
             [
              0.4444444444444444,
              "#bd3786"
             ],
             [
              0.5555555555555556,
              "#d8576b"
             ],
             [
              0.6666666666666666,
              "#ed7953"
             ],
             [
              0.7777777777777778,
              "#fb9f3a"
             ],
             [
              0.8888888888888888,
              "#fdca26"
             ],
             [
              1,
              "#f0f921"
             ]
            ],
            "type": "contour"
           }
          ],
          "contourcarpet": [
           {
            "colorbar": {
             "outlinewidth": 0,
             "ticks": ""
            },
            "type": "contourcarpet"
           }
          ],
          "heatmap": [
           {
            "colorbar": {
             "outlinewidth": 0,
             "ticks": ""
            },
            "colorscale": [
             [
              0,
              "#0d0887"
             ],
             [
              0.1111111111111111,
              "#46039f"
             ],
             [
              0.2222222222222222,
              "#7201a8"
             ],
             [
              0.3333333333333333,
              "#9c179e"
             ],
             [
              0.4444444444444444,
              "#bd3786"
             ],
             [
              0.5555555555555556,
              "#d8576b"
             ],
             [
              0.6666666666666666,
              "#ed7953"
             ],
             [
              0.7777777777777778,
              "#fb9f3a"
             ],
             [
              0.8888888888888888,
              "#fdca26"
             ],
             [
              1,
              "#f0f921"
             ]
            ],
            "type": "heatmap"
           }
          ],
          "heatmapgl": [
           {
            "colorbar": {
             "outlinewidth": 0,
             "ticks": ""
            },
            "colorscale": [
             [
              0,
              "#0d0887"
             ],
             [
              0.1111111111111111,
              "#46039f"
             ],
             [
              0.2222222222222222,
              "#7201a8"
             ],
             [
              0.3333333333333333,
              "#9c179e"
             ],
             [
              0.4444444444444444,
              "#bd3786"
             ],
             [
              0.5555555555555556,
              "#d8576b"
             ],
             [
              0.6666666666666666,
              "#ed7953"
             ],
             [
              0.7777777777777778,
              "#fb9f3a"
             ],
             [
              0.8888888888888888,
              "#fdca26"
             ],
             [
              1,
              "#f0f921"
             ]
            ],
            "type": "heatmapgl"
           }
          ],
          "histogram": [
           {
            "marker": {
             "pattern": {
              "fillmode": "overlay",
              "size": 10,
              "solidity": 0.2
             }
            },
            "type": "histogram"
           }
          ],
          "histogram2d": [
           {
            "colorbar": {
             "outlinewidth": 0,
             "ticks": ""
            },
            "colorscale": [
             [
              0,
              "#0d0887"
             ],
             [
              0.1111111111111111,
              "#46039f"
             ],
             [
              0.2222222222222222,
              "#7201a8"
             ],
             [
              0.3333333333333333,
              "#9c179e"
             ],
             [
              0.4444444444444444,
              "#bd3786"
             ],
             [
              0.5555555555555556,
              "#d8576b"
             ],
             [
              0.6666666666666666,
              "#ed7953"
             ],
             [
              0.7777777777777778,
              "#fb9f3a"
             ],
             [
              0.8888888888888888,
              "#fdca26"
             ],
             [
              1,
              "#f0f921"
             ]
            ],
            "type": "histogram2d"
           }
          ],
          "histogram2dcontour": [
           {
            "colorbar": {
             "outlinewidth": 0,
             "ticks": ""
            },
            "colorscale": [
             [
              0,
              "#0d0887"
             ],
             [
              0.1111111111111111,
              "#46039f"
             ],
             [
              0.2222222222222222,
              "#7201a8"
             ],
             [
              0.3333333333333333,
              "#9c179e"
             ],
             [
              0.4444444444444444,
              "#bd3786"
             ],
             [
              0.5555555555555556,
              "#d8576b"
             ],
             [
              0.6666666666666666,
              "#ed7953"
             ],
             [
              0.7777777777777778,
              "#fb9f3a"
             ],
             [
              0.8888888888888888,
              "#fdca26"
             ],
             [
              1,
              "#f0f921"
             ]
            ],
            "type": "histogram2dcontour"
           }
          ],
          "mesh3d": [
           {
            "colorbar": {
             "outlinewidth": 0,
             "ticks": ""
            },
            "type": "mesh3d"
           }
          ],
          "parcoords": [
           {
            "line": {
             "colorbar": {
              "outlinewidth": 0,
              "ticks": ""
             }
            },
            "type": "parcoords"
           }
          ],
          "pie": [
           {
            "automargin": true,
            "type": "pie"
           }
          ],
          "scatter": [
           {
            "fillpattern": {
             "fillmode": "overlay",
             "size": 10,
             "solidity": 0.2
            },
            "type": "scatter"
           }
          ],
          "scatter3d": [
           {
            "line": {
             "colorbar": {
              "outlinewidth": 0,
              "ticks": ""
             }
            },
            "marker": {
             "colorbar": {
              "outlinewidth": 0,
              "ticks": ""
             }
            },
            "type": "scatter3d"
           }
          ],
          "scattercarpet": [
           {
            "marker": {
             "colorbar": {
              "outlinewidth": 0,
              "ticks": ""
             }
            },
            "type": "scattercarpet"
           }
          ],
          "scattergeo": [
           {
            "marker": {
             "colorbar": {
              "outlinewidth": 0,
              "ticks": ""
             }
            },
            "type": "scattergeo"
           }
          ],
          "scattergl": [
           {
            "marker": {
             "colorbar": {
              "outlinewidth": 0,
              "ticks": ""
             }
            },
            "type": "scattergl"
           }
          ],
          "scattermapbox": [
           {
            "marker": {
             "colorbar": {
              "outlinewidth": 0,
              "ticks": ""
             }
            },
            "type": "scattermapbox"
           }
          ],
          "scatterpolar": [
           {
            "marker": {
             "colorbar": {
              "outlinewidth": 0,
              "ticks": ""
             }
            },
            "type": "scatterpolar"
           }
          ],
          "scatterpolargl": [
           {
            "marker": {
             "colorbar": {
              "outlinewidth": 0,
              "ticks": ""
             }
            },
            "type": "scatterpolargl"
           }
          ],
          "scatterternary": [
           {
            "marker": {
             "colorbar": {
              "outlinewidth": 0,
              "ticks": ""
             }
            },
            "type": "scatterternary"
           }
          ],
          "surface": [
           {
            "colorbar": {
             "outlinewidth": 0,
             "ticks": ""
            },
            "colorscale": [
             [
              0,
              "#0d0887"
             ],
             [
              0.1111111111111111,
              "#46039f"
             ],
             [
              0.2222222222222222,
              "#7201a8"
             ],
             [
              0.3333333333333333,
              "#9c179e"
             ],
             [
              0.4444444444444444,
              "#bd3786"
             ],
             [
              0.5555555555555556,
              "#d8576b"
             ],
             [
              0.6666666666666666,
              "#ed7953"
             ],
             [
              0.7777777777777778,
              "#fb9f3a"
             ],
             [
              0.8888888888888888,
              "#fdca26"
             ],
             [
              1,
              "#f0f921"
             ]
            ],
            "type": "surface"
           }
          ],
          "table": [
           {
            "cells": {
             "fill": {
              "color": "#EBF0F8"
             },
             "line": {
              "color": "white"
             }
            },
            "header": {
             "fill": {
              "color": "#C8D4E3"
             },
             "line": {
              "color": "white"
             }
            },
            "type": "table"
           }
          ]
         },
         "layout": {
          "annotationdefaults": {
           "arrowcolor": "#2a3f5f",
           "arrowhead": 0,
           "arrowwidth": 1
          },
          "autotypenumbers": "strict",
          "coloraxis": {
           "colorbar": {
            "outlinewidth": 0,
            "ticks": ""
           }
          },
          "colorscale": {
           "diverging": [
            [
             0,
             "#8e0152"
            ],
            [
             0.1,
             "#c51b7d"
            ],
            [
             0.2,
             "#de77ae"
            ],
            [
             0.3,
             "#f1b6da"
            ],
            [
             0.4,
             "#fde0ef"
            ],
            [
             0.5,
             "#f7f7f7"
            ],
            [
             0.6,
             "#e6f5d0"
            ],
            [
             0.7,
             "#b8e186"
            ],
            [
             0.8,
             "#7fbc41"
            ],
            [
             0.9,
             "#4d9221"
            ],
            [
             1,
             "#276419"
            ]
           ],
           "sequential": [
            [
             0,
             "#0d0887"
            ],
            [
             0.1111111111111111,
             "#46039f"
            ],
            [
             0.2222222222222222,
             "#7201a8"
            ],
            [
             0.3333333333333333,
             "#9c179e"
            ],
            [
             0.4444444444444444,
             "#bd3786"
            ],
            [
             0.5555555555555556,
             "#d8576b"
            ],
            [
             0.6666666666666666,
             "#ed7953"
            ],
            [
             0.7777777777777778,
             "#fb9f3a"
            ],
            [
             0.8888888888888888,
             "#fdca26"
            ],
            [
             1,
             "#f0f921"
            ]
           ],
           "sequentialminus": [
            [
             0,
             "#0d0887"
            ],
            [
             0.1111111111111111,
             "#46039f"
            ],
            [
             0.2222222222222222,
             "#7201a8"
            ],
            [
             0.3333333333333333,
             "#9c179e"
            ],
            [
             0.4444444444444444,
             "#bd3786"
            ],
            [
             0.5555555555555556,
             "#d8576b"
            ],
            [
             0.6666666666666666,
             "#ed7953"
            ],
            [
             0.7777777777777778,
             "#fb9f3a"
            ],
            [
             0.8888888888888888,
             "#fdca26"
            ],
            [
             1,
             "#f0f921"
            ]
           ]
          },
          "colorway": [
           "#636efa",
           "#EF553B",
           "#00cc96",
           "#ab63fa",
           "#FFA15A",
           "#19d3f3",
           "#FF6692",
           "#B6E880",
           "#FF97FF",
           "#FECB52"
          ],
          "font": {
           "color": "#2a3f5f"
          },
          "geo": {
           "bgcolor": "white",
           "lakecolor": "white",
           "landcolor": "#E5ECF6",
           "showlakes": true,
           "showland": true,
           "subunitcolor": "white"
          },
          "hoverlabel": {
           "align": "left"
          },
          "hovermode": "closest",
          "mapbox": {
           "style": "light"
          },
          "paper_bgcolor": "white",
          "plot_bgcolor": "#E5ECF6",
          "polar": {
           "angularaxis": {
            "gridcolor": "white",
            "linecolor": "white",
            "ticks": ""
           },
           "bgcolor": "#E5ECF6",
           "radialaxis": {
            "gridcolor": "white",
            "linecolor": "white",
            "ticks": ""
           }
          },
          "scene": {
           "xaxis": {
            "backgroundcolor": "#E5ECF6",
            "gridcolor": "white",
            "gridwidth": 2,
            "linecolor": "white",
            "showbackground": true,
            "ticks": "",
            "zerolinecolor": "white"
           },
           "yaxis": {
            "backgroundcolor": "#E5ECF6",
            "gridcolor": "white",
            "gridwidth": 2,
            "linecolor": "white",
            "showbackground": true,
            "ticks": "",
            "zerolinecolor": "white"
           },
           "zaxis": {
            "backgroundcolor": "#E5ECF6",
            "gridcolor": "white",
            "gridwidth": 2,
            "linecolor": "white",
            "showbackground": true,
            "ticks": "",
            "zerolinecolor": "white"
           }
          },
          "shapedefaults": {
           "line": {
            "color": "#2a3f5f"
           }
          },
          "ternary": {
           "aaxis": {
            "gridcolor": "white",
            "linecolor": "white",
            "ticks": ""
           },
           "baxis": {
            "gridcolor": "white",
            "linecolor": "white",
            "ticks": ""
           },
           "bgcolor": "#E5ECF6",
           "caxis": {
            "gridcolor": "white",
            "linecolor": "white",
            "ticks": ""
           }
          },
          "title": {
           "x": 0.05
          },
          "xaxis": {
           "automargin": true,
           "gridcolor": "white",
           "linecolor": "white",
           "ticks": "",
           "title": {
            "standoff": 15
           },
           "zerolinecolor": "white",
           "zerolinewidth": 2
          },
          "yaxis": {
           "automargin": true,
           "gridcolor": "white",
           "linecolor": "white",
           "ticks": "",
           "title": {
            "standoff": 15
           },
           "zerolinecolor": "white",
           "zerolinewidth": 2
          }
         }
        },
        "title": {
         "text": "Inference"
        },
        "width": 1000,
        "xaxis": {
         "anchor": "y",
         "domain": [
          0,
          1
         ],
         "title": {
          "text": "secs"
         },
         "type": "log"
        },
        "yaxis": {
         "anchor": "x",
         "domain": [
          0,
          1
         ],
         "title": {
          "text": "top1"
         }
        }
       }
      }
     },
     "metadata": {},
     "output_type": "display_data"
    }
   ],
   "source": [
    "import plotly.express as px\n",
    "\n",
    "w, h = 1000, 800\n",
    "\n",
    "def show_all(df, title, size):\n",
    "    return px.scatter(df, width=w, height=h, size=df[size]**2, title=title,\n",
    "                      x='secs',  y='top1', log_x=True,\n",
    "                      color='family', hover_name='model', hover_data=[size])\n",
    "\n",
    "\n",
    "show_all(df, 'Inference', 'infer_img_size')"
   ]
  },
  {
   "cell_type": "code",
   "execution_count": 75,
   "metadata": {},
   "outputs": [],
   "source": [
    "subs = 'levit|resnetd?|regnetx|vgg|convnext.*|efficientnetv2|beit'\n",
    "def show_subs(df, title, size):\n",
    "    df_subs = df[df.family.str.fullmatch(subs)]\n",
    "    return px.scatter(df_subs, width=w, height=h, size=df_subs[size]**2, title=title,\n",
    "        trendline=\"ols\", trendline_options={'log_x':True},\n",
    "        x='secs',  y='top1', log_x=True, color='family', hover_name='model', hover_data=[size])"
   ]
  },
  {
   "cell_type": "code",
   "execution_count": 76,
   "metadata": {},
   "outputs": [
    {
     "data": {
      "application/vnd.plotly.v1+json": {
       "config": {
        "plotlyServerURL": "https://plot.ly"
       },
       "data": [
        {
         "customdata": [
          [
           224
          ],
          [
           224
          ],
          [
           224
          ],
          [
           224
          ],
          [
           224
          ]
         ],
         "hovertemplate": "<b>%{hovertext}</b><br><br>family=levit<br>secs=%{x}<br>top1=%{y}<br>size=%{marker.size}<br>infer_img_size=%{customdata[0]}<extra></extra>",
         "hovertext": [
          "levit_128s",
          "levit_128",
          "levit_192",
          "levit_256",
          "levit_384"
         ],
         "legendgroup": "levit",
         "marker": {
          "color": "#636efa",
          "size": [
           50176,
           50176,
           50176,
           50176,
           50176
          ],
          "sizemode": "area",
          "sizeref": 655.36,
          "symbol": "circle"
         },
         "mode": "markers",
         "name": "levit",
         "orientation": "v",
         "showlegend": true,
         "type": "scatter",
         "x": [
          0.00005009136665277466,
          0.00007310064423597765,
          0.00008550377541920364,
          0.00011725501323809099,
          0.00019315572021007615
         ],
         "xaxis": "x",
         "y": [
          76.526,
          78.49,
          79.838,
          81.524,
          82.596
         ],
         "yaxis": "y"
        },
        {
         "hovertemplate": "<b>OLS trendline</b><br>top1 = 10.6294 * log10(secs) + 122.63<br>R<sup>2</sup>=0.950282<br><br>family=levit<br>secs=%{x}<br>top1=%{y} <b>(trend)</b><extra></extra>",
         "legendgroup": "levit",
         "marker": {
          "color": "#636efa",
          "symbol": "circle"
         },
         "mode": "lines",
         "name": "levit",
         "showlegend": false,
         "type": "scatter",
         "x": [
          0.00005009136665277466,
          0.00007310064423597765,
          0.00008550377541920364,
          0.00011725501323809099,
          0.00019315572021007615
         ],
         "xaxis": "x",
         "y": [
          76.92083481077468,
          78.6657398077224,
          79.38922042645277,
          80.8470019136646,
          83.15120304138539
         ],
         "yaxis": "y"
        },
        {
         "customdata": [
          [
           224
          ],
          [
           224
          ],
          [
           224
          ],
          [
           224
          ],
          [
           224
          ],
          [
           224
          ],
          [
           224
          ],
          [
           224
          ],
          [
           224
          ],
          [
           224
          ],
          [
           224
          ],
          [
           224
          ],
          [
           224
          ],
          [
           224
          ],
          [
           224
          ],
          [
           224
          ],
          [
           224
          ],
          [
           224
          ]
         ],
         "hovertemplate": "<b>%{hovertext}</b><br><br>family=regnetx<br>secs=%{x}<br>top1=%{y}<br>size=%{marker.size}<br>infer_img_size=%{customdata[0]}<extra></extra>",
         "hovertext": [
          "regnetx_002",
          "regnetx_004",
          "regnetx_006",
          "regnetx_008",
          "regnetx_008",
          "regnetx_016",
          "regnetx_016",
          "regnetx_032",
          "regnetx_032",
          "regnetx_040",
          "regnetx_080",
          "regnetx_080",
          "regnetx_064",
          "regnetx_120",
          "regnetx_160",
          "regnetx_160",
          "regnetx_320",
          "regnetx_320"
         ],
         "legendgroup": "regnetx",
         "marker": {
          "color": "#EF553B",
          "size": [
           50176,
           50176,
           50176,
           50176,
           50176,
           50176,
           50176,
           50176,
           50176,
           50176,
           50176,
           50176,
           50176,
           50176,
           50176,
           50176,
           50176,
           50176
          ],
          "sizemode": "area",
          "sizeref": 655.36,
          "symbol": "circle"
         },
         "mode": "markers",
         "name": "regnetx",
         "orientation": "v",
         "showlegend": true,
         "type": "scatter",
         "x": [
          0.00006158181513631751,
          0.0000993068382688832,
          0.00012414556812736342,
          0.0001572683123222868,
          0.0001572683123222868,
          0.00027466868090365995,
          0.00027466868090365995,
          0.00045423162178858246,
          0.00045423162178858246,
          0.0004991938020097543,
          0.0006456111355008651,
          0.0006456111355008651,
          0.0006894269483205559,
          0.0009537616358919578,
          0.001178647619721132,
          0.001178647619721132,
          0.0021347451114336947,
          0.0021347451114336947
         ],
         "xaxis": "x",
         "y": [
          68.752,
          72.402,
          73.868,
          77.306,
          75.028,
          79.436,
          76.924,
          80.926,
          78.168,
          78.492,
          81.54,
          79.198,
          79.066,
          79.588,
          82.566,
          79.866,
          82.81,
          80.246
         ],
         "yaxis": "y"
        },
        {
         "hovertemplate": "<b>OLS trendline</b><br>top1 = 7.12585 * log10(secs) + 102.11<br>R<sup>2</sup>=0.777404<br><br>family=regnetx<br>secs=%{x}<br>top1=%{y} <b>(trend)</b><extra></extra>",
         "legendgroup": "regnetx",
         "marker": {
          "color": "#EF553B",
          "symbol": "circle"
         },
         "mode": "lines",
         "name": "regnetx",
         "showlegend": false,
         "type": "scatter",
         "x": [
          0.00006158181513631751,
          0.0000993068382688832,
          0.00012414556812736342,
          0.0001572683123222868,
          0.0001572683123222868,
          0.00027466868090365995,
          0.00027466868090365995,
          0.00045423162178858246,
          0.00045423162178858246,
          0.0004991938020097543,
          0.0006456111355008651,
          0.0006456111355008651,
          0.0006894269483205559,
          0.0009537616358919578,
          0.001178647619721132,
          0.001178647619721132,
          0.0021347451114336947,
          0.0021347451114336947
         ],
         "xaxis": "x",
         "y": [
          72.10650341455326,
          73.58530671264232,
          74.27617229766071,
          75.00806808779497,
          75.00806808779497,
          76.73371960634512,
          76.73371960634512,
          78.29049074149079,
          78.29049074149079,
          78.582592177853,
          79.37856231568541,
          79.37856231568541,
          79.5817718239463,
          80.58617132173924,
          81.2413511554762,
          81.2413511554762,
          83.07954921901027,
          83.07954921901027
         ],
         "yaxis": "y"
        },
        {
         "customdata": [
          [
           224
          ],
          [
           224
          ],
          [
           224
          ],
          [
           224
          ],
          [
           224
          ],
          [
           224
          ],
          [
           224
          ],
          [
           224
          ],
          [
           224
          ],
          [
           224
          ],
          [
           224
          ],
          [
           224
          ],
          [
           224
          ],
          [
           224
          ],
          [
           256
          ],
          [
           224
          ],
          [
           224
          ],
          [
           224
          ],
          [
           224
          ],
          [
           224
          ],
          [
           224
          ],
          [
           224
          ],
          [
           224
          ],
          [
           224
          ],
          [
           224
          ],
          [
           224
          ],
          [
           224
          ],
          [
           224
          ],
          [
           224
          ],
          [
           224
          ],
          [
           224
          ],
          [
           224
          ],
          [
           224
          ],
          [
           256
          ],
          [
           256
          ],
          [
           224
          ],
          [
           224
          ],
          [
           224
          ],
          [
           224
          ],
          [
           224
          ],
          [
           224
          ],
          [
           224
          ],
          [
           288
          ],
          [
           288
          ],
          [
           224
          ],
          [
           224
          ],
          [
           224
          ],
          [
           224
          ],
          [
           224
          ],
          [
           224
          ],
          [
           224
          ]
         ],
         "hovertemplate": "<b>%{hovertext}</b><br><br>family=resnet<br>secs=%{x}<br>top1=%{y}<br>size=%{marker.size}<br>infer_img_size=%{customdata[0]}<extra></extra>",
         "hovertext": [
          "resnet18",
          "resnet18",
          "resnet18",
          "resnet18",
          "resnet18",
          "resnet18",
          "resnet18",
          "resnet34",
          "resnet34",
          "resnet34",
          "resnet34",
          "resnet34",
          "resnet34",
          "resnet26",
          "resnet26t",
          "resnet50",
          "resnet50",
          "resnet50",
          "resnet50",
          "resnet50",
          "resnet50",
          "resnet50",
          "resnet50",
          "resnet50",
          "resnet50",
          "resnet50",
          "resnet50",
          "resnet50",
          "resnet50",
          "resnet50",
          "resnet50",
          "resnet50",
          "resnet50",
          "resnet32ts",
          "resnet33ts",
          "resnet101",
          "resnet101",
          "resnet101",
          "resnet101",
          "resnet101",
          "resnet101",
          "resnet101",
          "resnet51q",
          "resnet61q",
          "resnet152",
          "resnet152",
          "resnet152",
          "resnet152",
          "resnet152",
          "resnet152",
          "resnet152"
         ],
         "legendgroup": "resnet",
         "marker": {
          "color": "#00cc96",
          "size": [
           50176,
           50176,
           50176,
           50176,
           50176,
           50176,
           50176,
           50176,
           50176,
           50176,
           50176,
           50176,
           50176,
           50176,
           65536,
           50176,
           50176,
           50176,
           50176,
           50176,
           50176,
           50176,
           50176,
           50176,
           50176,
           50176,
           50176,
           50176,
           50176,
           50176,
           50176,
           50176,
           50176,
           65536,
           65536,
           50176,
           50176,
           50176,
           50176,
           50176,
           50176,
           50176,
           82944,
           82944,
           50176,
           50176,
           50176,
           50176,
           50176,
           50176,
           50176
          ],
          "sizemode": "area",
          "sizeref": 655.36,
          "symbol": "circle"
         },
         "mode": "markers",
         "name": "resnet",
         "orientation": "v",
         "showlegend": true,
         "type": "scatter",
         "x": [
          0.00011201657845361113,
          0.00011201657845361113,
          0.00011201657845361113,
          0.00011201657845361113,
          0.00011201657845361113,
          0.00011201657845361113,
          0.00011201657845361113,
          0.00019086519191495045,
          0.00019086519191495045,
          0.00019086519191495045,
          0.00019086519191495045,
          0.00019086519191495045,
          0.00019086519191495045,
          0.00023253218245405165,
          0.000328893274132544,
          0.0003729659370209719,
          0.0003729659370209719,
          0.0003729659370209719,
          0.0003729659370209719,
          0.0003729659370209719,
          0.0003729659370209719,
          0.0003729659370209719,
          0.0003729659370209719,
          0.0003729659370209719,
          0.0003729659370209719,
          0.0003729659370209719,
          0.0003729659370209719,
          0.0003729659370209719,
          0.0003729659370209719,
          0.0003729659370209719,
          0.0003729659370209719,
          0.0003729659370209719,
          0.0003729659370209719,
          0.0003858441498310003,
          0.0003920200400644481,
          0.0006051620321341039,
          0.0006051620321341039,
          0.0006051620321341039,
          0.0006051620321341039,
          0.0006051620321341039,
          0.0006051620321341039,
          0.0006051620321341039,
          0.0007319894007934765,
          0.0008086820100600043,
          0.0008669568082118149,
          0.0008669568082118149,
          0.0008669568082118149,
          0.0008669568082118149,
          0.0008669568082118149,
          0.0008669568082118149,
          0.0008669568082118149
         ],
         "xaxis": "x",
         "y": [
          73.288,
          73.158,
          72.598,
          72.372,
          70.834,
          69.76,
          68.252,
          77.918,
          77.158,
          76.48,
          74.58,
          73.306,
          72.97,
          76.366,
          78.328,
          81.214,
          81.172,
          80.972,
          80.912,
          80.87,
          80.848,
          80.772,
          80.706,
          80.678,
          80.454,
          79.976,
          79.836,
          79.64,
          79.23,
          79.002,
          78.048,
          77.582,
          76.128,
          79.388,
          79.726,
          82.778,
          82.322,
          82.236,
          81.888,
          79.814,
          79.31,
          77.38,
          82.36,
          82.524,
          83.45,
          82.732,
          82.608,
          82.286,
          80.546,
          79.696,
          78.322
         ],
         "yaxis": "y"
        },
        {
         "hovertemplate": "<b>OLS trendline</b><br>top1 = 11.5362 * log10(secs) + 118.292<br>R<sup>2</sup>=0.744980<br><br>family=resnet<br>secs=%{x}<br>top1=%{y} <b>(trend)</b><extra></extra>",
         "legendgroup": "resnet",
         "marker": {
          "color": "#00cc96",
          "symbol": "circle"
         },
         "mode": "lines",
         "name": "resnet",
         "showlegend": false,
         "type": "scatter",
         "x": [
          0.00011201657845361113,
          0.00011201657845361113,
          0.00011201657845361113,
          0.00011201657845361113,
          0.00011201657845361113,
          0.00011201657845361113,
          0.00011201657845361113,
          0.00019086519191495045,
          0.00019086519191495045,
          0.00019086519191495045,
          0.00019086519191495045,
          0.00019086519191495045,
          0.00019086519191495045,
          0.00023253218245405165,
          0.000328893274132544,
          0.0003729659370209719,
          0.0003729659370209719,
          0.0003729659370209719,
          0.0003729659370209719,
          0.0003729659370209719,
          0.0003729659370209719,
          0.0003729659370209719,
          0.0003729659370209719,
          0.0003729659370209719,
          0.0003729659370209719,
          0.0003729659370209719,
          0.0003729659370209719,
          0.0003729659370209719,
          0.0003729659370209719,
          0.0003729659370209719,
          0.0003729659370209719,
          0.0003729659370209719,
          0.0003729659370209719,
          0.0003858441498310003,
          0.0003920200400644481,
          0.0006051620321341039,
          0.0006051620321341039,
          0.0006051620321341039,
          0.0006051620321341039,
          0.0006051620321341039,
          0.0006051620321341039,
          0.0006051620321341039,
          0.0007319894007934765,
          0.0008086820100600043,
          0.0008669568082118149,
          0.0008669568082118149,
          0.0008669568082118149,
          0.0008669568082118149,
          0.0008669568082118149,
          0.0008669568082118149,
          0.0008669568082118149
         ],
         "xaxis": "x",
         "y": [
          72.7160374018935,
          72.7160374018935,
          72.7160374018935,
          72.7160374018935,
          72.7160374018935,
          72.7160374018935,
          72.7160374018935,
          75.38602170324037,
          75.38602170324037,
          75.38602170324037,
          75.38602170324037,
          75.38602170324037,
          75.38602170324037,
          76.37532209947041,
          78.1123467239467,
          78.74238563089432,
          78.74238563089432,
          78.74238563089432,
          78.74238563089432,
          78.74238563089432,
          78.74238563089432,
          78.74238563089432,
          78.74238563089432,
          78.74238563089432,
          78.74238563089432,
          78.74238563089432,
          78.74238563089432,
          78.74238563089432,
          78.74238563089432,
          78.74238563089432,
          78.74238563089432,
          78.74238563089432,
          78.74238563089432,
          78.9124606331769,
          78.99201814581362,
          81.1673192640457,
          81.1673192640457,
          81.1673192640457,
          81.1673192640457,
          81.1673192640457,
          81.1673192640457,
          81.1673192640457,
          82.12058970020293,
          82.61979463749982,
          82.96841426039681,
          82.96841426039681,
          82.96841426039681,
          82.96841426039681,
          82.96841426039681,
          82.96841426039681,
          82.96841426039681
         ],
         "yaxis": "y"
        },
        {
         "customdata": [
          [
           224
          ],
          [
           224
          ],
          [
           224
          ],
          [
           224
          ],
          [
           224
          ],
          [
           224
          ],
          [
           224
          ],
          [
           224
          ],
          [
           320
          ],
          [
           320
          ],
          [
           320
          ],
          [
           320
          ],
          [
           320
          ]
         ],
         "hovertemplate": "<b>%{hovertext}</b><br><br>family=resnetd<br>secs=%{x}<br>top1=%{y}<br>size=%{marker.size}<br>infer_img_size=%{customdata[0]}<extra></extra>",
         "hovertext": [
          "resnet18d",
          "resnet34d",
          "resnet26d",
          "resnet50d",
          "resnet50d",
          "resnet50d",
          "resnet50d",
          "resnet50d",
          "resnet101d",
          "resnet101d",
          "resnet152d",
          "resnet152d",
          "resnet200d"
         ],
         "legendgroup": "resnetd",
         "marker": {
          "color": "#ab63fa",
          "size": [
           50176,
           50176,
           50176,
           50176,
           50176,
           50176,
           50176,
           50176,
           102400,
           102400,
           102400,
           102400,
           102400
          ],
          "sizemode": "area",
          "sizeref": 655.36,
          "symbol": "circle"
         },
         "mode": "markers",
         "name": "resnetd",
         "orientation": "v",
         "showlegend": true,
         "type": "scatter",
         "x": [
          0.00013372148222239754,
          0.00021241299032883653,
          0.0002566339886054509,
          0.0003972399766422894,
          0.0003972399766422894,
          0.0003972399766422894,
          0.0003972399766422894,
          0.0003972399766422894,
          0.0012560762689510507,
          0.0012560762689510507,
          0.001781610219316218,
          0.001781610219316218,
          0.002475186257765897
         ],
         "xaxis": "x",
         "y": [
          73.794,
          78.436,
          77.408,
          81.45,
          81.356,
          81.164,
          79.078,
          78.72,
          83.02,
          80.426,
          83.684,
          80.476,
          83.964
         ],
         "yaxis": "y"
        },
        {
         "hovertemplate": "<b>OLS trendline</b><br>top1 = 5.59805 * log10(secs) + 98.3359<br>R<sup>2</sup>=0.654334<br><br>family=resnetd<br>secs=%{x}<br>top1=%{y} <b>(trend)</b><extra></extra>",
         "legendgroup": "resnetd",
         "marker": {
          "color": "#ab63fa",
          "symbol": "circle"
         },
         "mode": "lines",
         "name": "resnetd",
         "showlegend": false,
         "type": "scatter",
         "x": [
          0.00013372148222239754,
          0.00021241299032883653,
          0.0002566339886054509,
          0.0003972399766422894,
          0.0003972399766422894,
          0.0003972399766422894,
          0.0003972399766422894,
          0.0003972399766422894,
          0.0012560762689510507,
          0.0012560762689510507,
          0.001781610219316218,
          0.001781610219316218,
          0.002475186257765897
         ],
         "xaxis": "x",
         "y": [
          76.65021148920297,
          77.77530779498996,
          78.23509333807856,
          79.29726126138146,
          79.29726126138146,
          79.29726126138146,
          79.29726126138146,
          79.29726126138146,
          82.09608154143565,
          82.09608154143565,
          82.94584759577076,
          82.94584759577076,
          83.74522279640895
         ],
         "yaxis": "y"
        },
        {
         "customdata": [
          [
           224
          ],
          [
           224
          ],
          [
           224
          ],
          [
           224
          ]
         ],
         "hovertemplate": "<b>%{hovertext}</b><br><br>family=vgg<br>secs=%{x}<br>top1=%{y}<br>size=%{marker.size}<br>infer_img_size=%{customdata[0]}<extra></extra>",
         "hovertext": [
          "vgg11_bn",
          "vgg13_bn",
          "vgg16_bn",
          "vgg19_bn"
         ],
         "legendgroup": "vgg",
         "marker": {
          "color": "#FFA15A",
          "size": [
           50176,
           50176,
           50176,
           50176
          ],
          "sizemode": "area",
          "sizeref": 655.36,
          "symbol": "circle"
         },
         "mode": "markers",
         "name": "vgg",
         "orientation": "v",
         "showlegend": true,
         "type": "scatter",
         "x": [
          0.0003960835260939827,
          0.0006648538318850602,
          0.0008069917767537948,
          0.0009432271573963157
         ],
         "xaxis": "x",
         "y": [
          70.382,
          71.588,
          73.37,
          74.216
         ],
         "yaxis": "y"
        },
        {
         "hovertemplate": "<b>OLS trendline</b><br>top1 = 10.0536 * log10(secs) + 104.304<br>R<sup>2</sup>=0.909536<br><br>family=vgg<br>secs=%{x}<br>top1=%{y} <b>(trend)</b><extra></extra>",
         "legendgroup": "vgg",
         "marker": {
          "color": "#FFA15A",
          "symbol": "circle"
         },
         "mode": "lines",
         "name": "vgg",
         "showlegend": false,
         "type": "scatter",
         "x": [
          0.0003960835260939827,
          0.0006648538318850602,
          0.0008069917767537948,
          0.0009432271573963157
         ],
         "xaxis": "x",
         "y": [
          70.0996712651797,
          72.36111726097164,
          73.20705488734978,
          73.888156586499
         ],
         "yaxis": "y"
        },
        {
         "customdata": [
          [
           224
          ],
          [
           224
          ],
          [
           224
          ],
          [
           224
          ],
          [
           224
          ],
          [
           224
          ],
          [
           224
          ],
          [
           224
          ],
          [
           224
          ],
          [
           224
          ],
          [
           224
          ],
          [
           224
          ],
          [
           224
          ],
          [
           224
          ],
          [
           224
          ],
          [
           224
          ],
          [
           224
          ],
          [
           224
          ],
          [
           224
          ],
          [
           224
          ],
          [
           224
          ]
         ],
         "hovertemplate": "<b>%{hovertext}</b><br><br>family=convnext<br>secs=%{x}<br>top1=%{y}<br>size=%{marker.size}<br>infer_img_size=%{customdata[0]}<extra></extra>",
         "hovertext": [
          "convnext_tiny",
          "convnext_tiny",
          "convnext_tiny",
          "convnext_tiny",
          "convnext_tiny",
          "convnext_tiny_hnf",
          "convnext_small",
          "convnext_small",
          "convnext_small",
          "convnext_small",
          "convnext_small",
          "convnext_base",
          "convnext_base",
          "convnext_base",
          "convnext_base",
          "convnext_base",
          "convnext_base",
          "convnext_base",
          "convnext_large",
          "convnext_large",
          "convnext_large"
         ],
         "legendgroup": "convnext",
         "marker": {
          "color": "#19d3f3",
          "size": [
           50176,
           50176,
           50176,
           50176,
           50176,
           50176,
           50176,
           50176,
           50176,
           50176,
           50176,
           50176,
           50176,
           50176,
           50176,
           50176,
           50176,
           50176,
           50176,
           50176,
           50176
          ],
          "sizemode": "area",
          "sizeref": 655.36,
          "symbol": "circle"
         },
         "mode": "markers",
         "name": "convnext",
         "orientation": "v",
         "showlegend": true,
         "type": "scatter",
         "x": [
          0.0004393055457932101,
          0.0004393055457932101,
          0.0004393055457932101,
          0.0004393055457932101,
          0.0004393055457932101,
          0.0004817976835167377,
          0.0007080999553897028,
          0.0007080999553897028,
          0.0007080999553897028,
          0.0007080999553897028,
          0.0007080999553897028,
          0.0010158059404331396,
          0.0010158059404331396,
          0.0010158059404331396,
          0.0010158059404331396,
          0.0010158059404331396,
          0.0010158059404331396,
          0.0010158059404331396,
          0.0018311999853504,
          0.0018311999853504,
          0.0018311999853504
         ],
         "xaxis": "x",
         "y": [
          85.122,
          84.45,
          84.088,
          82.698,
          78.898,
          82.584,
          86.182,
          85.778,
          85.33,
          85.262,
          83.7,
          87.134,
          86.796,
          86.502,
          86.37,
          86.274,
          86.158,
          84.428,
          87.472,
          87.026,
          84.846
         ],
         "yaxis": "y"
        },
        {
         "hovertemplate": "<b>OLS trendline</b><br>top1 = 6.31568 * log10(secs) + 104.654<br>R<sup>2</sup>=0.438692<br><br>family=convnext<br>secs=%{x}<br>top1=%{y} <b>(trend)</b><extra></extra>",
         "legendgroup": "convnext",
         "marker": {
          "color": "#19d3f3",
          "symbol": "circle"
         },
         "mode": "lines",
         "name": "convnext",
         "showlegend": false,
         "type": "scatter",
         "x": [
          0.0004393055457932101,
          0.0004393055457932101,
          0.0004393055457932101,
          0.0004393055457932101,
          0.0004393055457932101,
          0.0004817976835167377,
          0.0007080999553897028,
          0.0007080999553897028,
          0.0007080999553897028,
          0.0007080999553897028,
          0.0007080999553897028,
          0.0010158059404331396,
          0.0010158059404331396,
          0.0010158059404331396,
          0.0010158059404331396,
          0.0010158059404331396,
          0.0010158059404331396,
          0.0010158059404331396,
          0.0018311999853504,
          0.0018311999853504,
          0.0018311999853504
         ],
         "xaxis": "x",
         "y": [
          83.4503238062147,
          83.4503238062147,
          83.4503238062147,
          83.4503238062147,
          83.4503238062147,
          83.70357001622254,
          84.75974002813169,
          84.75974002813169,
          84.75974002813169,
          84.75974002813169,
          84.75974002813169,
          85.7495090295623,
          85.7495090295623,
          85.7495090295623,
          85.7495090295623,
          85.7495090295623,
          85.7495090295623,
          85.7495090295623,
          87.36584920170311,
          87.36584920170311,
          87.36584920170311
         ],
         "yaxis": "y"
        },
        {
         "customdata": [
          [
           288
          ],
          [
           384
          ],
          [
           416
          ]
         ],
         "hovertemplate": "<b>%{hovertext}</b><br><br>family=efficientnetv2<br>secs=%{x}<br>top1=%{y}<br>size=%{marker.size}<br>infer_img_size=%{customdata[0]}<extra></extra>",
         "hovertext": [
          "efficientnetv2_rw_t",
          "efficientnetv2_rw_s",
          "efficientnetv2_rw_m"
         ],
         "legendgroup": "efficientnetv2",
         "marker": {
          "color": "#FF6692",
          "size": [
           82944,
           147456,
           173056
          ],
          "sizemode": "area",
          "sizeref": 655.36,
          "symbol": "circle"
         },
         "mode": "markers",
         "name": "efficientnetv2",
         "orientation": "v",
         "showlegend": true,
         "type": "scatter",
         "x": [
          0.0005000500050005,
          0.0011540547714394525,
          0.002457727093983484
         ],
         "xaxis": "x",
         "y": [
          82.35,
          83.806,
          84.81
         ],
         "yaxis": "y"
        },
        {
         "hovertemplate": "<b>OLS trendline</b><br>top1 = 3.56535 * log10(secs) + 94.171<br>R<sup>2</sup>=0.994151<br><br>family=efficientnetv2<br>secs=%{x}<br>top1=%{y} <b>(trend)</b><extra></extra>",
         "legendgroup": "efficientnetv2",
         "marker": {
          "color": "#FF6692",
          "symbol": "circle"
         },
         "mode": "lines",
         "name": "efficientnetv2",
         "showlegend": false,
         "type": "scatter",
         "x": [
          0.0005000500050005,
          0.0011540547714394525,
          0.002457727093983484
         ],
         "xaxis": "x",
         "y": [
          82.40183586399502,
          83.6968170634715,
          84.86734707253338
         ],
         "yaxis": "y"
        },
        {
         "customdata": [
          [
           224
          ],
          [
           224
          ],
          [
           384
          ],
          [
           384
          ],
          [
           512
          ]
         ],
         "hovertemplate": "<b>%{hovertext}</b><br><br>family=beit<br>secs=%{x}<br>top1=%{y}<br>size=%{marker.size}<br>infer_img_size=%{customdata[0]}<extra></extra>",
         "hovertext": [
          "beit_base_patch16_224",
          "beit_large_patch16_224",
          "beit_base_patch16_384",
          "beit_large_patch16_384",
          "beit_large_patch16_512"
         ],
         "legendgroup": "beit",
         "marker": {
          "color": "#B6E880",
          "size": [
           50176,
           50176,
           147456,
           147456,
           262144
          ],
          "sizemode": "area",
          "sizeref": 655.36,
          "symbol": "circle"
         },
         "mode": "markers",
         "name": "beit",
         "orientation": "v",
         "showlegend": true,
         "type": "scatter",
         "x": [
          0.0009961548423086885,
          0.003026084851419234,
          0.0041459369817578775,
          0.012100677637947725,
          0.030030030030030033
         ],
         "xaxis": "x",
         "y": [
          85.212,
          87.478,
          86.8,
          88.402,
          88.596
         ],
         "yaxis": "y"
        },
        {
         "hovertemplate": "<b>OLS trendline</b><br>top1 = 2.24011 * log10(secs) + 92.3794<br>R<sup>2</sup>=0.861281<br><br>family=beit<br>secs=%{x}<br>top1=%{y} <b>(trend)</b><extra></extra>",
         "legendgroup": "beit",
         "marker": {
          "color": "#B6E880",
          "symbol": "circle"
         },
         "mode": "lines",
         "name": "beit",
         "showlegend": false,
         "type": "scatter",
         "x": [
          0.0009961548423086885,
          0.003026084851419234,
          0.0041459369817578775,
          0.012100677637947725,
          0.030030030030030033
         ],
         "xaxis": "x",
         "y": [
          85.65534509408927,
          86.73632137777054,
          87.04263806842506,
          88.0847097275389,
          88.96898573217614
         ],
         "yaxis": "y"
        }
       ],
       "layout": {
        "height": 800,
        "legend": {
         "itemsizing": "constant",
         "title": {
          "text": "family"
         },
         "tracegroupgap": 0
        },
        "template": {
         "data": {
          "bar": [
           {
            "error_x": {
             "color": "#2a3f5f"
            },
            "error_y": {
             "color": "#2a3f5f"
            },
            "marker": {
             "line": {
              "color": "#E5ECF6",
              "width": 0.5
             },
             "pattern": {
              "fillmode": "overlay",
              "size": 10,
              "solidity": 0.2
             }
            },
            "type": "bar"
           }
          ],
          "barpolar": [
           {
            "marker": {
             "line": {
              "color": "#E5ECF6",
              "width": 0.5
             },
             "pattern": {
              "fillmode": "overlay",
              "size": 10,
              "solidity": 0.2
             }
            },
            "type": "barpolar"
           }
          ],
          "carpet": [
           {
            "aaxis": {
             "endlinecolor": "#2a3f5f",
             "gridcolor": "white",
             "linecolor": "white",
             "minorgridcolor": "white",
             "startlinecolor": "#2a3f5f"
            },
            "baxis": {
             "endlinecolor": "#2a3f5f",
             "gridcolor": "white",
             "linecolor": "white",
             "minorgridcolor": "white",
             "startlinecolor": "#2a3f5f"
            },
            "type": "carpet"
           }
          ],
          "choropleth": [
           {
            "colorbar": {
             "outlinewidth": 0,
             "ticks": ""
            },
            "type": "choropleth"
           }
          ],
          "contour": [
           {
            "colorbar": {
             "outlinewidth": 0,
             "ticks": ""
            },
            "colorscale": [
             [
              0,
              "#0d0887"
             ],
             [
              0.1111111111111111,
              "#46039f"
             ],
             [
              0.2222222222222222,
              "#7201a8"
             ],
             [
              0.3333333333333333,
              "#9c179e"
             ],
             [
              0.4444444444444444,
              "#bd3786"
             ],
             [
              0.5555555555555556,
              "#d8576b"
             ],
             [
              0.6666666666666666,
              "#ed7953"
             ],
             [
              0.7777777777777778,
              "#fb9f3a"
             ],
             [
              0.8888888888888888,
              "#fdca26"
             ],
             [
              1,
              "#f0f921"
             ]
            ],
            "type": "contour"
           }
          ],
          "contourcarpet": [
           {
            "colorbar": {
             "outlinewidth": 0,
             "ticks": ""
            },
            "type": "contourcarpet"
           }
          ],
          "heatmap": [
           {
            "colorbar": {
             "outlinewidth": 0,
             "ticks": ""
            },
            "colorscale": [
             [
              0,
              "#0d0887"
             ],
             [
              0.1111111111111111,
              "#46039f"
             ],
             [
              0.2222222222222222,
              "#7201a8"
             ],
             [
              0.3333333333333333,
              "#9c179e"
             ],
             [
              0.4444444444444444,
              "#bd3786"
             ],
             [
              0.5555555555555556,
              "#d8576b"
             ],
             [
              0.6666666666666666,
              "#ed7953"
             ],
             [
              0.7777777777777778,
              "#fb9f3a"
             ],
             [
              0.8888888888888888,
              "#fdca26"
             ],
             [
              1,
              "#f0f921"
             ]
            ],
            "type": "heatmap"
           }
          ],
          "heatmapgl": [
           {
            "colorbar": {
             "outlinewidth": 0,
             "ticks": ""
            },
            "colorscale": [
             [
              0,
              "#0d0887"
             ],
             [
              0.1111111111111111,
              "#46039f"
             ],
             [
              0.2222222222222222,
              "#7201a8"
             ],
             [
              0.3333333333333333,
              "#9c179e"
             ],
             [
              0.4444444444444444,
              "#bd3786"
             ],
             [
              0.5555555555555556,
              "#d8576b"
             ],
             [
              0.6666666666666666,
              "#ed7953"
             ],
             [
              0.7777777777777778,
              "#fb9f3a"
             ],
             [
              0.8888888888888888,
              "#fdca26"
             ],
             [
              1,
              "#f0f921"
             ]
            ],
            "type": "heatmapgl"
           }
          ],
          "histogram": [
           {
            "marker": {
             "pattern": {
              "fillmode": "overlay",
              "size": 10,
              "solidity": 0.2
             }
            },
            "type": "histogram"
           }
          ],
          "histogram2d": [
           {
            "colorbar": {
             "outlinewidth": 0,
             "ticks": ""
            },
            "colorscale": [
             [
              0,
              "#0d0887"
             ],
             [
              0.1111111111111111,
              "#46039f"
             ],
             [
              0.2222222222222222,
              "#7201a8"
             ],
             [
              0.3333333333333333,
              "#9c179e"
             ],
             [
              0.4444444444444444,
              "#bd3786"
             ],
             [
              0.5555555555555556,
              "#d8576b"
             ],
             [
              0.6666666666666666,
              "#ed7953"
             ],
             [
              0.7777777777777778,
              "#fb9f3a"
             ],
             [
              0.8888888888888888,
              "#fdca26"
             ],
             [
              1,
              "#f0f921"
             ]
            ],
            "type": "histogram2d"
           }
          ],
          "histogram2dcontour": [
           {
            "colorbar": {
             "outlinewidth": 0,
             "ticks": ""
            },
            "colorscale": [
             [
              0,
              "#0d0887"
             ],
             [
              0.1111111111111111,
              "#46039f"
             ],
             [
              0.2222222222222222,
              "#7201a8"
             ],
             [
              0.3333333333333333,
              "#9c179e"
             ],
             [
              0.4444444444444444,
              "#bd3786"
             ],
             [
              0.5555555555555556,
              "#d8576b"
             ],
             [
              0.6666666666666666,
              "#ed7953"
             ],
             [
              0.7777777777777778,
              "#fb9f3a"
             ],
             [
              0.8888888888888888,
              "#fdca26"
             ],
             [
              1,
              "#f0f921"
             ]
            ],
            "type": "histogram2dcontour"
           }
          ],
          "mesh3d": [
           {
            "colorbar": {
             "outlinewidth": 0,
             "ticks": ""
            },
            "type": "mesh3d"
           }
          ],
          "parcoords": [
           {
            "line": {
             "colorbar": {
              "outlinewidth": 0,
              "ticks": ""
             }
            },
            "type": "parcoords"
           }
          ],
          "pie": [
           {
            "automargin": true,
            "type": "pie"
           }
          ],
          "scatter": [
           {
            "fillpattern": {
             "fillmode": "overlay",
             "size": 10,
             "solidity": 0.2
            },
            "type": "scatter"
           }
          ],
          "scatter3d": [
           {
            "line": {
             "colorbar": {
              "outlinewidth": 0,
              "ticks": ""
             }
            },
            "marker": {
             "colorbar": {
              "outlinewidth": 0,
              "ticks": ""
             }
            },
            "type": "scatter3d"
           }
          ],
          "scattercarpet": [
           {
            "marker": {
             "colorbar": {
              "outlinewidth": 0,
              "ticks": ""
             }
            },
            "type": "scattercarpet"
           }
          ],
          "scattergeo": [
           {
            "marker": {
             "colorbar": {
              "outlinewidth": 0,
              "ticks": ""
             }
            },
            "type": "scattergeo"
           }
          ],
          "scattergl": [
           {
            "marker": {
             "colorbar": {
              "outlinewidth": 0,
              "ticks": ""
             }
            },
            "type": "scattergl"
           }
          ],
          "scattermapbox": [
           {
            "marker": {
             "colorbar": {
              "outlinewidth": 0,
              "ticks": ""
             }
            },
            "type": "scattermapbox"
           }
          ],
          "scatterpolar": [
           {
            "marker": {
             "colorbar": {
              "outlinewidth": 0,
              "ticks": ""
             }
            },
            "type": "scatterpolar"
           }
          ],
          "scatterpolargl": [
           {
            "marker": {
             "colorbar": {
              "outlinewidth": 0,
              "ticks": ""
             }
            },
            "type": "scatterpolargl"
           }
          ],
          "scatterternary": [
           {
            "marker": {
             "colorbar": {
              "outlinewidth": 0,
              "ticks": ""
             }
            },
            "type": "scatterternary"
           }
          ],
          "surface": [
           {
            "colorbar": {
             "outlinewidth": 0,
             "ticks": ""
            },
            "colorscale": [
             [
              0,
              "#0d0887"
             ],
             [
              0.1111111111111111,
              "#46039f"
             ],
             [
              0.2222222222222222,
              "#7201a8"
             ],
             [
              0.3333333333333333,
              "#9c179e"
             ],
             [
              0.4444444444444444,
              "#bd3786"
             ],
             [
              0.5555555555555556,
              "#d8576b"
             ],
             [
              0.6666666666666666,
              "#ed7953"
             ],
             [
              0.7777777777777778,
              "#fb9f3a"
             ],
             [
              0.8888888888888888,
              "#fdca26"
             ],
             [
              1,
              "#f0f921"
             ]
            ],
            "type": "surface"
           }
          ],
          "table": [
           {
            "cells": {
             "fill": {
              "color": "#EBF0F8"
             },
             "line": {
              "color": "white"
             }
            },
            "header": {
             "fill": {
              "color": "#C8D4E3"
             },
             "line": {
              "color": "white"
             }
            },
            "type": "table"
           }
          ]
         },
         "layout": {
          "annotationdefaults": {
           "arrowcolor": "#2a3f5f",
           "arrowhead": 0,
           "arrowwidth": 1
          },
          "autotypenumbers": "strict",
          "coloraxis": {
           "colorbar": {
            "outlinewidth": 0,
            "ticks": ""
           }
          },
          "colorscale": {
           "diverging": [
            [
             0,
             "#8e0152"
            ],
            [
             0.1,
             "#c51b7d"
            ],
            [
             0.2,
             "#de77ae"
            ],
            [
             0.3,
             "#f1b6da"
            ],
            [
             0.4,
             "#fde0ef"
            ],
            [
             0.5,
             "#f7f7f7"
            ],
            [
             0.6,
             "#e6f5d0"
            ],
            [
             0.7,
             "#b8e186"
            ],
            [
             0.8,
             "#7fbc41"
            ],
            [
             0.9,
             "#4d9221"
            ],
            [
             1,
             "#276419"
            ]
           ],
           "sequential": [
            [
             0,
             "#0d0887"
            ],
            [
             0.1111111111111111,
             "#46039f"
            ],
            [
             0.2222222222222222,
             "#7201a8"
            ],
            [
             0.3333333333333333,
             "#9c179e"
            ],
            [
             0.4444444444444444,
             "#bd3786"
            ],
            [
             0.5555555555555556,
             "#d8576b"
            ],
            [
             0.6666666666666666,
             "#ed7953"
            ],
            [
             0.7777777777777778,
             "#fb9f3a"
            ],
            [
             0.8888888888888888,
             "#fdca26"
            ],
            [
             1,
             "#f0f921"
            ]
           ],
           "sequentialminus": [
            [
             0,
             "#0d0887"
            ],
            [
             0.1111111111111111,
             "#46039f"
            ],
            [
             0.2222222222222222,
             "#7201a8"
            ],
            [
             0.3333333333333333,
             "#9c179e"
            ],
            [
             0.4444444444444444,
             "#bd3786"
            ],
            [
             0.5555555555555556,
             "#d8576b"
            ],
            [
             0.6666666666666666,
             "#ed7953"
            ],
            [
             0.7777777777777778,
             "#fb9f3a"
            ],
            [
             0.8888888888888888,
             "#fdca26"
            ],
            [
             1,
             "#f0f921"
            ]
           ]
          },
          "colorway": [
           "#636efa",
           "#EF553B",
           "#00cc96",
           "#ab63fa",
           "#FFA15A",
           "#19d3f3",
           "#FF6692",
           "#B6E880",
           "#FF97FF",
           "#FECB52"
          ],
          "font": {
           "color": "#2a3f5f"
          },
          "geo": {
           "bgcolor": "white",
           "lakecolor": "white",
           "landcolor": "#E5ECF6",
           "showlakes": true,
           "showland": true,
           "subunitcolor": "white"
          },
          "hoverlabel": {
           "align": "left"
          },
          "hovermode": "closest",
          "mapbox": {
           "style": "light"
          },
          "paper_bgcolor": "white",
          "plot_bgcolor": "#E5ECF6",
          "polar": {
           "angularaxis": {
            "gridcolor": "white",
            "linecolor": "white",
            "ticks": ""
           },
           "bgcolor": "#E5ECF6",
           "radialaxis": {
            "gridcolor": "white",
            "linecolor": "white",
            "ticks": ""
           }
          },
          "scene": {
           "xaxis": {
            "backgroundcolor": "#E5ECF6",
            "gridcolor": "white",
            "gridwidth": 2,
            "linecolor": "white",
            "showbackground": true,
            "ticks": "",
            "zerolinecolor": "white"
           },
           "yaxis": {
            "backgroundcolor": "#E5ECF6",
            "gridcolor": "white",
            "gridwidth": 2,
            "linecolor": "white",
            "showbackground": true,
            "ticks": "",
            "zerolinecolor": "white"
           },
           "zaxis": {
            "backgroundcolor": "#E5ECF6",
            "gridcolor": "white",
            "gridwidth": 2,
            "linecolor": "white",
            "showbackground": true,
            "ticks": "",
            "zerolinecolor": "white"
           }
          },
          "shapedefaults": {
           "line": {
            "color": "#2a3f5f"
           }
          },
          "ternary": {
           "aaxis": {
            "gridcolor": "white",
            "linecolor": "white",
            "ticks": ""
           },
           "baxis": {
            "gridcolor": "white",
            "linecolor": "white",
            "ticks": ""
           },
           "bgcolor": "#E5ECF6",
           "caxis": {
            "gridcolor": "white",
            "linecolor": "white",
            "ticks": ""
           }
          },
          "title": {
           "x": 0.05
          },
          "xaxis": {
           "automargin": true,
           "gridcolor": "white",
           "linecolor": "white",
           "ticks": "",
           "title": {
            "standoff": 15
           },
           "zerolinecolor": "white",
           "zerolinewidth": 2
          },
          "yaxis": {
           "automargin": true,
           "gridcolor": "white",
           "linecolor": "white",
           "ticks": "",
           "title": {
            "standoff": 15
           },
           "zerolinecolor": "white",
           "zerolinewidth": 2
          }
         }
        },
        "title": {
         "text": "Inference"
        },
        "width": 1000,
        "xaxis": {
         "anchor": "y",
         "domain": [
          0,
          1
         ],
         "title": {
          "text": "secs"
         },
         "type": "log"
        },
        "yaxis": {
         "anchor": "x",
         "domain": [
          0,
          1
         ],
         "title": {
          "text": "top1"
         }
        }
       }
      }
     },
     "metadata": {},
     "output_type": "display_data"
    }
   ],
   "source": [
    "show_subs(df, 'Inference', 'infer_img_size')"
   ]
  },
  {
   "cell_type": "code",
   "execution_count": null,
   "metadata": {},
   "outputs": [],
   "source": []
  }
 ],
 "metadata": {
  "kernelspec": {
   "display_name": "torch",
   "language": "python",
   "name": "python3"
  },
  "language_info": {
   "codemirror_mode": {
    "name": "ipython",
    "version": 3
   },
   "file_extension": ".py",
   "mimetype": "text/x-python",
   "name": "python",
   "nbconvert_exporter": "python",
   "pygments_lexer": "ipython3",
   "version": "3.11.7"
  }
 },
 "nbformat": 4,
 "nbformat_minor": 2
}
