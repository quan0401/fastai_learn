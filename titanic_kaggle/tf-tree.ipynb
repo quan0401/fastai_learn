{
 "cells": [
  {
   "cell_type": "code",
   "execution_count": 1,
   "metadata": {},
   "outputs": [],
   "source": [
    "import numpy as np\n",
    "import pandas as pd\n",
    "import tensorflow as tf\n",
    "import tensorflow_decision_forests as tfdf"
   ]
  },
  {
   "cell_type": "code",
   "execution_count": 2,
   "metadata": {},
   "outputs": [
    {
     "data": {
      "text/html": [
       "<div>\n",
       "<style scoped>\n",
       "    .dataframe tbody tr th:only-of-type {\n",
       "        vertical-align: middle;\n",
       "    }\n",
       "\n",
       "    .dataframe tbody tr th {\n",
       "        vertical-align: top;\n",
       "    }\n",
       "\n",
       "    .dataframe thead th {\n",
       "        text-align: right;\n",
       "    }\n",
       "</style>\n",
       "<table border=\"1\" class=\"dataframe\">\n",
       "  <thead>\n",
       "    <tr style=\"text-align: right;\">\n",
       "      <th></th>\n",
       "      <th>PassengerId</th>\n",
       "      <th>Survived</th>\n",
       "      <th>Pclass</th>\n",
       "      <th>Name</th>\n",
       "      <th>Sex</th>\n",
       "      <th>Age</th>\n",
       "      <th>SibSp</th>\n",
       "      <th>Parch</th>\n",
       "      <th>Ticket</th>\n",
       "      <th>Fare</th>\n",
       "      <th>Cabin</th>\n",
       "      <th>Embarked</th>\n",
       "    </tr>\n",
       "  </thead>\n",
       "  <tbody>\n",
       "    <tr>\n",
       "      <th>0</th>\n",
       "      <td>1</td>\n",
       "      <td>0</td>\n",
       "      <td>3</td>\n",
       "      <td>Braund, Mr. Owen Harris</td>\n",
       "      <td>male</td>\n",
       "      <td>22.0</td>\n",
       "      <td>1</td>\n",
       "      <td>0</td>\n",
       "      <td>A/5 21171</td>\n",
       "      <td>7.2500</td>\n",
       "      <td>NaN</td>\n",
       "      <td>S</td>\n",
       "    </tr>\n",
       "    <tr>\n",
       "      <th>1</th>\n",
       "      <td>2</td>\n",
       "      <td>1</td>\n",
       "      <td>1</td>\n",
       "      <td>Cumings, Mrs. John Bradley (Florence Briggs Th...</td>\n",
       "      <td>female</td>\n",
       "      <td>38.0</td>\n",
       "      <td>1</td>\n",
       "      <td>0</td>\n",
       "      <td>PC 17599</td>\n",
       "      <td>71.2833</td>\n",
       "      <td>C85</td>\n",
       "      <td>C</td>\n",
       "    </tr>\n",
       "    <tr>\n",
       "      <th>2</th>\n",
       "      <td>3</td>\n",
       "      <td>1</td>\n",
       "      <td>3</td>\n",
       "      <td>Heikkinen, Miss. Laina</td>\n",
       "      <td>female</td>\n",
       "      <td>26.0</td>\n",
       "      <td>0</td>\n",
       "      <td>0</td>\n",
       "      <td>STON/O2. 3101282</td>\n",
       "      <td>7.9250</td>\n",
       "      <td>NaN</td>\n",
       "      <td>S</td>\n",
       "    </tr>\n",
       "    <tr>\n",
       "      <th>3</th>\n",
       "      <td>4</td>\n",
       "      <td>1</td>\n",
       "      <td>1</td>\n",
       "      <td>Futrelle, Mrs. Jacques Heath (Lily May Peel)</td>\n",
       "      <td>female</td>\n",
       "      <td>35.0</td>\n",
       "      <td>1</td>\n",
       "      <td>0</td>\n",
       "      <td>113803</td>\n",
       "      <td>53.1000</td>\n",
       "      <td>C123</td>\n",
       "      <td>S</td>\n",
       "    </tr>\n",
       "    <tr>\n",
       "      <th>4</th>\n",
       "      <td>5</td>\n",
       "      <td>0</td>\n",
       "      <td>3</td>\n",
       "      <td>Allen, Mr. William Henry</td>\n",
       "      <td>male</td>\n",
       "      <td>35.0</td>\n",
       "      <td>0</td>\n",
       "      <td>0</td>\n",
       "      <td>373450</td>\n",
       "      <td>8.0500</td>\n",
       "      <td>NaN</td>\n",
       "      <td>S</td>\n",
       "    </tr>\n",
       "    <tr>\n",
       "      <th>5</th>\n",
       "      <td>6</td>\n",
       "      <td>0</td>\n",
       "      <td>3</td>\n",
       "      <td>Moran, Mr. James</td>\n",
       "      <td>male</td>\n",
       "      <td>NaN</td>\n",
       "      <td>0</td>\n",
       "      <td>0</td>\n",
       "      <td>330877</td>\n",
       "      <td>8.4583</td>\n",
       "      <td>NaN</td>\n",
       "      <td>Q</td>\n",
       "    </tr>\n",
       "    <tr>\n",
       "      <th>6</th>\n",
       "      <td>7</td>\n",
       "      <td>0</td>\n",
       "      <td>1</td>\n",
       "      <td>McCarthy, Mr. Timothy J</td>\n",
       "      <td>male</td>\n",
       "      <td>54.0</td>\n",
       "      <td>0</td>\n",
       "      <td>0</td>\n",
       "      <td>17463</td>\n",
       "      <td>51.8625</td>\n",
       "      <td>E46</td>\n",
       "      <td>S</td>\n",
       "    </tr>\n",
       "    <tr>\n",
       "      <th>7</th>\n",
       "      <td>8</td>\n",
       "      <td>0</td>\n",
       "      <td>3</td>\n",
       "      <td>Palsson, Master. Gosta Leonard</td>\n",
       "      <td>male</td>\n",
       "      <td>2.0</td>\n",
       "      <td>3</td>\n",
       "      <td>1</td>\n",
       "      <td>349909</td>\n",
       "      <td>21.0750</td>\n",
       "      <td>NaN</td>\n",
       "      <td>S</td>\n",
       "    </tr>\n",
       "    <tr>\n",
       "      <th>8</th>\n",
       "      <td>9</td>\n",
       "      <td>1</td>\n",
       "      <td>3</td>\n",
       "      <td>Johnson, Mrs. Oscar W (Elisabeth Vilhelmina Berg)</td>\n",
       "      <td>female</td>\n",
       "      <td>27.0</td>\n",
       "      <td>0</td>\n",
       "      <td>2</td>\n",
       "      <td>347742</td>\n",
       "      <td>11.1333</td>\n",
       "      <td>NaN</td>\n",
       "      <td>S</td>\n",
       "    </tr>\n",
       "    <tr>\n",
       "      <th>9</th>\n",
       "      <td>10</td>\n",
       "      <td>1</td>\n",
       "      <td>2</td>\n",
       "      <td>Nasser, Mrs. Nicholas (Adele Achem)</td>\n",
       "      <td>female</td>\n",
       "      <td>14.0</td>\n",
       "      <td>1</td>\n",
       "      <td>0</td>\n",
       "      <td>237736</td>\n",
       "      <td>30.0708</td>\n",
       "      <td>NaN</td>\n",
       "      <td>C</td>\n",
       "    </tr>\n",
       "  </tbody>\n",
       "</table>\n",
       "</div>"
      ],
      "text/plain": [
       "   PassengerId  Survived  Pclass  \\\n",
       "0            1         0       3   \n",
       "1            2         1       1   \n",
       "2            3         1       3   \n",
       "3            4         1       1   \n",
       "4            5         0       3   \n",
       "5            6         0       3   \n",
       "6            7         0       1   \n",
       "7            8         0       3   \n",
       "8            9         1       3   \n",
       "9           10         1       2   \n",
       "\n",
       "                                                Name     Sex   Age  SibSp  \\\n",
       "0                            Braund, Mr. Owen Harris    male  22.0      1   \n",
       "1  Cumings, Mrs. John Bradley (Florence Briggs Th...  female  38.0      1   \n",
       "2                             Heikkinen, Miss. Laina  female  26.0      0   \n",
       "3       Futrelle, Mrs. Jacques Heath (Lily May Peel)  female  35.0      1   \n",
       "4                           Allen, Mr. William Henry    male  35.0      0   \n",
       "5                                   Moran, Mr. James    male   NaN      0   \n",
       "6                            McCarthy, Mr. Timothy J    male  54.0      0   \n",
       "7                     Palsson, Master. Gosta Leonard    male   2.0      3   \n",
       "8  Johnson, Mrs. Oscar W (Elisabeth Vilhelmina Berg)  female  27.0      0   \n",
       "9                Nasser, Mrs. Nicholas (Adele Achem)  female  14.0      1   \n",
       "\n",
       "   Parch            Ticket     Fare Cabin Embarked  \n",
       "0      0         A/5 21171   7.2500   NaN        S  \n",
       "1      0          PC 17599  71.2833   C85        C  \n",
       "2      0  STON/O2. 3101282   7.9250   NaN        S  \n",
       "3      0            113803  53.1000  C123        S  \n",
       "4      0            373450   8.0500   NaN        S  \n",
       "5      0            330877   8.4583   NaN        Q  \n",
       "6      0             17463  51.8625   E46        S  \n",
       "7      1            349909  21.0750   NaN        S  \n",
       "8      2            347742  11.1333   NaN        S  \n",
       "9      0            237736  30.0708   NaN        C  "
      ]
     },
     "execution_count": 2,
     "metadata": {},
     "output_type": "execute_result"
    }
   ],
   "source": [
    "train_df = pd.read_csv('./data/train.csv')\n",
    "serving_df = pd.read_csv('./data/test.csv')\n",
    "\n",
    "train_df.head(10)"
   ]
  },
  {
   "cell_type": "code",
   "execution_count": 3,
   "metadata": {},
   "outputs": [
    {
     "data": {
      "text/html": [
       "<div>\n",
       "<style scoped>\n",
       "    .dataframe tbody tr th:only-of-type {\n",
       "        vertical-align: middle;\n",
       "    }\n",
       "\n",
       "    .dataframe tbody tr th {\n",
       "        vertical-align: top;\n",
       "    }\n",
       "\n",
       "    .dataframe thead th {\n",
       "        text-align: right;\n",
       "    }\n",
       "</style>\n",
       "<table border=\"1\" class=\"dataframe\">\n",
       "  <thead>\n",
       "    <tr style=\"text-align: right;\">\n",
       "      <th></th>\n",
       "      <th>PassengerId</th>\n",
       "      <th>Survived</th>\n",
       "      <th>Pclass</th>\n",
       "      <th>Name</th>\n",
       "      <th>Sex</th>\n",
       "      <th>Age</th>\n",
       "      <th>SibSp</th>\n",
       "      <th>Parch</th>\n",
       "      <th>Ticket</th>\n",
       "      <th>Fare</th>\n",
       "      <th>Cabin</th>\n",
       "      <th>Embarked</th>\n",
       "      <th>Ticket_number</th>\n",
       "      <th>Ticket_item</th>\n",
       "    </tr>\n",
       "  </thead>\n",
       "  <tbody>\n",
       "    <tr>\n",
       "      <th>0</th>\n",
       "      <td>1</td>\n",
       "      <td>0</td>\n",
       "      <td>3</td>\n",
       "      <td>Braund Mr Owen Harris</td>\n",
       "      <td>male</td>\n",
       "      <td>22.0</td>\n",
       "      <td>1</td>\n",
       "      <td>0</td>\n",
       "      <td>A/5 21171</td>\n",
       "      <td>7.2500</td>\n",
       "      <td>NaN</td>\n",
       "      <td>S</td>\n",
       "      <td>21171</td>\n",
       "      <td>A/5</td>\n",
       "    </tr>\n",
       "    <tr>\n",
       "      <th>1</th>\n",
       "      <td>2</td>\n",
       "      <td>1</td>\n",
       "      <td>1</td>\n",
       "      <td>Cumings Mrs John Bradley Florence Briggs Thayer</td>\n",
       "      <td>female</td>\n",
       "      <td>38.0</td>\n",
       "      <td>1</td>\n",
       "      <td>0</td>\n",
       "      <td>PC 17599</td>\n",
       "      <td>71.2833</td>\n",
       "      <td>C85</td>\n",
       "      <td>C</td>\n",
       "      <td>17599</td>\n",
       "      <td>PC</td>\n",
       "    </tr>\n",
       "    <tr>\n",
       "      <th>2</th>\n",
       "      <td>3</td>\n",
       "      <td>1</td>\n",
       "      <td>3</td>\n",
       "      <td>Heikkinen Miss Laina</td>\n",
       "      <td>female</td>\n",
       "      <td>26.0</td>\n",
       "      <td>0</td>\n",
       "      <td>0</td>\n",
       "      <td>STON/O2. 3101282</td>\n",
       "      <td>7.9250</td>\n",
       "      <td>NaN</td>\n",
       "      <td>S</td>\n",
       "      <td>3101282</td>\n",
       "      <td>STON/O2.</td>\n",
       "    </tr>\n",
       "    <tr>\n",
       "      <th>3</th>\n",
       "      <td>4</td>\n",
       "      <td>1</td>\n",
       "      <td>1</td>\n",
       "      <td>Futrelle Mrs Jacques Heath Lily May Peel</td>\n",
       "      <td>female</td>\n",
       "      <td>35.0</td>\n",
       "      <td>1</td>\n",
       "      <td>0</td>\n",
       "      <td>113803</td>\n",
       "      <td>53.1000</td>\n",
       "      <td>C123</td>\n",
       "      <td>S</td>\n",
       "      <td>113803</td>\n",
       "      <td>None</td>\n",
       "    </tr>\n",
       "    <tr>\n",
       "      <th>4</th>\n",
       "      <td>5</td>\n",
       "      <td>0</td>\n",
       "      <td>3</td>\n",
       "      <td>Allen Mr William Henry</td>\n",
       "      <td>male</td>\n",
       "      <td>35.0</td>\n",
       "      <td>0</td>\n",
       "      <td>0</td>\n",
       "      <td>373450</td>\n",
       "      <td>8.0500</td>\n",
       "      <td>NaN</td>\n",
       "      <td>S</td>\n",
       "      <td>373450</td>\n",
       "      <td>None</td>\n",
       "    </tr>\n",
       "  </tbody>\n",
       "</table>\n",
       "</div>"
      ],
      "text/plain": [
       "   PassengerId  Survived  Pclass  \\\n",
       "0            1         0       3   \n",
       "1            2         1       1   \n",
       "2            3         1       3   \n",
       "3            4         1       1   \n",
       "4            5         0       3   \n",
       "\n",
       "                                              Name     Sex   Age  SibSp  \\\n",
       "0                            Braund Mr Owen Harris    male  22.0      1   \n",
       "1  Cumings Mrs John Bradley Florence Briggs Thayer  female  38.0      1   \n",
       "2                             Heikkinen Miss Laina  female  26.0      0   \n",
       "3         Futrelle Mrs Jacques Heath Lily May Peel  female  35.0      1   \n",
       "4                           Allen Mr William Henry    male  35.0      0   \n",
       "\n",
       "   Parch            Ticket     Fare Cabin Embarked Ticket_number Ticket_item  \n",
       "0      0         A/5 21171   7.2500   NaN        S         21171         A/5  \n",
       "1      0          PC 17599  71.2833   C85        C         17599          PC  \n",
       "2      0  STON/O2. 3101282   7.9250   NaN        S       3101282    STON/O2.  \n",
       "3      0            113803  53.1000  C123        S        113803        None  \n",
       "4      0            373450   8.0500   NaN        S        373450        None  "
      ]
     },
     "execution_count": 3,
     "metadata": {},
     "output_type": "execute_result"
    }
   ],
   "source": [
    "def preprocess(df: pd.DataFrame): \n",
    "    df = df.copy()\n",
    "    \n",
    "    def find_non_chars(df: list): \n",
    "        import re\n",
    "        # Regular expression pattern to find characters that are not A-Z\n",
    "        pattern = re.compile('[^a-zA-Z\\s]')\n",
    "\n",
    "        # List to store non-alphabet characters\n",
    "        non_alphabet_chars = []\n",
    "\n",
    "        # Iterate over each name and find non-alphabet characters\n",
    "        for name in df['Name']:\n",
    "            non_alphabet_chars.extend(pattern.findall(name))\n",
    "\n",
    "        return ''.join(list(set(non_alphabet_chars)))\n",
    "    \n",
    "    non_alphabet_chars = find_non_chars(df)\n",
    "    \n",
    "    def normalize_name(s: str): \n",
    "        return ' '.join([x.strip(non_alphabet_chars) for x in s.split(' ')])\n",
    "    \n",
    "    def ticket_number(x: str): \n",
    "        return x.split(' ')[-1]\n",
    "    \n",
    "    def ticket_item(x: str): \n",
    "        items = x.split(' ')\n",
    "        if len(items) == 1: \n",
    "            return None\n",
    "        return ''.join(items[0:-1])\n",
    "    \n",
    "    df['Name'] = df['Name'].apply(normalize_name)\n",
    "    df['Ticket_number'] = df['Ticket'].apply(ticket_number)\n",
    "    df['Ticket_item'] = df['Ticket'].apply(ticket_item)\n",
    "    return df\n",
    "\n",
    "preprocessed_train_df = preprocess(train_df)\n",
    "preprocessed_serving_df = preprocess(serving_df)\n",
    "preprocessed_train_df.head(5)"
   ]
  },
  {
   "cell_type": "code",
   "execution_count": 4,
   "metadata": {},
   "outputs": [
    {
     "name": "stdout",
     "output_type": "stream",
     "text": [
      "Input features: ['Pclass', 'Name', 'Sex', 'Age', 'SibSp', 'Parch', 'Fare', 'Cabin', 'Embarked', 'Ticket_number', 'Ticket_item']\n"
     ]
    }
   ],
   "source": [
    "input_features = list(preprocessed_train_df.columns)\n",
    "input_features.remove(\"Ticket\")\n",
    "input_features.remove(\"PassengerId\")\n",
    "input_features.remove(\"Survived\")\n",
    "\n",
    "print(f\"Input features: {input_features}\")"
   ]
  },
  {
   "cell_type": "markdown",
   "metadata": {},
   "source": [
    "## Convert Pandas dataset to TensorFlow Dataset"
   ]
  },
  {
   "cell_type": "code",
   "execution_count": 5,
   "metadata": {},
   "outputs": [
    {
     "name": "stderr",
     "output_type": "stream",
     "text": [
      "2024-01-12 15:38:54.690446: I metal_plugin/src/device/metal_device.cc:1154] Metal device set to: Apple M1 Max\n",
      "2024-01-12 15:38:54.690464: I metal_plugin/src/device/metal_device.cc:296] systemMemory: 32.00 GB\n",
      "2024-01-12 15:38:54.690469: I metal_plugin/src/device/metal_device.cc:313] maxCacheSize: 10.67 GB\n",
      "2024-01-12 15:38:54.690497: I tensorflow/core/common_runtime/pluggable_device/pluggable_device_factory.cc:306] Could not identify NUMA node of platform GPU ID 0, defaulting to 0. Your kernel may not have been built with NUMA support.\n",
      "2024-01-12 15:38:54.690511: I tensorflow/core/common_runtime/pluggable_device/pluggable_device_factory.cc:272] Created TensorFlow device (/job:localhost/replica:0/task:0/device:GPU:0 with 0 MB memory) -> physical PluggableDevice (device: 0, name: METAL, pci bus id: <undefined>)\n"
     ]
    }
   ],
   "source": [
    "def tokenize_names(features, labels= None): \n",
    "    features['Name'] = tf.strings.split(features['Name'])\n",
    "    return features, labels\n",
    "train_ds = tfdf.keras.pd_dataframe_to_tf_dataset(preprocessed_train_df, label='Survived').map(tokenize_names)\n",
    "serving_ds = tfdf.keras.pd_dataframe_to_tf_dataset(preprocessed_serving_df).map(tokenize_names)"
   ]
  },
  {
   "cell_type": "markdown",
   "metadata": {},
   "source": [
    "## Train model with default parameters"
   ]
  },
  {
   "cell_type": "code",
   "execution_count": 6,
   "metadata": {},
   "outputs": [
    {
     "name": "stderr",
     "output_type": "stream",
     "text": [
      "[WARNING 24-01-12 15:38:54.7892 +07 gradient_boosted_trees.cc:1886] \"goss_alpha\" set but \"sampling_method\" not equal to \"GOSS\".\n",
      "[WARNING 24-01-12 15:38:54.7896 +07 gradient_boosted_trees.cc:1897] \"goss_beta\" set but \"sampling_method\" not equal to \"GOSS\".\n",
      "[WARNING 24-01-12 15:38:54.7897 +07 gradient_boosted_trees.cc:1911] \"selective_gradient_boosting_ratio\" set but \"sampling_method\" not equal to \"SELGB\".\n",
      "2024-01-12 15:38:56.795688: I tensorflow/core/grappler/optimizers/custom_graph_optimizer_registry.cc:117] Plugin optimizer for device_type GPU is enabled.\n",
      "[INFO 24-01-12 15:38:57.0047 +07 kernel.cc:1233] Loading model from path /var/folders/08/pfjkw6qj6432p465r25wkxf80000gp/T/tmplw89s38y/model/ with prefix 2afc2238b1b8443c\n",
      "[INFO 24-01-12 15:38:57.0078 +07 abstract_model.cc:1344] Engine \"GradientBoostedTreesQuickScorerExtended\" built\n",
      "[INFO 24-01-12 15:38:57.0078 +07 kernel.cc:1061] Use fast generic engine\n"
     ]
    },
    {
     "name": "stdout",
     "output_type": "stream",
     "text": [
      "Accuracy: 0.804347813129425 | Loss:0.8854019641876221\n"
     ]
    }
   ],
   "source": [
    "model = tfdf.keras.GradientBoostedTreesModel(\n",
    "    verbose=0, \n",
    "    features=[tfdf.keras.FeatureUsage(name=n) for n in input_features], \n",
    "    exclude_non_specified_features=True, \n",
    "    random_seed=1234\n",
    ")\n",
    "model.fit(train_ds)\n",
    "self_evaluation = model.make_inspector().evaluation()\n",
    "print(f\"Accuracy: {self_evaluation.accuracy} | Loss:{self_evaluation.loss}\")"
   ]
  },
  {
   "cell_type": "code",
   "execution_count": 7,
   "metadata": {},
   "outputs": [
    {
     "name": "stdout",
     "output_type": "stream",
     "text": [
      "Model: \"gradient_boosted_trees_model\"\n",
      "_________________________________________________________________\n",
      " Layer (type)                Output Shape              Param #   \n",
      "=================================================================\n",
      "=================================================================\n",
      "Total params: 1 (1.00 Byte)\n",
      "Trainable params: 0 (0.00 Byte)\n",
      "Non-trainable params: 1 (1.00 Byte)\n",
      "_________________________________________________________________\n",
      "Type: \"GRADIENT_BOOSTED_TREES\"\n",
      "Task: CLASSIFICATION\n",
      "Label: \"__LABEL\"\n",
      "\n",
      "Input Features (11):\n",
      "\tAge\n",
      "\tCabin\n",
      "\tEmbarked\n",
      "\tFare\n",
      "\tName\n",
      "\tParch\n",
      "\tPclass\n",
      "\tSex\n",
      "\tSibSp\n",
      "\tTicket_item\n",
      "\tTicket_number\n",
      "\n",
      "No weights\n",
      "\n",
      "Variable Importance: INV_MEAN_MIN_DEPTH:\n",
      "    1.           \"Sex\"  0.391099 ################\n",
      "    2.          \"Name\"  0.288523 ########\n",
      "    3.           \"Age\"  0.238785 ####\n",
      "    4.        \"Pclass\"  0.233203 ####\n",
      "    5.          \"Fare\"  0.230704 ###\n",
      "    6. \"Ticket_number\"  0.212794 ##\n",
      "    7.   \"Ticket_item\"  0.199716 #\n",
      "    8.      \"Embarked\"  0.192019 \n",
      "    9.         \"SibSp\"  0.182693 \n",
      "   10.         \"Parch\"  0.180443 \n",
      "\n",
      "Variable Importance: NUM_AS_ROOT:\n",
      "    1.           \"Sex\" 24.000000 ################\n",
      "    2.          \"Name\" 11.000000 ######\n",
      "    3. \"Ticket_number\"  2.000000 \n",
      "    4.          \"Fare\"  1.000000 \n",
      "\n",
      "Variable Importance: NUM_NODES:\n",
      "    1.          \"Name\" 253.000000 ################\n",
      "    2.           \"Age\" 170.000000 ##########\n",
      "    3.          \"Fare\" 160.000000 #########\n",
      "    4.   \"Ticket_item\" 55.000000 ##\n",
      "    5.        \"Pclass\" 48.000000 #\n",
      "    6. \"Ticket_number\" 45.000000 #\n",
      "    7.           \"Sex\" 30.000000 \n",
      "    8.      \"Embarked\" 27.000000 \n",
      "    9.         \"Parch\" 25.000000 \n",
      "   10.         \"SibSp\" 24.000000 \n",
      "\n",
      "Variable Importance: SUM_SCORE:\n",
      "    1.           \"Sex\" 277.096174 ################\n",
      "    2.        \"Pclass\" 96.236863 #####\n",
      "    3.          \"Fare\" 75.503005 ####\n",
      "    4.          \"Name\" 74.125285 ####\n",
      "    5.           \"Age\" 72.047106 ####\n",
      "    6.         \"SibSp\" 28.797252 #\n",
      "    7.   \"Ticket_item\" 27.455499 #\n",
      "    8. \"Ticket_number\" 27.377827 #\n",
      "    9.      \"Embarked\" 10.869126 \n",
      "   10.         \"Parch\"  3.281048 \n",
      "\n",
      "\n",
      "\n",
      "Loss: BINOMIAL_LOG_LIKELIHOOD\n",
      "Validation loss value: 0.885402\n",
      "Number of trees per iteration: 1\n",
      "Node format: NOT_SET\n",
      "Number of trees: 38\n",
      "Total number of nodes: 1712\n",
      "\n",
      "Number of nodes by tree:\n",
      "Count: 38 Average: 45.0526 StdDev: 6.44796\n",
      "Min: 31 Max: 55 Ignored: 0\n",
      "----------------------------------------------\n",
      "[ 31, 32) 1   2.63%   2.63% ##\n",
      "[ 32, 33) 0   0.00%   2.63%\n",
      "[ 33, 34) 2   5.26%   7.89% ###\n",
      "[ 34, 36) 1   2.63%  10.53% ##\n",
      "[ 36, 37) 0   0.00%  10.53%\n",
      "[ 37, 38) 2   5.26%  15.79% ###\n",
      "[ 38, 39) 0   0.00%  15.79%\n",
      "[ 39, 41) 2   5.26%  21.05% ###\n",
      "[ 41, 42) 4  10.53%  31.58% #######\n",
      "[ 42, 43) 0   0.00%  31.58%\n",
      "[ 43, 44) 5  13.16%  44.74% ########\n",
      "[ 44, 46) 1   2.63%  47.37% ##\n",
      "[ 46, 47) 0   0.00%  47.37%\n",
      "[ 47, 48) 6  15.79%  63.16% ##########\n",
      "[ 48, 49) 0   0.00%  63.16%\n",
      "[ 49, 51) 6  15.79%  78.95% ##########\n",
      "[ 51, 52) 1   2.63%  81.58% ##\n",
      "[ 52, 53) 0   0.00%  81.58%\n",
      "[ 53, 54) 4  10.53%  92.11% #######\n",
      "[ 54, 55] 3   7.89% 100.00% #####\n",
      "\n",
      "Depth by leafs:\n",
      "Count: 875 Average: 4.69829 StdDev: 0.606957\n",
      "Min: 2 Max: 5 Ignored: 0\n",
      "----------------------------------------------\n",
      "[ 2, 3)   8   0.91%   0.91%\n",
      "[ 3, 4)  45   5.14%   6.06% #\n",
      "[ 4, 5) 150  17.14%  23.20% ##\n",
      "[ 5, 5] 672  76.80% 100.00% ##########\n",
      "\n",
      "Number of training obs by leaf:\n",
      "Count: 875 Average: 34.6994 StdDev: 78.7776\n",
      "Min: 1 Max: 577 Ignored: 0\n",
      "----------------------------------------------\n",
      "[   1,  29) 678  77.49%  77.49% ##########\n",
      "[  29,  58)  75   8.57%  86.06% #\n",
      "[  58,  87)  37   4.23%  90.29% #\n",
      "[  87, 116)  23   2.63%  92.91%\n",
      "[ 116, 145)   8   0.91%  93.83%\n",
      "[ 145, 174)  10   1.14%  94.97%\n",
      "[ 174, 202)   1   0.11%  95.09%\n",
      "[ 202, 231)   2   0.23%  95.31%\n",
      "[ 231, 260)   7   0.80%  96.11%\n",
      "[ 260, 289)   2   0.23%  96.34%\n",
      "[ 289, 318)   3   0.34%  96.69%\n",
      "[ 318, 347)  11   1.26%  97.94%\n",
      "[ 347, 376)   7   0.80%  98.74%\n",
      "[ 376, 404)   3   0.34%  99.09%\n",
      "[ 404, 433)   1   0.11%  99.20%\n",
      "[ 433, 462)   2   0.23%  99.43%\n",
      "[ 462, 491)   0   0.00%  99.43%\n",
      "[ 491, 520)   3   0.34%  99.77%\n",
      "[ 520, 549)   1   0.11%  99.89%\n",
      "[ 549, 577]   1   0.11% 100.00%\n",
      "\n",
      "Attribute in nodes:\n",
      "\t253 : Name [CATEGORICAL_SET]\n",
      "\t170 : Age [NUMERICAL]\n",
      "\t160 : Fare [NUMERICAL]\n",
      "\t55 : Ticket_item [CATEGORICAL]\n",
      "\t48 : Pclass [NUMERICAL]\n",
      "\t45 : Ticket_number [CATEGORICAL]\n",
      "\t30 : Sex [CATEGORICAL]\n",
      "\t27 : Embarked [CATEGORICAL]\n",
      "\t25 : Parch [NUMERICAL]\n",
      "\t24 : SibSp [NUMERICAL]\n",
      "\n",
      "Attribute in nodes with depth <= 0:\n",
      "\t24 : Sex [CATEGORICAL]\n",
      "\t11 : Name [CATEGORICAL_SET]\n",
      "\t2 : Ticket_number [CATEGORICAL]\n",
      "\t1 : Fare [NUMERICAL]\n",
      "\n",
      "Attribute in nodes with depth <= 1:\n",
      "\t26 : Sex [CATEGORICAL]\n",
      "\t22 : Name [CATEGORICAL_SET]\n",
      "\t20 : Pclass [NUMERICAL]\n",
      "\t16 : Age [NUMERICAL]\n",
      "\t12 : Ticket_number [CATEGORICAL]\n",
      "\t8 : Fare [NUMERICAL]\n",
      "\t5 : Ticket_item [CATEGORICAL]\n",
      "\t4 : Embarked [CATEGORICAL]\n",
      "\t1 : Parch [NUMERICAL]\n",
      "\n",
      "Attribute in nodes with depth <= 2:\n",
      "\t55 : Name [CATEGORICAL_SET]\n",
      "\t40 : Age [NUMERICAL]\n",
      "\t37 : Fare [NUMERICAL]\n",
      "\t34 : Pclass [NUMERICAL]\n",
      "\t27 : Sex [CATEGORICAL]\n",
      "\t21 : Ticket_number [CATEGORICAL]\n",
      "\t16 : Ticket_item [CATEGORICAL]\n",
      "\t13 : SibSp [NUMERICAL]\n",
      "\t13 : Embarked [CATEGORICAL]\n",
      "\t2 : Parch [NUMERICAL]\n",
      "\n",
      "Attribute in nodes with depth <= 3:\n",
      "\t129 : Name [CATEGORICAL_SET]\n",
      "\t101 : Age [NUMERICAL]\n",
      "\t72 : Fare [NUMERICAL]\n",
      "\t45 : Ticket_number [CATEGORICAL]\n",
      "\t45 : Pclass [NUMERICAL]\n",
      "\t34 : Ticket_item [CATEGORICAL]\n",
      "\t28 : Sex [CATEGORICAL]\n",
      "\t18 : Embarked [CATEGORICAL]\n",
      "\t17 : SibSp [NUMERICAL]\n",
      "\t12 : Parch [NUMERICAL]\n",
      "\n",
      "Attribute in nodes with depth <= 5:\n",
      "\t253 : Name [CATEGORICAL_SET]\n",
      "\t170 : Age [NUMERICAL]\n",
      "\t160 : Fare [NUMERICAL]\n",
      "\t55 : Ticket_item [CATEGORICAL]\n",
      "\t48 : Pclass [NUMERICAL]\n",
      "\t45 : Ticket_number [CATEGORICAL]\n",
      "\t30 : Sex [CATEGORICAL]\n",
      "\t27 : Embarked [CATEGORICAL]\n",
      "\t25 : Parch [NUMERICAL]\n",
      "\t24 : SibSp [NUMERICAL]\n",
      "\n",
      "Condition type in nodes:\n",
      "\t427 : HigherCondition\n",
      "\t209 : ContainsCondition\n",
      "\t201 : ContainsBitmapCondition\n",
      "Condition type in nodes with depth <= 0:\n",
      "\t37 : ContainsBitmapCondition\n",
      "\t1 : HigherCondition\n",
      "Condition type in nodes with depth <= 1:\n",
      "\t63 : ContainsBitmapCondition\n",
      "\t45 : HigherCondition\n",
      "\t6 : ContainsCondition\n",
      "Condition type in nodes with depth <= 2:\n",
      "\t126 : HigherCondition\n",
      "\t99 : ContainsBitmapCondition\n",
      "\t33 : ContainsCondition\n",
      "Condition type in nodes with depth <= 3:\n",
      "\t247 : HigherCondition\n",
      "\t158 : ContainsBitmapCondition\n",
      "\t96 : ContainsCondition\n",
      "Condition type in nodes with depth <= 5:\n",
      "\t427 : HigherCondition\n",
      "\t209 : ContainsCondition\n",
      "\t201 : ContainsBitmapCondition\n",
      "\n",
      "Training logs:\n",
      "Number of iteration to final model: 38\n",
      "\tIter:1 train-loss:1.218374 valid-loss:1.310172  train-accuracy:0.624531 valid-accuracy:0.543478\n",
      "\tIter:2 train-loss:1.134891 valid-loss:1.233658  train-accuracy:0.624531 valid-accuracy:0.543478\n",
      "\tIter:3 train-loss:1.064761 valid-loss:1.173748  train-accuracy:0.813517 valid-accuracy:0.760870\n",
      "\tIter:4 train-loss:1.003379 valid-loss:1.128858  train-accuracy:0.839800 valid-accuracy:0.771739\n",
      "\tIter:5 train-loss:0.953871 valid-loss:1.092305  train-accuracy:0.838548 valid-accuracy:0.771739\n",
      "\tIter:6 train-loss:0.911421 valid-loss:1.059191  train-accuracy:0.859825 valid-accuracy:0.782609\n",
      "\tIter:16 train-loss:0.673384 valid-loss:0.917041  train-accuracy:0.883605 valid-accuracy:0.793478\n",
      "\tIter:26 train-loss:0.581450 valid-loss:0.894079  train-accuracy:0.898623 valid-accuracy:0.804348\n",
      "\tIter:36 train-loss:0.521202 valid-loss:0.886730  train-accuracy:0.908636 valid-accuracy:0.804348\n",
      "\tIter:46 train-loss:0.474727 valid-loss:0.892464  train-accuracy:0.923655 valid-accuracy:0.815217\n",
      "\tIter:56 train-loss:0.436256 valid-loss:0.911308  train-accuracy:0.931164 valid-accuracy:0.793478\n",
      "\tIter:66 train-loss:0.409592 valid-loss:0.919197  train-accuracy:0.936170 valid-accuracy:0.793478\n",
      "\n"
     ]
    }
   ],
   "source": [
    "model.summary()"
   ]
  },
  {
   "cell_type": "code",
   "execution_count": 9,
   "metadata": {},
   "outputs": [
    {
     "name": "stdout",
     "output_type": "stream",
     "text": [
      "Use /var/folders/08/pfjkw6qj6432p465r25wkxf80000gp/T/tmptll3p3pa as temporary training directory\n"
     ]
    },
    {
     "name": "stderr",
     "output_type": "stream",
     "text": [
      "[WARNING 24-01-12 15:39:22.8682 +07 gradient_boosted_trees.cc:1886] \"goss_alpha\" set but \"sampling_method\" not equal to \"GOSS\".\n",
      "[WARNING 24-01-12 15:39:22.8682 +07 gradient_boosted_trees.cc:1897] \"goss_beta\" set but \"sampling_method\" not equal to \"GOSS\".\n",
      "[WARNING 24-01-12 15:39:22.8682 +07 gradient_boosted_trees.cc:1911] \"selective_gradient_boosting_ratio\" set but \"sampling_method\" not equal to \"SELGB\".\n"
     ]
    },
    {
     "name": "stdout",
     "output_type": "stream",
     "text": [
      "Accuracy: 0.8767123222351074 Loss:0.6447146534919739\n"
     ]
    },
    {
     "name": "stderr",
     "output_type": "stream",
     "text": [
      "[INFO 24-01-12 15:39:42.8763 +07 kernel.cc:1233] Loading model from path /var/folders/08/pfjkw6qj6432p465r25wkxf80000gp/T/tmptll3p3pa/model/ with prefix c58dd7b409424a16\n",
      "[INFO 24-01-12 15:39:42.8833 +07 decision_forest.cc:660] Model loaded with 30 root(s), 1760 node(s), and 12 input feature(s).\n",
      "[INFO 24-01-12 15:39:42.8833 +07 abstract_model.cc:1344] Engine \"GradientBoostedTreesGeneric\" built\n",
      "[INFO 24-01-12 15:39:42.8833 +07 kernel.cc:1061] Use fast generic engine\n"
     ]
    }
   ],
   "source": [
    "tuner = tfdf.tuner.RandomSearch(num_trials=1000)\n",
    "tuner.choice(\"min_examples\", [2, 5, 7, 10])\n",
    "tuner.choice(\"categorical_algorithm\", [\"CART\", \"RANDOM\"])\n",
    "\n",
    "local_search_space = tuner.choice(\"growing_strategy\", [\"LOCAL\"])\n",
    "local_search_space.choice(\"max_depth\", [3, 4, 5, 6, 8])\n",
    "\n",
    "global_search_space = tuner.choice(\"growing_strategy\", [\"BEST_FIRST_GLOBAL\"], merge=True)\n",
    "global_search_space.choice(\"max_num_nodes\", [16, 32, 64, 128, 256])\n",
    "\n",
    "#tuner.choice(\"use_hessian_gain\", [True, False])\n",
    "tuner.choice(\"shrinkage\", [0.02, 0.05, 0.10, 0.15])\n",
    "tuner.choice(\"num_candidate_attributes_ratio\", [0.2, 0.5, 0.9, 1.0])\n",
    "\n",
    "\n",
    "tuner.choice(\"split_axis\", [\"AXIS_ALIGNED\"])\n",
    "oblique_space = tuner.choice(\"split_axis\", [\"SPARSE_OBLIQUE\"], merge=True)\n",
    "oblique_space.choice(\"sparse_oblique_normalization\",\n",
    "                     [\"NONE\", \"STANDARD_DEVIATION\", \"MIN_MAX\"])\n",
    "oblique_space.choice(\"sparse_oblique_weights\", [\"BINARY\", \"CONTINUOUS\"])\n",
    "oblique_space.choice(\"sparse_oblique_num_projections_exponent\", [1.0, 1.5])\n",
    "\n",
    "# Tune the model. Notice the `tuner=tuner`.\n",
    "tuned_model = tfdf.keras.GradientBoostedTreesModel(tuner=tuner)\n",
    "tuned_model.fit(train_ds, verbose=0)\n",
    "\n",
    "tuned_self_evaluation = tuned_model.make_inspector().evaluation()\n",
    "print(f\"Accuracy: {tuned_self_evaluation.accuracy} Loss:{tuned_self_evaluation.loss}\")"
   ]
  },
  {
   "cell_type": "markdown",
   "metadata": {},
   "source": [
    "## Ensemble\n",
    "Here you'll create 100 models with different seeds and combine their results\n",
    "\n",
    "This approach removes a little bit the random aspects related to creating ML models\n",
    "\n",
    "In the GBT creation is used the `honest` parameter. It will use different training examples to infer the structure and the leaf values. This regularization technique trades examples for bias estimates."
   ]
  },
  {
   "cell_type": "code",
   "execution_count": 19,
   "metadata": {},
   "outputs": [
    {
     "name": "stdout",
     "output_type": "stream",
     "text": [
      "i: 0\n"
     ]
    },
    {
     "name": "stderr",
     "output_type": "stream",
     "text": [
      "[WARNING 24-01-12 15:50:15.1451 +07 gradient_boosted_trees.cc:1886] \"goss_alpha\" set but \"sampling_method\" not equal to \"GOSS\".\n",
      "[WARNING 24-01-12 15:50:15.1451 +07 gradient_boosted_trees.cc:1897] \"goss_beta\" set but \"sampling_method\" not equal to \"GOSS\".\n",
      "[WARNING 24-01-12 15:50:15.1451 +07 gradient_boosted_trees.cc:1911] \"selective_gradient_boosting_ratio\" set but \"sampling_method\" not equal to \"SELGB\".\n",
      "[INFO 24-01-12 15:50:15.4435 +07 kernel.cc:1233] Loading model from path /var/folders/08/pfjkw6qj6432p465r25wkxf80000gp/T/tmpatjw48xo/model/ with prefix e550a1a7da3646f1\n",
      "[INFO 24-01-12 15:50:15.4455 +07 abstract_model.cc:1344] Engine \"GradientBoostedTreesQuickScorerExtended\" built\n",
      "[INFO 24-01-12 15:50:15.4455 +07 kernel.cc:1061] Use fast generic engine\n"
     ]
    },
    {
     "name": "stdout",
     "output_type": "stream",
     "text": [
      "i: 1\n"
     ]
    },
    {
     "name": "stderr",
     "output_type": "stream",
     "text": [
      "[WARNING 24-01-12 15:50:15.6514 +07 gradient_boosted_trees.cc:1886] \"goss_alpha\" set but \"sampling_method\" not equal to \"GOSS\".\n",
      "[WARNING 24-01-12 15:50:15.6514 +07 gradient_boosted_trees.cc:1897] \"goss_beta\" set but \"sampling_method\" not equal to \"GOSS\".\n",
      "[WARNING 24-01-12 15:50:15.6514 +07 gradient_boosted_trees.cc:1911] \"selective_gradient_boosting_ratio\" set but \"sampling_method\" not equal to \"SELGB\".\n",
      "[INFO 24-01-12 15:50:15.9970 +07 kernel.cc:1233] Loading model from path /var/folders/08/pfjkw6qj6432p465r25wkxf80000gp/T/tmpkaxajdk2/model/ with prefix 06b9a9ae7314480c\n",
      "[INFO 24-01-12 15:50:16.0022 +07 kernel.cc:1061] Use fast generic engine\n"
     ]
    },
    {
     "name": "stdout",
     "output_type": "stream",
     "text": [
      "i: 2\n"
     ]
    },
    {
     "name": "stderr",
     "output_type": "stream",
     "text": [
      "[WARNING 24-01-12 15:50:16.2027 +07 gradient_boosted_trees.cc:1886] \"goss_alpha\" set but \"sampling_method\" not equal to \"GOSS\".\n",
      "[WARNING 24-01-12 15:50:16.2028 +07 gradient_boosted_trees.cc:1897] \"goss_beta\" set but \"sampling_method\" not equal to \"GOSS\".\n",
      "[WARNING 24-01-12 15:50:16.2028 +07 gradient_boosted_trees.cc:1911] \"selective_gradient_boosting_ratio\" set but \"sampling_method\" not equal to \"SELGB\".\n",
      "[INFO 24-01-12 15:50:16.5449 +07 kernel.cc:1233] Loading model from path /var/folders/08/pfjkw6qj6432p465r25wkxf80000gp/T/tmpp3ur_rni/model/ with prefix 87675470f0bb4856\n",
      "[INFO 24-01-12 15:50:16.5494 +07 kernel.cc:1061] Use fast generic engine\n"
     ]
    },
    {
     "name": "stdout",
     "output_type": "stream",
     "text": [
      "i: 3\n"
     ]
    },
    {
     "name": "stderr",
     "output_type": "stream",
     "text": [
      "[WARNING 24-01-12 15:50:16.7823 +07 gradient_boosted_trees.cc:1886] \"goss_alpha\" set but \"sampling_method\" not equal to \"GOSS\".\n",
      "[WARNING 24-01-12 15:50:16.7823 +07 gradient_boosted_trees.cc:1897] \"goss_beta\" set but \"sampling_method\" not equal to \"GOSS\".\n",
      "[WARNING 24-01-12 15:50:16.7823 +07 gradient_boosted_trees.cc:1911] \"selective_gradient_boosting_ratio\" set but \"sampling_method\" not equal to \"SELGB\".\n",
      "[INFO 24-01-12 15:50:17.0462 +07 kernel.cc:1233] Loading model from path /var/folders/08/pfjkw6qj6432p465r25wkxf80000gp/T/tmphfb2h6ju/model/ with prefix 3c87e2257cd04e37\n",
      "[INFO 24-01-12 15:50:17.0488 +07 kernel.cc:1061] Use fast generic engine\n"
     ]
    },
    {
     "name": "stdout",
     "output_type": "stream",
     "text": [
      "i: 4\n"
     ]
    },
    {
     "name": "stderr",
     "output_type": "stream",
     "text": [
      "[WARNING 24-01-12 15:50:17.2617 +07 gradient_boosted_trees.cc:1886] \"goss_alpha\" set but \"sampling_method\" not equal to \"GOSS\".\n",
      "[WARNING 24-01-12 15:50:17.2617 +07 gradient_boosted_trees.cc:1897] \"goss_beta\" set but \"sampling_method\" not equal to \"GOSS\".\n",
      "[WARNING 24-01-12 15:50:17.2617 +07 gradient_boosted_trees.cc:1911] \"selective_gradient_boosting_ratio\" set but \"sampling_method\" not equal to \"SELGB\".\n",
      "[INFO 24-01-12 15:50:17.5519 +07 kernel.cc:1233] Loading model from path /var/folders/08/pfjkw6qj6432p465r25wkxf80000gp/T/tmpimbl16mn/model/ with prefix a99a52e773e54176\n",
      "[INFO 24-01-12 15:50:17.5550 +07 kernel.cc:1061] Use fast generic engine\n"
     ]
    },
    {
     "name": "stdout",
     "output_type": "stream",
     "text": [
      "i: 5\n"
     ]
    },
    {
     "name": "stderr",
     "output_type": "stream",
     "text": [
      "[WARNING 24-01-12 15:50:17.7671 +07 gradient_boosted_trees.cc:1886] \"goss_alpha\" set but \"sampling_method\" not equal to \"GOSS\".\n",
      "[WARNING 24-01-12 15:50:17.7671 +07 gradient_boosted_trees.cc:1897] \"goss_beta\" set but \"sampling_method\" not equal to \"GOSS\".\n",
      "[WARNING 24-01-12 15:50:17.7671 +07 gradient_boosted_trees.cc:1911] \"selective_gradient_boosting_ratio\" set but \"sampling_method\" not equal to \"SELGB\".\n",
      "[INFO 24-01-12 15:50:17.9994 +07 kernel.cc:1233] Loading model from path /var/folders/08/pfjkw6qj6432p465r25wkxf80000gp/T/tmpx614sac_/model/ with prefix 5891bcde2d9a4f5a\n",
      "[INFO 24-01-12 15:50:18.0007 +07 kernel.cc:1061] Use fast generic engine\n"
     ]
    },
    {
     "name": "stdout",
     "output_type": "stream",
     "text": [
      "i: 6\n"
     ]
    },
    {
     "name": "stderr",
     "output_type": "stream",
     "text": [
      "[WARNING 24-01-12 15:50:18.2078 +07 gradient_boosted_trees.cc:1886] \"goss_alpha\" set but \"sampling_method\" not equal to \"GOSS\".\n",
      "[WARNING 24-01-12 15:50:18.2078 +07 gradient_boosted_trees.cc:1897] \"goss_beta\" set but \"sampling_method\" not equal to \"GOSS\".\n",
      "[WARNING 24-01-12 15:50:18.2078 +07 gradient_boosted_trees.cc:1911] \"selective_gradient_boosting_ratio\" set but \"sampling_method\" not equal to \"SELGB\".\n",
      "[INFO 24-01-12 15:50:18.4829 +07 kernel.cc:1233] Loading model from path /var/folders/08/pfjkw6qj6432p465r25wkxf80000gp/T/tmp_9n3zx1a/model/ with prefix d77d4bb1326b43bc\n",
      "[INFO 24-01-12 15:50:18.4857 +07 kernel.cc:1061] Use fast generic engine\n"
     ]
    },
    {
     "name": "stdout",
     "output_type": "stream",
     "text": [
      "i: 7\n"
     ]
    },
    {
     "name": "stderr",
     "output_type": "stream",
     "text": [
      "[WARNING 24-01-12 15:50:18.6910 +07 gradient_boosted_trees.cc:1886] \"goss_alpha\" set but \"sampling_method\" not equal to \"GOSS\".\n",
      "[WARNING 24-01-12 15:50:18.6910 +07 gradient_boosted_trees.cc:1897] \"goss_beta\" set but \"sampling_method\" not equal to \"GOSS\".\n",
      "[WARNING 24-01-12 15:50:18.6910 +07 gradient_boosted_trees.cc:1911] \"selective_gradient_boosting_ratio\" set but \"sampling_method\" not equal to \"SELGB\".\n",
      "[INFO 24-01-12 15:50:18.9917 +07 kernel.cc:1233] Loading model from path /var/folders/08/pfjkw6qj6432p465r25wkxf80000gp/T/tmpcj8j759a/model/ with prefix cd163a08b94c4781\n",
      "[INFO 24-01-12 15:50:18.9951 +07 kernel.cc:1061] Use fast generic engine\n"
     ]
    },
    {
     "name": "stdout",
     "output_type": "stream",
     "text": [
      "i: 8\n"
     ]
    },
    {
     "name": "stderr",
     "output_type": "stream",
     "text": [
      "[WARNING 24-01-12 15:50:19.1942 +07 gradient_boosted_trees.cc:1886] \"goss_alpha\" set but \"sampling_method\" not equal to \"GOSS\".\n",
      "[WARNING 24-01-12 15:50:19.1942 +07 gradient_boosted_trees.cc:1897] \"goss_beta\" set but \"sampling_method\" not equal to \"GOSS\".\n",
      "[WARNING 24-01-12 15:50:19.1942 +07 gradient_boosted_trees.cc:1911] \"selective_gradient_boosting_ratio\" set but \"sampling_method\" not equal to \"SELGB\".\n",
      "[INFO 24-01-12 15:50:19.5428 +07 kernel.cc:1233] Loading model from path /var/folders/08/pfjkw6qj6432p465r25wkxf80000gp/T/tmpmjijk78g/model/ with prefix 508dc748a84f477a\n",
      "[INFO 24-01-12 15:50:19.5479 +07 kernel.cc:1061] Use fast generic engine\n"
     ]
    },
    {
     "name": "stdout",
     "output_type": "stream",
     "text": [
      "i: 9\n"
     ]
    },
    {
     "name": "stderr",
     "output_type": "stream",
     "text": [
      "[WARNING 24-01-12 15:50:19.7529 +07 gradient_boosted_trees.cc:1886] \"goss_alpha\" set but \"sampling_method\" not equal to \"GOSS\".\n",
      "[WARNING 24-01-12 15:50:19.7529 +07 gradient_boosted_trees.cc:1897] \"goss_beta\" set but \"sampling_method\" not equal to \"GOSS\".\n",
      "[WARNING 24-01-12 15:50:19.7529 +07 gradient_boosted_trees.cc:1911] \"selective_gradient_boosting_ratio\" set but \"sampling_method\" not equal to \"SELGB\".\n",
      "[INFO 24-01-12 15:50:20.1420 +07 kernel.cc:1233] Loading model from path /var/folders/08/pfjkw6qj6432p465r25wkxf80000gp/T/tmpe04ir131/model/ with prefix 69c5dc8f81084c5c\n",
      "[INFO 24-01-12 15:50:20.1478 +07 kernel.cc:1061] Use fast generic engine\n"
     ]
    },
    {
     "name": "stdout",
     "output_type": "stream",
     "text": [
      "i: 10\n"
     ]
    },
    {
     "name": "stderr",
     "output_type": "stream",
     "text": [
      "[WARNING 24-01-12 15:50:20.3582 +07 gradient_boosted_trees.cc:1886] \"goss_alpha\" set but \"sampling_method\" not equal to \"GOSS\".\n",
      "[WARNING 24-01-12 15:50:20.3583 +07 gradient_boosted_trees.cc:1897] \"goss_beta\" set but \"sampling_method\" not equal to \"GOSS\".\n",
      "[WARNING 24-01-12 15:50:20.3583 +07 gradient_boosted_trees.cc:1911] \"selective_gradient_boosting_ratio\" set but \"sampling_method\" not equal to \"SELGB\".\n",
      "[INFO 24-01-12 15:50:20.6461 +07 kernel.cc:1233] Loading model from path /var/folders/08/pfjkw6qj6432p465r25wkxf80000gp/T/tmp08m6veie/model/ with prefix 629454bec8b34f93\n",
      "[INFO 24-01-12 15:50:20.6477 +07 kernel.cc:1061] Use fast generic engine\n"
     ]
    },
    {
     "name": "stdout",
     "output_type": "stream",
     "text": [
      "i: 11\n"
     ]
    },
    {
     "name": "stderr",
     "output_type": "stream",
     "text": [
      "[WARNING 24-01-12 15:50:20.8491 +07 gradient_boosted_trees.cc:1886] \"goss_alpha\" set but \"sampling_method\" not equal to \"GOSS\".\n",
      "[WARNING 24-01-12 15:50:20.8492 +07 gradient_boosted_trees.cc:1897] \"goss_beta\" set but \"sampling_method\" not equal to \"GOSS\".\n",
      "[WARNING 24-01-12 15:50:20.8492 +07 gradient_boosted_trees.cc:1911] \"selective_gradient_boosting_ratio\" set but \"sampling_method\" not equal to \"SELGB\".\n",
      "[INFO 24-01-12 15:50:21.1323 +07 kernel.cc:1233] Loading model from path /var/folders/08/pfjkw6qj6432p465r25wkxf80000gp/T/tmpqodvhsf3/model/ with prefix ee42ac3acb374440\n",
      "[INFO 24-01-12 15:50:21.1352 +07 kernel.cc:1061] Use fast generic engine\n"
     ]
    },
    {
     "name": "stdout",
     "output_type": "stream",
     "text": [
      "i: 12\n"
     ]
    },
    {
     "name": "stderr",
     "output_type": "stream",
     "text": [
      "[WARNING 24-01-12 15:50:21.3454 +07 gradient_boosted_trees.cc:1886] \"goss_alpha\" set but \"sampling_method\" not equal to \"GOSS\".\n",
      "[WARNING 24-01-12 15:50:21.3455 +07 gradient_boosted_trees.cc:1897] \"goss_beta\" set but \"sampling_method\" not equal to \"GOSS\".\n",
      "[WARNING 24-01-12 15:50:21.3455 +07 gradient_boosted_trees.cc:1911] \"selective_gradient_boosting_ratio\" set but \"sampling_method\" not equal to \"SELGB\".\n",
      "[INFO 24-01-12 15:50:21.7108 +07 kernel.cc:1233] Loading model from path /var/folders/08/pfjkw6qj6432p465r25wkxf80000gp/T/tmp3exzin5p/model/ with prefix 4eecb0a8ed5f49be\n",
      "[INFO 24-01-12 15:50:21.7157 +07 kernel.cc:1061] Use fast generic engine\n"
     ]
    },
    {
     "name": "stdout",
     "output_type": "stream",
     "text": [
      "i: 13\n"
     ]
    },
    {
     "name": "stderr",
     "output_type": "stream",
     "text": [
      "[WARNING 24-01-12 15:50:21.9285 +07 gradient_boosted_trees.cc:1886] \"goss_alpha\" set but \"sampling_method\" not equal to \"GOSS\".\n",
      "[WARNING 24-01-12 15:50:21.9285 +07 gradient_boosted_trees.cc:1897] \"goss_beta\" set but \"sampling_method\" not equal to \"GOSS\".\n",
      "[WARNING 24-01-12 15:50:21.9285 +07 gradient_boosted_trees.cc:1911] \"selective_gradient_boosting_ratio\" set but \"sampling_method\" not equal to \"SELGB\".\n",
      "[INFO 24-01-12 15:50:22.2550 +07 kernel.cc:1233] Loading model from path /var/folders/08/pfjkw6qj6432p465r25wkxf80000gp/T/tmp4n_0z74l/model/ with prefix 755389c897074f0c\n",
      "[INFO 24-01-12 15:50:22.2592 +07 kernel.cc:1061] Use fast generic engine\n"
     ]
    },
    {
     "name": "stdout",
     "output_type": "stream",
     "text": [
      "i: 14\n"
     ]
    },
    {
     "name": "stderr",
     "output_type": "stream",
     "text": [
      "[WARNING 24-01-12 15:50:22.4681 +07 gradient_boosted_trees.cc:1886] \"goss_alpha\" set but \"sampling_method\" not equal to \"GOSS\".\n",
      "[WARNING 24-01-12 15:50:22.4681 +07 gradient_boosted_trees.cc:1897] \"goss_beta\" set but \"sampling_method\" not equal to \"GOSS\".\n",
      "[WARNING 24-01-12 15:50:22.4681 +07 gradient_boosted_trees.cc:1911] \"selective_gradient_boosting_ratio\" set but \"sampling_method\" not equal to \"SELGB\".\n",
      "[INFO 24-01-12 15:50:22.8148 +07 kernel.cc:1233] Loading model from path /var/folders/08/pfjkw6qj6432p465r25wkxf80000gp/T/tmpfwv5_sj8/model/ with prefix dc06c2c747624229\n",
      "[INFO 24-01-12 15:50:22.8198 +07 kernel.cc:1061] Use fast generic engine\n"
     ]
    },
    {
     "name": "stdout",
     "output_type": "stream",
     "text": [
      "i: 15\n"
     ]
    },
    {
     "name": "stderr",
     "output_type": "stream",
     "text": [
      "[WARNING 24-01-12 15:50:23.0484 +07 gradient_boosted_trees.cc:1886] \"goss_alpha\" set but \"sampling_method\" not equal to \"GOSS\".\n",
      "[WARNING 24-01-12 15:50:23.0485 +07 gradient_boosted_trees.cc:1897] \"goss_beta\" set but \"sampling_method\" not equal to \"GOSS\".\n",
      "[WARNING 24-01-12 15:50:23.0485 +07 gradient_boosted_trees.cc:1911] \"selective_gradient_boosting_ratio\" set but \"sampling_method\" not equal to \"SELGB\".\n",
      "[INFO 24-01-12 15:50:23.3343 +07 kernel.cc:1233] Loading model from path /var/folders/08/pfjkw6qj6432p465r25wkxf80000gp/T/tmpfa0497ln/model/ with prefix 183d3dffb6c64456\n",
      "[INFO 24-01-12 15:50:23.3372 +07 kernel.cc:1061] Use fast generic engine\n"
     ]
    },
    {
     "name": "stdout",
     "output_type": "stream",
     "text": [
      "i: 16\n"
     ]
    },
    {
     "name": "stderr",
     "output_type": "stream",
     "text": [
      "[WARNING 24-01-12 15:50:23.5480 +07 gradient_boosted_trees.cc:1886] \"goss_alpha\" set but \"sampling_method\" not equal to \"GOSS\".\n",
      "[WARNING 24-01-12 15:50:23.5480 +07 gradient_boosted_trees.cc:1897] \"goss_beta\" set but \"sampling_method\" not equal to \"GOSS\".\n",
      "[WARNING 24-01-12 15:50:23.5480 +07 gradient_boosted_trees.cc:1911] \"selective_gradient_boosting_ratio\" set but \"sampling_method\" not equal to \"SELGB\".\n",
      "[INFO 24-01-12 15:50:23.9564 +07 kernel.cc:1233] Loading model from path /var/folders/08/pfjkw6qj6432p465r25wkxf80000gp/T/tmpll02gv60/model/ with prefix 597c1b2f34fb4ff6\n",
      "[INFO 24-01-12 15:50:23.9630 +07 kernel.cc:1061] Use fast generic engine\n"
     ]
    },
    {
     "name": "stdout",
     "output_type": "stream",
     "text": [
      "i: 17\n"
     ]
    },
    {
     "name": "stderr",
     "output_type": "stream",
     "text": [
      "[WARNING 24-01-12 15:50:24.4698 +07 gradient_boosted_trees.cc:1886] \"goss_alpha\" set but \"sampling_method\" not equal to \"GOSS\".\n",
      "[WARNING 24-01-12 15:50:24.4698 +07 gradient_boosted_trees.cc:1897] \"goss_beta\" set but \"sampling_method\" not equal to \"GOSS\".\n",
      "[WARNING 24-01-12 15:50:24.4698 +07 gradient_boosted_trees.cc:1911] \"selective_gradient_boosting_ratio\" set but \"sampling_method\" not equal to \"SELGB\".\n",
      "[INFO 24-01-12 15:50:24.7667 +07 kernel.cc:1233] Loading model from path /var/folders/08/pfjkw6qj6432p465r25wkxf80000gp/T/tmpecq0vqrp/model/ with prefix 1d77d2bd65904c71\n",
      "[INFO 24-01-12 15:50:24.7698 +07 kernel.cc:1061] Use fast generic engine\n"
     ]
    },
    {
     "name": "stdout",
     "output_type": "stream",
     "text": [
      "i: 18\n"
     ]
    },
    {
     "name": "stderr",
     "output_type": "stream",
     "text": [
      "[WARNING 24-01-12 15:50:25.0058 +07 gradient_boosted_trees.cc:1886] \"goss_alpha\" set but \"sampling_method\" not equal to \"GOSS\".\n",
      "[WARNING 24-01-12 15:50:25.0059 +07 gradient_boosted_trees.cc:1897] \"goss_beta\" set but \"sampling_method\" not equal to \"GOSS\".\n",
      "[WARNING 24-01-12 15:50:25.0059 +07 gradient_boosted_trees.cc:1911] \"selective_gradient_boosting_ratio\" set but \"sampling_method\" not equal to \"SELGB\".\n",
      "[INFO 24-01-12 15:50:25.3446 +07 kernel.cc:1233] Loading model from path /var/folders/08/pfjkw6qj6432p465r25wkxf80000gp/T/tmphsw02b5_/model/ with prefix e257e902643b47be\n",
      "[INFO 24-01-12 15:50:25.3491 +07 kernel.cc:1061] Use fast generic engine\n"
     ]
    },
    {
     "name": "stdout",
     "output_type": "stream",
     "text": [
      "i: 19\n"
     ]
    },
    {
     "name": "stderr",
     "output_type": "stream",
     "text": [
      "[WARNING 24-01-12 15:50:25.5620 +07 gradient_boosted_trees.cc:1886] \"goss_alpha\" set but \"sampling_method\" not equal to \"GOSS\".\n",
      "[WARNING 24-01-12 15:50:25.5620 +07 gradient_boosted_trees.cc:1897] \"goss_beta\" set but \"sampling_method\" not equal to \"GOSS\".\n",
      "[WARNING 24-01-12 15:50:25.5620 +07 gradient_boosted_trees.cc:1911] \"selective_gradient_boosting_ratio\" set but \"sampling_method\" not equal to \"SELGB\".\n",
      "[INFO 24-01-12 15:50:25.8283 +07 kernel.cc:1233] Loading model from path /var/folders/08/pfjkw6qj6432p465r25wkxf80000gp/T/tmp1bkn3sro/model/ with prefix 4f743fd9a6214058\n",
      "[INFO 24-01-12 15:50:25.8305 +07 abstract_model.cc:1344] Engine \"GradientBoostedTreesQuickScorerExtended\" built\n",
      "[INFO 24-01-12 15:50:25.8305 +07 kernel.cc:1061] Use fast generic engine\n"
     ]
    },
    {
     "name": "stdout",
     "output_type": "stream",
     "text": [
      "i: 20\n"
     ]
    },
    {
     "name": "stderr",
     "output_type": "stream",
     "text": [
      "[WARNING 24-01-12 15:50:26.0394 +07 gradient_boosted_trees.cc:1886] \"goss_alpha\" set but \"sampling_method\" not equal to \"GOSS\".\n",
      "[WARNING 24-01-12 15:50:26.0395 +07 gradient_boosted_trees.cc:1897] \"goss_beta\" set but \"sampling_method\" not equal to \"GOSS\".\n",
      "[WARNING 24-01-12 15:50:26.0395 +07 gradient_boosted_trees.cc:1911] \"selective_gradient_boosting_ratio\" set but \"sampling_method\" not equal to \"SELGB\".\n",
      "[INFO 24-01-12 15:50:26.3566 +07 kernel.cc:1233] Loading model from path /var/folders/08/pfjkw6qj6432p465r25wkxf80000gp/T/tmpx86orp4y/model/ with prefix 4de4e462dc924dc1\n",
      "[INFO 24-01-12 15:50:26.3595 +07 kernel.cc:1061] Use fast generic engine\n"
     ]
    },
    {
     "name": "stdout",
     "output_type": "stream",
     "text": [
      "i: 21\n"
     ]
    },
    {
     "name": "stderr",
     "output_type": "stream",
     "text": [
      "[WARNING 24-01-12 15:50:26.5647 +07 gradient_boosted_trees.cc:1886] \"goss_alpha\" set but \"sampling_method\" not equal to \"GOSS\".\n",
      "[WARNING 24-01-12 15:50:26.5648 +07 gradient_boosted_trees.cc:1897] \"goss_beta\" set but \"sampling_method\" not equal to \"GOSS\".\n",
      "[WARNING 24-01-12 15:50:26.5648 +07 gradient_boosted_trees.cc:1911] \"selective_gradient_boosting_ratio\" set but \"sampling_method\" not equal to \"SELGB\".\n",
      "[INFO 24-01-12 15:50:26.8141 +07 kernel.cc:1233] Loading model from path /var/folders/08/pfjkw6qj6432p465r25wkxf80000gp/T/tmps11_u6s5/model/ with prefix 69c5b396a0874ce4\n",
      "[INFO 24-01-12 15:50:26.8160 +07 kernel.cc:1061] Use fast generic engine\n"
     ]
    },
    {
     "name": "stdout",
     "output_type": "stream",
     "text": [
      "i: 22\n"
     ]
    },
    {
     "name": "stderr",
     "output_type": "stream",
     "text": [
      "[WARNING 24-01-12 15:50:27.0281 +07 gradient_boosted_trees.cc:1886] \"goss_alpha\" set but \"sampling_method\" not equal to \"GOSS\".\n",
      "[WARNING 24-01-12 15:50:27.0282 +07 gradient_boosted_trees.cc:1897] \"goss_beta\" set but \"sampling_method\" not equal to \"GOSS\".\n",
      "[WARNING 24-01-12 15:50:27.0282 +07 gradient_boosted_trees.cc:1911] \"selective_gradient_boosting_ratio\" set but \"sampling_method\" not equal to \"SELGB\".\n",
      "[INFO 24-01-12 15:50:27.3122 +07 kernel.cc:1233] Loading model from path /var/folders/08/pfjkw6qj6432p465r25wkxf80000gp/T/tmp6e7nwd28/model/ with prefix bb7a18badfeb4553\n",
      "[INFO 24-01-12 15:50:27.3153 +07 kernel.cc:1061] Use fast generic engine\n"
     ]
    },
    {
     "name": "stdout",
     "output_type": "stream",
     "text": [
      "i: 23\n"
     ]
    },
    {
     "name": "stderr",
     "output_type": "stream",
     "text": [
      "[WARNING 24-01-12 15:50:27.5236 +07 gradient_boosted_trees.cc:1886] \"goss_alpha\" set but \"sampling_method\" not equal to \"GOSS\".\n",
      "[WARNING 24-01-12 15:50:27.5237 +07 gradient_boosted_trees.cc:1897] \"goss_beta\" set but \"sampling_method\" not equal to \"GOSS\".\n",
      "[WARNING 24-01-12 15:50:27.5237 +07 gradient_boosted_trees.cc:1911] \"selective_gradient_boosting_ratio\" set but \"sampling_method\" not equal to \"SELGB\".\n",
      "[INFO 24-01-12 15:50:27.8334 +07 kernel.cc:1233] Loading model from path /var/folders/08/pfjkw6qj6432p465r25wkxf80000gp/T/tmp_qemn746/model/ with prefix 041da05f6bd54a25\n",
      "[INFO 24-01-12 15:50:27.8369 +07 kernel.cc:1061] Use fast generic engine\n"
     ]
    },
    {
     "name": "stdout",
     "output_type": "stream",
     "text": [
      "i: 24\n"
     ]
    },
    {
     "name": "stderr",
     "output_type": "stream",
     "text": [
      "[WARNING 24-01-12 15:50:28.0663 +07 gradient_boosted_trees.cc:1886] \"goss_alpha\" set but \"sampling_method\" not equal to \"GOSS\".\n",
      "[WARNING 24-01-12 15:50:28.0664 +07 gradient_boosted_trees.cc:1897] \"goss_beta\" set but \"sampling_method\" not equal to \"GOSS\".\n",
      "[WARNING 24-01-12 15:50:28.0664 +07 gradient_boosted_trees.cc:1911] \"selective_gradient_boosting_ratio\" set but \"sampling_method\" not equal to \"SELGB\".\n",
      "[INFO 24-01-12 15:50:28.3231 +07 kernel.cc:1233] Loading model from path /var/folders/08/pfjkw6qj6432p465r25wkxf80000gp/T/tmpg9sw7t_h/model/ with prefix 5bf8578d2a7b4d1a\n",
      "[INFO 24-01-12 15:50:28.3251 +07 kernel.cc:1061] Use fast generic engine\n"
     ]
    },
    {
     "name": "stdout",
     "output_type": "stream",
     "text": [
      "i: 25\n"
     ]
    },
    {
     "name": "stderr",
     "output_type": "stream",
     "text": [
      "[WARNING 24-01-12 15:50:28.5312 +07 gradient_boosted_trees.cc:1886] \"goss_alpha\" set but \"sampling_method\" not equal to \"GOSS\".\n",
      "[WARNING 24-01-12 15:50:28.5313 +07 gradient_boosted_trees.cc:1897] \"goss_beta\" set but \"sampling_method\" not equal to \"GOSS\".\n",
      "[WARNING 24-01-12 15:50:28.5313 +07 gradient_boosted_trees.cc:1911] \"selective_gradient_boosting_ratio\" set but \"sampling_method\" not equal to \"SELGB\".\n",
      "[INFO 24-01-12 15:50:28.8341 +07 kernel.cc:1233] Loading model from path /var/folders/08/pfjkw6qj6432p465r25wkxf80000gp/T/tmpy7hanoal/model/ with prefix 0bab854b779a4c93\n",
      "[INFO 24-01-12 15:50:28.8369 +07 kernel.cc:1061] Use fast generic engine\n"
     ]
    },
    {
     "name": "stdout",
     "output_type": "stream",
     "text": [
      "i: 26\n"
     ]
    },
    {
     "name": "stderr",
     "output_type": "stream",
     "text": [
      "[WARNING 24-01-12 15:50:29.0533 +07 gradient_boosted_trees.cc:1886] \"goss_alpha\" set but \"sampling_method\" not equal to \"GOSS\".\n",
      "[WARNING 24-01-12 15:50:29.0534 +07 gradient_boosted_trees.cc:1897] \"goss_beta\" set but \"sampling_method\" not equal to \"GOSS\".\n",
      "[WARNING 24-01-12 15:50:29.0534 +07 gradient_boosted_trees.cc:1911] \"selective_gradient_boosting_ratio\" set but \"sampling_method\" not equal to \"SELGB\".\n",
      "[INFO 24-01-12 15:50:29.4557 +07 kernel.cc:1233] Loading model from path /var/folders/08/pfjkw6qj6432p465r25wkxf80000gp/T/tmpvue_8kxb/model/ with prefix 8f93bfb4faf64f95\n",
      "[INFO 24-01-12 15:50:29.4612 +07 kernel.cc:1061] Use fast generic engine\n"
     ]
    },
    {
     "name": "stdout",
     "output_type": "stream",
     "text": [
      "i: 27\n"
     ]
    },
    {
     "name": "stderr",
     "output_type": "stream",
     "text": [
      "[WARNING 24-01-12 15:50:29.6733 +07 gradient_boosted_trees.cc:1886] \"goss_alpha\" set but \"sampling_method\" not equal to \"GOSS\".\n",
      "[WARNING 24-01-12 15:50:29.6733 +07 gradient_boosted_trees.cc:1897] \"goss_beta\" set but \"sampling_method\" not equal to \"GOSS\".\n",
      "[WARNING 24-01-12 15:50:29.6733 +07 gradient_boosted_trees.cc:1911] \"selective_gradient_boosting_ratio\" set but \"sampling_method\" not equal to \"SELGB\".\n",
      "[INFO 24-01-12 15:50:29.9931 +07 kernel.cc:1233] Loading model from path /var/folders/08/pfjkw6qj6432p465r25wkxf80000gp/T/tmpuz54s9j0/model/ with prefix 6cae1bdf5d824653\n",
      "[INFO 24-01-12 15:50:29.9964 +07 kernel.cc:1061] Use fast generic engine\n"
     ]
    },
    {
     "name": "stdout",
     "output_type": "stream",
     "text": [
      "i: 28\n"
     ]
    },
    {
     "name": "stderr",
     "output_type": "stream",
     "text": [
      "[WARNING 24-01-12 15:50:30.2037 +07 gradient_boosted_trees.cc:1886] \"goss_alpha\" set but \"sampling_method\" not equal to \"GOSS\".\n",
      "[WARNING 24-01-12 15:50:30.2037 +07 gradient_boosted_trees.cc:1897] \"goss_beta\" set but \"sampling_method\" not equal to \"GOSS\".\n",
      "[WARNING 24-01-12 15:50:30.2037 +07 gradient_boosted_trees.cc:1911] \"selective_gradient_boosting_ratio\" set but \"sampling_method\" not equal to \"SELGB\".\n",
      "[INFO 24-01-12 15:50:30.4721 +07 kernel.cc:1233] Loading model from path /var/folders/08/pfjkw6qj6432p465r25wkxf80000gp/T/tmpe4rfnle3/model/ with prefix 710af50baf3644ee\n",
      "[INFO 24-01-12 15:50:30.4744 +07 kernel.cc:1061] Use fast generic engine\n"
     ]
    },
    {
     "name": "stdout",
     "output_type": "stream",
     "text": [
      "i: 29\n"
     ]
    },
    {
     "name": "stderr",
     "output_type": "stream",
     "text": [
      "[WARNING 24-01-12 15:50:30.6785 +07 gradient_boosted_trees.cc:1886] \"goss_alpha\" set but \"sampling_method\" not equal to \"GOSS\".\n",
      "[WARNING 24-01-12 15:50:30.6785 +07 gradient_boosted_trees.cc:1897] \"goss_beta\" set but \"sampling_method\" not equal to \"GOSS\".\n",
      "[WARNING 24-01-12 15:50:30.6786 +07 gradient_boosted_trees.cc:1911] \"selective_gradient_boosting_ratio\" set but \"sampling_method\" not equal to \"SELGB\".\n",
      "[INFO 24-01-12 15:50:31.1778 +07 kernel.cc:1233] Loading model from path /var/folders/08/pfjkw6qj6432p465r25wkxf80000gp/T/tmpj52_qdqs/model/ with prefix 20bb0d12f4094bfa\n",
      "[INFO 24-01-12 15:50:31.1861 +07 kernel.cc:1061] Use fast generic engine\n"
     ]
    },
    {
     "name": "stdout",
     "output_type": "stream",
     "text": [
      "i: 30\n"
     ]
    },
    {
     "name": "stderr",
     "output_type": "stream",
     "text": [
      "[WARNING 24-01-12 15:50:31.4144 +07 gradient_boosted_trees.cc:1886] \"goss_alpha\" set but \"sampling_method\" not equal to \"GOSS\".\n",
      "[WARNING 24-01-12 15:50:31.4145 +07 gradient_boosted_trees.cc:1897] \"goss_beta\" set but \"sampling_method\" not equal to \"GOSS\".\n",
      "[WARNING 24-01-12 15:50:31.4145 +07 gradient_boosted_trees.cc:1911] \"selective_gradient_boosting_ratio\" set but \"sampling_method\" not equal to \"SELGB\".\n",
      "[INFO 24-01-12 15:50:31.8324 +07 kernel.cc:1233] Loading model from path /var/folders/08/pfjkw6qj6432p465r25wkxf80000gp/T/tmpvwdupiyl/model/ with prefix 7dab567ad80c4d8a\n",
      "[INFO 24-01-12 15:50:31.8390 +07 kernel.cc:1061] Use fast generic engine\n"
     ]
    },
    {
     "name": "stdout",
     "output_type": "stream",
     "text": [
      "i: 31\n"
     ]
    },
    {
     "name": "stderr",
     "output_type": "stream",
     "text": [
      "[WARNING 24-01-12 15:50:32.0465 +07 gradient_boosted_trees.cc:1886] \"goss_alpha\" set but \"sampling_method\" not equal to \"GOSS\".\n",
      "[WARNING 24-01-12 15:50:32.0466 +07 gradient_boosted_trees.cc:1897] \"goss_beta\" set but \"sampling_method\" not equal to \"GOSS\".\n",
      "[WARNING 24-01-12 15:50:32.0466 +07 gradient_boosted_trees.cc:1911] \"selective_gradient_boosting_ratio\" set but \"sampling_method\" not equal to \"SELGB\".\n",
      "[INFO 24-01-12 15:50:32.3774 +07 kernel.cc:1233] Loading model from path /var/folders/08/pfjkw6qj6432p465r25wkxf80000gp/T/tmp6qwsi6c0/model/ with prefix c4a0ac1817b84b2f\n",
      "[INFO 24-01-12 15:50:32.3819 +07 kernel.cc:1061] Use fast generic engine\n"
     ]
    },
    {
     "name": "stdout",
     "output_type": "stream",
     "text": [
      "i: 32\n"
     ]
    },
    {
     "name": "stderr",
     "output_type": "stream",
     "text": [
      "[WARNING 24-01-12 15:50:32.5881 +07 gradient_boosted_trees.cc:1886] \"goss_alpha\" set but \"sampling_method\" not equal to \"GOSS\".\n",
      "[WARNING 24-01-12 15:50:32.5881 +07 gradient_boosted_trees.cc:1897] \"goss_beta\" set but \"sampling_method\" not equal to \"GOSS\".\n",
      "[WARNING 24-01-12 15:50:32.5881 +07 gradient_boosted_trees.cc:1911] \"selective_gradient_boosting_ratio\" set but \"sampling_method\" not equal to \"SELGB\".\n",
      "[INFO 24-01-12 15:50:32.8295 +07 kernel.cc:1233] Loading model from path /var/folders/08/pfjkw6qj6432p465r25wkxf80000gp/T/tmpzav0l_at/model/ with prefix 68c68ac0525843c6\n",
      "[INFO 24-01-12 15:50:32.8308 +07 kernel.cc:1061] Use fast generic engine\n"
     ]
    },
    {
     "name": "stdout",
     "output_type": "stream",
     "text": [
      "i: 33\n"
     ]
    },
    {
     "name": "stderr",
     "output_type": "stream",
     "text": [
      "[WARNING 24-01-12 15:50:33.0373 +07 gradient_boosted_trees.cc:1886] \"goss_alpha\" set but \"sampling_method\" not equal to \"GOSS\".\n",
      "[WARNING 24-01-12 15:50:33.0373 +07 gradient_boosted_trees.cc:1897] \"goss_beta\" set but \"sampling_method\" not equal to \"GOSS\".\n",
      "[WARNING 24-01-12 15:50:33.0373 +07 gradient_boosted_trees.cc:1911] \"selective_gradient_boosting_ratio\" set but \"sampling_method\" not equal to \"SELGB\".\n",
      "[INFO 24-01-12 15:50:33.3361 +07 kernel.cc:1233] Loading model from path /var/folders/08/pfjkw6qj6432p465r25wkxf80000gp/T/tmpt6g0ncwo/model/ with prefix 734620b678864da4\n",
      "[INFO 24-01-12 15:50:33.3393 +07 kernel.cc:1061] Use fast generic engine\n"
     ]
    },
    {
     "name": "stdout",
     "output_type": "stream",
     "text": [
      "i: 34\n"
     ]
    },
    {
     "name": "stderr",
     "output_type": "stream",
     "text": [
      "[WARNING 24-01-12 15:50:33.5473 +07 gradient_boosted_trees.cc:1886] \"goss_alpha\" set but \"sampling_method\" not equal to \"GOSS\".\n",
      "[WARNING 24-01-12 15:50:33.5473 +07 gradient_boosted_trees.cc:1897] \"goss_beta\" set but \"sampling_method\" not equal to \"GOSS\".\n",
      "[WARNING 24-01-12 15:50:33.5473 +07 gradient_boosted_trees.cc:1911] \"selective_gradient_boosting_ratio\" set but \"sampling_method\" not equal to \"SELGB\".\n",
      "[INFO 24-01-12 15:50:33.8217 +07 kernel.cc:1233] Loading model from path /var/folders/08/pfjkw6qj6432p465r25wkxf80000gp/T/tmp3m_jiola/model/ with prefix e469b41695684802\n",
      "[INFO 24-01-12 15:50:33.8243 +07 kernel.cc:1061] Use fast generic engine\n"
     ]
    },
    {
     "name": "stdout",
     "output_type": "stream",
     "text": [
      "i: 35\n"
     ]
    },
    {
     "name": "stderr",
     "output_type": "stream",
     "text": [
      "[WARNING 24-01-12 15:50:34.0299 +07 gradient_boosted_trees.cc:1886] \"goss_alpha\" set but \"sampling_method\" not equal to \"GOSS\".\n",
      "[WARNING 24-01-12 15:50:34.0299 +07 gradient_boosted_trees.cc:1897] \"goss_beta\" set but \"sampling_method\" not equal to \"GOSS\".\n",
      "[WARNING 24-01-12 15:50:34.0299 +07 gradient_boosted_trees.cc:1911] \"selective_gradient_boosting_ratio\" set but \"sampling_method\" not equal to \"SELGB\".\n",
      "[INFO 24-01-12 15:50:34.3131 +07 kernel.cc:1233] Loading model from path /var/folders/08/pfjkw6qj6432p465r25wkxf80000gp/T/tmpo13glixb/model/ with prefix 3a63d00b996f4baf\n",
      "[INFO 24-01-12 15:50:34.3159 +07 kernel.cc:1061] Use fast generic engine\n"
     ]
    },
    {
     "name": "stdout",
     "output_type": "stream",
     "text": [
      "i: 36\n"
     ]
    },
    {
     "name": "stderr",
     "output_type": "stream",
     "text": [
      "[WARNING 24-01-12 15:50:34.5273 +07 gradient_boosted_trees.cc:1886] \"goss_alpha\" set but \"sampling_method\" not equal to \"GOSS\".\n",
      "[WARNING 24-01-12 15:50:34.5274 +07 gradient_boosted_trees.cc:1897] \"goss_beta\" set but \"sampling_method\" not equal to \"GOSS\".\n",
      "[WARNING 24-01-12 15:50:34.5274 +07 gradient_boosted_trees.cc:1911] \"selective_gradient_boosting_ratio\" set but \"sampling_method\" not equal to \"SELGB\".\n",
      "[INFO 24-01-12 15:50:34.9410 +07 kernel.cc:1233] Loading model from path /var/folders/08/pfjkw6qj6432p465r25wkxf80000gp/T/tmpf9ooory5/model/ with prefix ae0b58a1891d4c11\n",
      "[INFO 24-01-12 15:50:34.9475 +07 kernel.cc:1061] Use fast generic engine\n"
     ]
    },
    {
     "name": "stdout",
     "output_type": "stream",
     "text": [
      "i: 37\n"
     ]
    },
    {
     "name": "stderr",
     "output_type": "stream",
     "text": [
      "[WARNING 24-01-12 15:50:35.1594 +07 gradient_boosted_trees.cc:1886] \"goss_alpha\" set but \"sampling_method\" not equal to \"GOSS\".\n",
      "[WARNING 24-01-12 15:50:35.1595 +07 gradient_boosted_trees.cc:1897] \"goss_beta\" set but \"sampling_method\" not equal to \"GOSS\".\n",
      "[WARNING 24-01-12 15:50:35.1595 +07 gradient_boosted_trees.cc:1911] \"selective_gradient_boosting_ratio\" set but \"sampling_method\" not equal to \"SELGB\".\n",
      "[INFO 24-01-12 15:50:35.4030 +07 kernel.cc:1233] Loading model from path /var/folders/08/pfjkw6qj6432p465r25wkxf80000gp/T/tmprjtzbwbi/model/ with prefix 1e3e9c804b21417a\n",
      "[INFO 24-01-12 15:50:35.4045 +07 kernel.cc:1061] Use fast generic engine\n"
     ]
    },
    {
     "name": "stdout",
     "output_type": "stream",
     "text": [
      "i: 38\n"
     ]
    },
    {
     "name": "stderr",
     "output_type": "stream",
     "text": [
      "[WARNING 24-01-12 15:50:35.6167 +07 gradient_boosted_trees.cc:1886] \"goss_alpha\" set but \"sampling_method\" not equal to \"GOSS\".\n",
      "[WARNING 24-01-12 15:50:35.6168 +07 gradient_boosted_trees.cc:1897] \"goss_beta\" set but \"sampling_method\" not equal to \"GOSS\".\n",
      "[WARNING 24-01-12 15:50:35.6168 +07 gradient_boosted_trees.cc:1911] \"selective_gradient_boosting_ratio\" set but \"sampling_method\" not equal to \"SELGB\".\n",
      "[INFO 24-01-12 15:50:35.9655 +07 kernel.cc:1233] Loading model from path /var/folders/08/pfjkw6qj6432p465r25wkxf80000gp/T/tmp2im3t83k/model/ with prefix aefb602c907e4947\n",
      "[INFO 24-01-12 15:50:35.9699 +07 abstract_model.cc:1344] Engine \"GradientBoostedTreesQuickScorerExtended\" built\n",
      "[INFO 24-01-12 15:50:35.9699 +07 kernel.cc:1061] Use fast generic engine\n"
     ]
    },
    {
     "name": "stdout",
     "output_type": "stream",
     "text": [
      "i: 39\n"
     ]
    },
    {
     "name": "stderr",
     "output_type": "stream",
     "text": [
      "[WARNING 24-01-12 15:50:36.1772 +07 gradient_boosted_trees.cc:1886] \"goss_alpha\" set but \"sampling_method\" not equal to \"GOSS\".\n",
      "[WARNING 24-01-12 15:50:36.1772 +07 gradient_boosted_trees.cc:1897] \"goss_beta\" set but \"sampling_method\" not equal to \"GOSS\".\n",
      "[WARNING 24-01-12 15:50:36.1772 +07 gradient_boosted_trees.cc:1911] \"selective_gradient_boosting_ratio\" set but \"sampling_method\" not equal to \"SELGB\".\n",
      "[INFO 24-01-12 15:50:36.5282 +07 kernel.cc:1233] Loading model from path /var/folders/08/pfjkw6qj6432p465r25wkxf80000gp/T/tmp4pnztpuw/model/ with prefix 9b2925858bdc4ba5\n",
      "[INFO 24-01-12 15:50:36.5332 +07 kernel.cc:1061] Use fast generic engine\n"
     ]
    },
    {
     "name": "stdout",
     "output_type": "stream",
     "text": [
      "i: 40\n"
     ]
    },
    {
     "name": "stderr",
     "output_type": "stream",
     "text": [
      "[WARNING 24-01-12 15:50:36.7431 +07 gradient_boosted_trees.cc:1886] \"goss_alpha\" set but \"sampling_method\" not equal to \"GOSS\".\n",
      "[WARNING 24-01-12 15:50:36.7431 +07 gradient_boosted_trees.cc:1897] \"goss_beta\" set but \"sampling_method\" not equal to \"GOSS\".\n",
      "[WARNING 24-01-12 15:50:36.7432 +07 gradient_boosted_trees.cc:1911] \"selective_gradient_boosting_ratio\" set but \"sampling_method\" not equal to \"SELGB\".\n",
      "[INFO 24-01-12 15:50:37.0594 +07 kernel.cc:1233] Loading model from path /var/folders/08/pfjkw6qj6432p465r25wkxf80000gp/T/tmpon3mr5n1/model/ with prefix 7e0b6b124cbe48c7\n",
      "[INFO 24-01-12 15:50:37.0634 +07 kernel.cc:1061] Use fast generic engine\n"
     ]
    },
    {
     "name": "stdout",
     "output_type": "stream",
     "text": [
      "i: 41\n"
     ]
    },
    {
     "name": "stderr",
     "output_type": "stream",
     "text": [
      "[WARNING 24-01-12 15:50:37.2663 +07 gradient_boosted_trees.cc:1886] \"goss_alpha\" set but \"sampling_method\" not equal to \"GOSS\".\n",
      "[WARNING 24-01-12 15:50:37.2663 +07 gradient_boosted_trees.cc:1897] \"goss_beta\" set but \"sampling_method\" not equal to \"GOSS\".\n",
      "[WARNING 24-01-12 15:50:37.2663 +07 gradient_boosted_trees.cc:1911] \"selective_gradient_boosting_ratio\" set but \"sampling_method\" not equal to \"SELGB\".\n",
      "[INFO 24-01-12 15:50:37.5551 +07 kernel.cc:1233] Loading model from path /var/folders/08/pfjkw6qj6432p465r25wkxf80000gp/T/tmpnpwyo5sc/model/ with prefix 0ecb4ca6ac904e26\n",
      "[INFO 24-01-12 15:50:37.5578 +07 kernel.cc:1061] Use fast generic engine\n"
     ]
    },
    {
     "name": "stdout",
     "output_type": "stream",
     "text": [
      "i: 42\n"
     ]
    },
    {
     "name": "stderr",
     "output_type": "stream",
     "text": [
      "[WARNING 24-01-12 15:50:37.7688 +07 gradient_boosted_trees.cc:1886] \"goss_alpha\" set but \"sampling_method\" not equal to \"GOSS\".\n",
      "[WARNING 24-01-12 15:50:37.7688 +07 gradient_boosted_trees.cc:1897] \"goss_beta\" set but \"sampling_method\" not equal to \"GOSS\".\n",
      "[WARNING 24-01-12 15:50:37.7688 +07 gradient_boosted_trees.cc:1911] \"selective_gradient_boosting_ratio\" set but \"sampling_method\" not equal to \"SELGB\".\n",
      "[INFO 24-01-12 15:50:38.0297 +07 kernel.cc:1233] Loading model from path /var/folders/08/pfjkw6qj6432p465r25wkxf80000gp/T/tmpsdt9v1ga/model/ with prefix f2f3c24cd247476c\n",
      "[INFO 24-01-12 15:50:38.0319 +07 kernel.cc:1061] Use fast generic engine\n"
     ]
    },
    {
     "name": "stdout",
     "output_type": "stream",
     "text": [
      "i: 43\n"
     ]
    },
    {
     "name": "stderr",
     "output_type": "stream",
     "text": [
      "[WARNING 24-01-12 15:50:38.2457 +07 gradient_boosted_trees.cc:1886] \"goss_alpha\" set but \"sampling_method\" not equal to \"GOSS\".\n",
      "[WARNING 24-01-12 15:50:38.2457 +07 gradient_boosted_trees.cc:1897] \"goss_beta\" set but \"sampling_method\" not equal to \"GOSS\".\n",
      "[WARNING 24-01-12 15:50:38.2457 +07 gradient_boosted_trees.cc:1911] \"selective_gradient_boosting_ratio\" set but \"sampling_method\" not equal to \"SELGB\".\n",
      "[INFO 24-01-12 15:50:38.5795 +07 kernel.cc:1233] Loading model from path /var/folders/08/pfjkw6qj6432p465r25wkxf80000gp/T/tmp7cdc8nri/model/ with prefix 6ea7949366894158\n",
      "[INFO 24-01-12 15:50:38.5835 +07 kernel.cc:1061] Use fast generic engine\n"
     ]
    },
    {
     "name": "stdout",
     "output_type": "stream",
     "text": [
      "i: 44\n"
     ]
    },
    {
     "name": "stderr",
     "output_type": "stream",
     "text": [
      "[WARNING 24-01-12 15:50:38.7919 +07 gradient_boosted_trees.cc:1886] \"goss_alpha\" set but \"sampling_method\" not equal to \"GOSS\".\n",
      "[WARNING 24-01-12 15:50:38.7919 +07 gradient_boosted_trees.cc:1897] \"goss_beta\" set but \"sampling_method\" not equal to \"GOSS\".\n",
      "[WARNING 24-01-12 15:50:38.7919 +07 gradient_boosted_trees.cc:1911] \"selective_gradient_boosting_ratio\" set but \"sampling_method\" not equal to \"SELGB\".\n",
      "[INFO 24-01-12 15:50:39.0984 +07 kernel.cc:1233] Loading model from path /var/folders/08/pfjkw6qj6432p465r25wkxf80000gp/T/tmp38zttosq/model/ with prefix a92b6b6d7f934d6c\n",
      "[INFO 24-01-12 15:50:39.1006 +07 kernel.cc:1061] Use fast generic engine\n"
     ]
    },
    {
     "name": "stdout",
     "output_type": "stream",
     "text": [
      "i: 45\n"
     ]
    },
    {
     "name": "stderr",
     "output_type": "stream",
     "text": [
      "[WARNING 24-01-12 15:50:39.3282 +07 gradient_boosted_trees.cc:1886] \"goss_alpha\" set but \"sampling_method\" not equal to \"GOSS\".\n",
      "[WARNING 24-01-12 15:50:39.3282 +07 gradient_boosted_trees.cc:1897] \"goss_beta\" set but \"sampling_method\" not equal to \"GOSS\".\n",
      "[WARNING 24-01-12 15:50:39.3282 +07 gradient_boosted_trees.cc:1911] \"selective_gradient_boosting_ratio\" set but \"sampling_method\" not equal to \"SELGB\".\n",
      "[INFO 24-01-12 15:50:39.5989 +07 kernel.cc:1233] Loading model from path /var/folders/08/pfjkw6qj6432p465r25wkxf80000gp/T/tmp8y_glec8/model/ with prefix 452f01d4b88e4d5d\n",
      "[INFO 24-01-12 15:50:39.6006 +07 kernel.cc:1061] Use fast generic engine\n"
     ]
    },
    {
     "name": "stdout",
     "output_type": "stream",
     "text": [
      "i: 46\n"
     ]
    },
    {
     "name": "stderr",
     "output_type": "stream",
     "text": [
      "[WARNING 24-01-12 15:50:39.8174 +07 gradient_boosted_trees.cc:1886] \"goss_alpha\" set but \"sampling_method\" not equal to \"GOSS\".\n",
      "[WARNING 24-01-12 15:50:39.8174 +07 gradient_boosted_trees.cc:1897] \"goss_beta\" set but \"sampling_method\" not equal to \"GOSS\".\n",
      "[WARNING 24-01-12 15:50:39.8174 +07 gradient_boosted_trees.cc:1911] \"selective_gradient_boosting_ratio\" set but \"sampling_method\" not equal to \"SELGB\".\n",
      "[INFO 24-01-12 15:50:40.4440 +07 kernel.cc:1233] Loading model from path /var/folders/08/pfjkw6qj6432p465r25wkxf80000gp/T/tmpabxa23n8/model/ with prefix 27bbb3ee95cb40cf\n",
      "[INFO 24-01-12 15:50:40.4472 +07 kernel.cc:1061] Use fast generic engine\n"
     ]
    },
    {
     "name": "stdout",
     "output_type": "stream",
     "text": [
      "i: 47\n"
     ]
    },
    {
     "name": "stderr",
     "output_type": "stream",
     "text": [
      "[WARNING 24-01-12 15:50:40.6810 +07 gradient_boosted_trees.cc:1886] \"goss_alpha\" set but \"sampling_method\" not equal to \"GOSS\".\n",
      "[WARNING 24-01-12 15:50:40.6810 +07 gradient_boosted_trees.cc:1897] \"goss_beta\" set but \"sampling_method\" not equal to \"GOSS\".\n",
      "[WARNING 24-01-12 15:50:40.6810 +07 gradient_boosted_trees.cc:1911] \"selective_gradient_boosting_ratio\" set but \"sampling_method\" not equal to \"SELGB\".\n",
      "[INFO 24-01-12 15:50:41.0165 +07 kernel.cc:1233] Loading model from path /var/folders/08/pfjkw6qj6432p465r25wkxf80000gp/T/tmpzbmv1k3y/model/ with prefix bdbd4d805429428d\n",
      "[INFO 24-01-12 15:50:41.0206 +07 kernel.cc:1061] Use fast generic engine\n"
     ]
    },
    {
     "name": "stdout",
     "output_type": "stream",
     "text": [
      "i: 48\n"
     ]
    },
    {
     "name": "stderr",
     "output_type": "stream",
     "text": [
      "[WARNING 24-01-12 15:50:41.2354 +07 gradient_boosted_trees.cc:1886] \"goss_alpha\" set but \"sampling_method\" not equal to \"GOSS\".\n",
      "[WARNING 24-01-12 15:50:41.2355 +07 gradient_boosted_trees.cc:1897] \"goss_beta\" set but \"sampling_method\" not equal to \"GOSS\".\n",
      "[WARNING 24-01-12 15:50:41.2355 +07 gradient_boosted_trees.cc:1911] \"selective_gradient_boosting_ratio\" set but \"sampling_method\" not equal to \"SELGB\".\n",
      "[INFO 24-01-12 15:50:41.4823 +07 kernel.cc:1233] Loading model from path /var/folders/08/pfjkw6qj6432p465r25wkxf80000gp/T/tmpklxlezwd/model/ with prefix a472b9f985c34b87\n",
      "[INFO 24-01-12 15:50:41.4838 +07 kernel.cc:1061] Use fast generic engine\n"
     ]
    },
    {
     "name": "stdout",
     "output_type": "stream",
     "text": [
      "i: 49\n"
     ]
    },
    {
     "name": "stderr",
     "output_type": "stream",
     "text": [
      "[WARNING 24-01-12 15:50:41.6945 +07 gradient_boosted_trees.cc:1886] \"goss_alpha\" set but \"sampling_method\" not equal to \"GOSS\".\n",
      "[WARNING 24-01-12 15:50:41.6945 +07 gradient_boosted_trees.cc:1897] \"goss_beta\" set but \"sampling_method\" not equal to \"GOSS\".\n",
      "[WARNING 24-01-12 15:50:41.6945 +07 gradient_boosted_trees.cc:1911] \"selective_gradient_boosting_ratio\" set but \"sampling_method\" not equal to \"SELGB\".\n",
      "[INFO 24-01-12 15:50:41.9692 +07 kernel.cc:1233] Loading model from path /var/folders/08/pfjkw6qj6432p465r25wkxf80000gp/T/tmpmljhlmzo/model/ with prefix 190b737f9c8e47f3\n",
      "[INFO 24-01-12 15:50:41.9719 +07 kernel.cc:1061] Use fast generic engine\n"
     ]
    },
    {
     "name": "stdout",
     "output_type": "stream",
     "text": [
      "i: 50\n"
     ]
    },
    {
     "name": "stderr",
     "output_type": "stream",
     "text": [
      "[WARNING 24-01-12 15:50:42.1785 +07 gradient_boosted_trees.cc:1886] \"goss_alpha\" set but \"sampling_method\" not equal to \"GOSS\".\n",
      "[WARNING 24-01-12 15:50:42.1785 +07 gradient_boosted_trees.cc:1897] \"goss_beta\" set but \"sampling_method\" not equal to \"GOSS\".\n",
      "[WARNING 24-01-12 15:50:42.1785 +07 gradient_boosted_trees.cc:1911] \"selective_gradient_boosting_ratio\" set but \"sampling_method\" not equal to \"SELGB\".\n",
      "[INFO 24-01-12 15:50:42.4755 +07 kernel.cc:1233] Loading model from path /var/folders/08/pfjkw6qj6432p465r25wkxf80000gp/T/tmpovyu4xol/model/ with prefix f8013b74f7854fd4\n",
      "[INFO 24-01-12 15:50:42.4783 +07 kernel.cc:1061] Use fast generic engine\n"
     ]
    },
    {
     "name": "stdout",
     "output_type": "stream",
     "text": [
      "i: 51\n"
     ]
    },
    {
     "name": "stderr",
     "output_type": "stream",
     "text": [
      "[WARNING 24-01-12 15:50:42.6886 +07 gradient_boosted_trees.cc:1886] \"goss_alpha\" set but \"sampling_method\" not equal to \"GOSS\".\n",
      "[WARNING 24-01-12 15:50:42.6886 +07 gradient_boosted_trees.cc:1897] \"goss_beta\" set but \"sampling_method\" not equal to \"GOSS\".\n",
      "[WARNING 24-01-12 15:50:42.6886 +07 gradient_boosted_trees.cc:1911] \"selective_gradient_boosting_ratio\" set but \"sampling_method\" not equal to \"SELGB\".\n",
      "[INFO 24-01-12 15:50:43.0432 +07 kernel.cc:1233] Loading model from path /var/folders/08/pfjkw6qj6432p465r25wkxf80000gp/T/tmpillvxdej/model/ with prefix 898c41c4e20c4960\n",
      "[INFO 24-01-12 15:50:43.0483 +07 kernel.cc:1061] Use fast generic engine\n"
     ]
    },
    {
     "name": "stdout",
     "output_type": "stream",
     "text": [
      "i: 52\n"
     ]
    },
    {
     "name": "stderr",
     "output_type": "stream",
     "text": [
      "[WARNING 24-01-12 15:50:43.2656 +07 gradient_boosted_trees.cc:1886] \"goss_alpha\" set but \"sampling_method\" not equal to \"GOSS\".\n",
      "[WARNING 24-01-12 15:50:43.2656 +07 gradient_boosted_trees.cc:1897] \"goss_beta\" set but \"sampling_method\" not equal to \"GOSS\".\n",
      "[WARNING 24-01-12 15:50:43.2656 +07 gradient_boosted_trees.cc:1911] \"selective_gradient_boosting_ratio\" set but \"sampling_method\" not equal to \"SELGB\".\n",
      "[INFO 24-01-12 15:50:43.5527 +07 kernel.cc:1233] Loading model from path /var/folders/08/pfjkw6qj6432p465r25wkxf80000gp/T/tmpce5j8q7g/model/ with prefix 699d02369230468a\n",
      "[INFO 24-01-12 15:50:43.5556 +07 kernel.cc:1061] Use fast generic engine\n"
     ]
    },
    {
     "name": "stdout",
     "output_type": "stream",
     "text": [
      "i: 53\n"
     ]
    },
    {
     "name": "stderr",
     "output_type": "stream",
     "text": [
      "[WARNING 24-01-12 15:50:43.7682 +07 gradient_boosted_trees.cc:1886] \"goss_alpha\" set but \"sampling_method\" not equal to \"GOSS\".\n",
      "[WARNING 24-01-12 15:50:43.7683 +07 gradient_boosted_trees.cc:1897] \"goss_beta\" set but \"sampling_method\" not equal to \"GOSS\".\n",
      "[WARNING 24-01-12 15:50:43.7683 +07 gradient_boosted_trees.cc:1911] \"selective_gradient_boosting_ratio\" set but \"sampling_method\" not equal to \"SELGB\".\n",
      "[INFO 24-01-12 15:50:44.0954 +07 kernel.cc:1233] Loading model from path /var/folders/08/pfjkw6qj6432p465r25wkxf80000gp/T/tmpuimsbkmi/model/ with prefix 9f96ff44735042f5\n",
      "[INFO 24-01-12 15:50:44.0985 +07 kernel.cc:1061] Use fast generic engine\n"
     ]
    },
    {
     "name": "stdout",
     "output_type": "stream",
     "text": [
      "i: 54\n"
     ]
    },
    {
     "name": "stderr",
     "output_type": "stream",
     "text": [
      "[WARNING 24-01-12 15:50:44.3258 +07 gradient_boosted_trees.cc:1886] \"goss_alpha\" set but \"sampling_method\" not equal to \"GOSS\".\n",
      "[WARNING 24-01-12 15:50:44.3258 +07 gradient_boosted_trees.cc:1897] \"goss_beta\" set but \"sampling_method\" not equal to \"GOSS\".\n",
      "[WARNING 24-01-12 15:50:44.3258 +07 gradient_boosted_trees.cc:1911] \"selective_gradient_boosting_ratio\" set but \"sampling_method\" not equal to \"SELGB\".\n",
      "[INFO 24-01-12 15:50:44.6064 +07 kernel.cc:1233] Loading model from path /var/folders/08/pfjkw6qj6432p465r25wkxf80000gp/T/tmp9appny9l/model/ with prefix f81e9be0e25f4dd8\n",
      "[INFO 24-01-12 15:50:44.6090 +07 kernel.cc:1061] Use fast generic engine\n"
     ]
    },
    {
     "name": "stdout",
     "output_type": "stream",
     "text": [
      "i: 55\n"
     ]
    },
    {
     "name": "stderr",
     "output_type": "stream",
     "text": [
      "[WARNING 24-01-12 15:50:44.8201 +07 gradient_boosted_trees.cc:1886] \"goss_alpha\" set but \"sampling_method\" not equal to \"GOSS\".\n",
      "[WARNING 24-01-12 15:50:44.8201 +07 gradient_boosted_trees.cc:1897] \"goss_beta\" set but \"sampling_method\" not equal to \"GOSS\".\n",
      "[WARNING 24-01-12 15:50:44.8201 +07 gradient_boosted_trees.cc:1911] \"selective_gradient_boosting_ratio\" set but \"sampling_method\" not equal to \"SELGB\".\n",
      "[INFO 24-01-12 15:50:45.1308 +07 kernel.cc:1233] Loading model from path /var/folders/08/pfjkw6qj6432p465r25wkxf80000gp/T/tmpju9a34jp/model/ with prefix a8ccb18a151042db\n",
      "[INFO 24-01-12 15:50:45.1345 +07 kernel.cc:1061] Use fast generic engine\n"
     ]
    },
    {
     "name": "stdout",
     "output_type": "stream",
     "text": [
      "i: 56\n"
     ]
    },
    {
     "name": "stderr",
     "output_type": "stream",
     "text": [
      "[WARNING 24-01-12 15:50:45.3481 +07 gradient_boosted_trees.cc:1886] \"goss_alpha\" set but \"sampling_method\" not equal to \"GOSS\".\n",
      "[WARNING 24-01-12 15:50:45.3481 +07 gradient_boosted_trees.cc:1897] \"goss_beta\" set but \"sampling_method\" not equal to \"GOSS\".\n",
      "[WARNING 24-01-12 15:50:45.3481 +07 gradient_boosted_trees.cc:1911] \"selective_gradient_boosting_ratio\" set but \"sampling_method\" not equal to \"SELGB\".\n",
      "[INFO 24-01-12 15:50:45.7112 +07 kernel.cc:1233] Loading model from path /var/folders/08/pfjkw6qj6432p465r25wkxf80000gp/T/tmp8xch0e9q/model/ with prefix 2442efc4f1724f05\n",
      "[INFO 24-01-12 15:50:45.7166 +07 kernel.cc:1061] Use fast generic engine\n"
     ]
    },
    {
     "name": "stdout",
     "output_type": "stream",
     "text": [
      "i: 57\n"
     ]
    },
    {
     "name": "stderr",
     "output_type": "stream",
     "text": [
      "[WARNING 24-01-12 15:50:45.9332 +07 gradient_boosted_trees.cc:1886] \"goss_alpha\" set but \"sampling_method\" not equal to \"GOSS\".\n",
      "[WARNING 24-01-12 15:50:45.9333 +07 gradient_boosted_trees.cc:1897] \"goss_beta\" set but \"sampling_method\" not equal to \"GOSS\".\n",
      "[WARNING 24-01-12 15:50:45.9333 +07 gradient_boosted_trees.cc:1911] \"selective_gradient_boosting_ratio\" set but \"sampling_method\" not equal to \"SELGB\".\n",
      "[INFO 24-01-12 15:50:46.1931 +07 kernel.cc:1233] Loading model from path /var/folders/08/pfjkw6qj6432p465r25wkxf80000gp/T/tmp4efjz6h0/model/ with prefix 446d17c8fc4f4853\n",
      "[INFO 24-01-12 15:50:46.1951 +07 abstract_model.cc:1344] Engine \"GradientBoostedTreesQuickScorerExtended\" built\n",
      "[INFO 24-01-12 15:50:46.1951 +07 kernel.cc:1061] Use fast generic engine\n"
     ]
    },
    {
     "name": "stdout",
     "output_type": "stream",
     "text": [
      "i: 58\n"
     ]
    },
    {
     "name": "stderr",
     "output_type": "stream",
     "text": [
      "[WARNING 24-01-12 15:50:46.4102 +07 gradient_boosted_trees.cc:1886] \"goss_alpha\" set but \"sampling_method\" not equal to \"GOSS\".\n",
      "[WARNING 24-01-12 15:50:46.4102 +07 gradient_boosted_trees.cc:1897] \"goss_beta\" set but \"sampling_method\" not equal to \"GOSS\".\n",
      "[WARNING 24-01-12 15:50:46.4102 +07 gradient_boosted_trees.cc:1911] \"selective_gradient_boosting_ratio\" set but \"sampling_method\" not equal to \"SELGB\".\n",
      "[INFO 24-01-12 15:50:46.6660 +07 kernel.cc:1233] Loading model from path /var/folders/08/pfjkw6qj6432p465r25wkxf80000gp/T/tmpa6yt4xn4/model/ with prefix e0b6dc51c69c4d4e\n",
      "[INFO 24-01-12 15:50:46.6677 +07 kernel.cc:1061] Use fast generic engine\n"
     ]
    },
    {
     "name": "stdout",
     "output_type": "stream",
     "text": [
      "i: 59\n"
     ]
    },
    {
     "name": "stderr",
     "output_type": "stream",
     "text": [
      "[WARNING 24-01-12 15:50:46.8758 +07 gradient_boosted_trees.cc:1886] \"goss_alpha\" set but \"sampling_method\" not equal to \"GOSS\".\n",
      "[WARNING 24-01-12 15:50:46.8759 +07 gradient_boosted_trees.cc:1897] \"goss_beta\" set but \"sampling_method\" not equal to \"GOSS\".\n",
      "[WARNING 24-01-12 15:50:46.8759 +07 gradient_boosted_trees.cc:1911] \"selective_gradient_boosting_ratio\" set but \"sampling_method\" not equal to \"SELGB\".\n",
      "[INFO 24-01-12 15:50:47.1924 +07 kernel.cc:1233] Loading model from path /var/folders/08/pfjkw6qj6432p465r25wkxf80000gp/T/tmp1a0ax1sq/model/ with prefix e82e82997e604b5e\n",
      "[INFO 24-01-12 15:50:47.1963 +07 kernel.cc:1061] Use fast generic engine\n"
     ]
    },
    {
     "name": "stdout",
     "output_type": "stream",
     "text": [
      "i: 60\n"
     ]
    },
    {
     "name": "stderr",
     "output_type": "stream",
     "text": [
      "[WARNING 24-01-12 15:50:47.4102 +07 gradient_boosted_trees.cc:1886] \"goss_alpha\" set but \"sampling_method\" not equal to \"GOSS\".\n",
      "[WARNING 24-01-12 15:50:47.4102 +07 gradient_boosted_trees.cc:1897] \"goss_beta\" set but \"sampling_method\" not equal to \"GOSS\".\n",
      "[WARNING 24-01-12 15:50:47.4102 +07 gradient_boosted_trees.cc:1911] \"selective_gradient_boosting_ratio\" set but \"sampling_method\" not equal to \"SELGB\".\n",
      "[INFO 24-01-12 15:50:47.7086 +07 kernel.cc:1233] Loading model from path /var/folders/08/pfjkw6qj6432p465r25wkxf80000gp/T/tmptscfalt_/model/ with prefix e3fd1e4d9ebe4bea\n",
      "[INFO 24-01-12 15:50:47.7120 +07 kernel.cc:1061] Use fast generic engine\n"
     ]
    },
    {
     "name": "stdout",
     "output_type": "stream",
     "text": [
      "i: 61\n"
     ]
    },
    {
     "name": "stderr",
     "output_type": "stream",
     "text": [
      "[WARNING 24-01-12 15:50:47.9340 +07 gradient_boosted_trees.cc:1886] \"goss_alpha\" set but \"sampling_method\" not equal to \"GOSS\".\n",
      "[WARNING 24-01-12 15:50:47.9341 +07 gradient_boosted_trees.cc:1897] \"goss_beta\" set but \"sampling_method\" not equal to \"GOSS\".\n",
      "[WARNING 24-01-12 15:50:47.9341 +07 gradient_boosted_trees.cc:1911] \"selective_gradient_boosting_ratio\" set but \"sampling_method\" not equal to \"SELGB\".\n",
      "[INFO 24-01-12 15:50:48.2284 +07 kernel.cc:1233] Loading model from path /var/folders/08/pfjkw6qj6432p465r25wkxf80000gp/T/tmpckqifbx1/model/ with prefix 7dc86bcf0952419f\n",
      "[INFO 24-01-12 15:50:48.2316 +07 kernel.cc:1061] Use fast generic engine\n"
     ]
    },
    {
     "name": "stdout",
     "output_type": "stream",
     "text": [
      "i: 62\n"
     ]
    },
    {
     "name": "stderr",
     "output_type": "stream",
     "text": [
      "[WARNING 24-01-12 15:50:48.4519 +07 gradient_boosted_trees.cc:1886] \"goss_alpha\" set but \"sampling_method\" not equal to \"GOSS\".\n",
      "[WARNING 24-01-12 15:50:48.4519 +07 gradient_boosted_trees.cc:1897] \"goss_beta\" set but \"sampling_method\" not equal to \"GOSS\".\n",
      "[WARNING 24-01-12 15:50:48.4519 +07 gradient_boosted_trees.cc:1911] \"selective_gradient_boosting_ratio\" set but \"sampling_method\" not equal to \"SELGB\".\n",
      "[INFO 24-01-12 15:50:48.7854 +07 kernel.cc:1233] Loading model from path /var/folders/08/pfjkw6qj6432p465r25wkxf80000gp/T/tmppa2npv2k/model/ with prefix 8d448a3fcbdc44fa\n",
      "[INFO 24-01-12 15:50:48.7893 +07 kernel.cc:1061] Use fast generic engine\n"
     ]
    },
    {
     "name": "stdout",
     "output_type": "stream",
     "text": [
      "i: 63\n"
     ]
    },
    {
     "name": "stderr",
     "output_type": "stream",
     "text": [
      "[WARNING 24-01-12 15:50:48.9923 +07 gradient_boosted_trees.cc:1886] \"goss_alpha\" set but \"sampling_method\" not equal to \"GOSS\".\n",
      "[WARNING 24-01-12 15:50:48.9924 +07 gradient_boosted_trees.cc:1897] \"goss_beta\" set but \"sampling_method\" not equal to \"GOSS\".\n",
      "[WARNING 24-01-12 15:50:48.9924 +07 gradient_boosted_trees.cc:1911] \"selective_gradient_boosting_ratio\" set but \"sampling_method\" not equal to \"SELGB\".\n",
      "[INFO 24-01-12 15:50:49.4157 +07 kernel.cc:1233] Loading model from path /var/folders/08/pfjkw6qj6432p465r25wkxf80000gp/T/tmplcr5ckkm/model/ with prefix d1815e03abf3494b\n",
      "[INFO 24-01-12 15:50:49.4225 +07 kernel.cc:1061] Use fast generic engine\n"
     ]
    },
    {
     "name": "stdout",
     "output_type": "stream",
     "text": [
      "i: 64\n"
     ]
    },
    {
     "name": "stderr",
     "output_type": "stream",
     "text": [
      "[WARNING 24-01-12 15:50:49.6311 +07 gradient_boosted_trees.cc:1886] \"goss_alpha\" set but \"sampling_method\" not equal to \"GOSS\".\n",
      "[WARNING 24-01-12 15:50:49.6312 +07 gradient_boosted_trees.cc:1897] \"goss_beta\" set but \"sampling_method\" not equal to \"GOSS\".\n",
      "[WARNING 24-01-12 15:50:49.6312 +07 gradient_boosted_trees.cc:1911] \"selective_gradient_boosting_ratio\" set but \"sampling_method\" not equal to \"SELGB\".\n",
      "[INFO 24-01-12 15:50:49.9826 +07 kernel.cc:1233] Loading model from path /var/folders/08/pfjkw6qj6432p465r25wkxf80000gp/T/tmpmvglfzwa/model/ with prefix 14bc3a6801f543c1\n",
      "[INFO 24-01-12 15:50:49.9869 +07 kernel.cc:1061] Use fast generic engine\n"
     ]
    },
    {
     "name": "stdout",
     "output_type": "stream",
     "text": [
      "i: 65\n"
     ]
    },
    {
     "name": "stderr",
     "output_type": "stream",
     "text": [
      "[WARNING 24-01-12 15:50:50.1935 +07 gradient_boosted_trees.cc:1886] \"goss_alpha\" set but \"sampling_method\" not equal to \"GOSS\".\n",
      "[WARNING 24-01-12 15:50:50.1935 +07 gradient_boosted_trees.cc:1897] \"goss_beta\" set but \"sampling_method\" not equal to \"GOSS\".\n",
      "[WARNING 24-01-12 15:50:50.1936 +07 gradient_boosted_trees.cc:1911] \"selective_gradient_boosting_ratio\" set but \"sampling_method\" not equal to \"SELGB\".\n",
      "[INFO 24-01-12 15:50:50.4902 +07 kernel.cc:1233] Loading model from path /var/folders/08/pfjkw6qj6432p465r25wkxf80000gp/T/tmp9cgjvtfs/model/ with prefix ffae60af747c44e9\n",
      "[INFO 24-01-12 15:50:50.4933 +07 kernel.cc:1061] Use fast generic engine\n"
     ]
    },
    {
     "name": "stdout",
     "output_type": "stream",
     "text": [
      "i: 66\n"
     ]
    },
    {
     "name": "stderr",
     "output_type": "stream",
     "text": [
      "[WARNING 24-01-12 15:50:50.6976 +07 gradient_boosted_trees.cc:1886] \"goss_alpha\" set but \"sampling_method\" not equal to \"GOSS\".\n",
      "[WARNING 24-01-12 15:50:50.6976 +07 gradient_boosted_trees.cc:1897] \"goss_beta\" set but \"sampling_method\" not equal to \"GOSS\".\n",
      "[WARNING 24-01-12 15:50:50.6976 +07 gradient_boosted_trees.cc:1911] \"selective_gradient_boosting_ratio\" set but \"sampling_method\" not equal to \"SELGB\".\n",
      "[INFO 24-01-12 15:50:50.9833 +07 kernel.cc:1233] Loading model from path /var/folders/08/pfjkw6qj6432p465r25wkxf80000gp/T/tmp82y4wor1/model/ with prefix 63aa0a20bcbf46cb\n",
      "[INFO 24-01-12 15:50:50.9860 +07 kernel.cc:1061] Use fast generic engine\n"
     ]
    },
    {
     "name": "stdout",
     "output_type": "stream",
     "text": [
      "i: 67\n"
     ]
    },
    {
     "name": "stderr",
     "output_type": "stream",
     "text": [
      "[WARNING 24-01-12 15:50:51.2011 +07 gradient_boosted_trees.cc:1886] \"goss_alpha\" set but \"sampling_method\" not equal to \"GOSS\".\n",
      "[WARNING 24-01-12 15:50:51.2011 +07 gradient_boosted_trees.cc:1897] \"goss_beta\" set but \"sampling_method\" not equal to \"GOSS\".\n",
      "[WARNING 24-01-12 15:50:51.2012 +07 gradient_boosted_trees.cc:1911] \"selective_gradient_boosting_ratio\" set but \"sampling_method\" not equal to \"SELGB\".\n",
      "[INFO 24-01-12 15:50:51.5070 +07 kernel.cc:1233] Loading model from path /var/folders/08/pfjkw6qj6432p465r25wkxf80000gp/T/tmpfs96otkl/model/ with prefix a4bb62b721d44eed\n",
      "[INFO 24-01-12 15:50:51.5103 +07 kernel.cc:1061] Use fast generic engine\n"
     ]
    },
    {
     "name": "stdout",
     "output_type": "stream",
     "text": [
      "i: 68\n"
     ]
    },
    {
     "name": "stderr",
     "output_type": "stream",
     "text": [
      "[WARNING 24-01-12 15:50:51.7267 +07 gradient_boosted_trees.cc:1886] \"goss_alpha\" set but \"sampling_method\" not equal to \"GOSS\".\n",
      "[WARNING 24-01-12 15:50:51.7267 +07 gradient_boosted_trees.cc:1897] \"goss_beta\" set but \"sampling_method\" not equal to \"GOSS\".\n",
      "[WARNING 24-01-12 15:50:51.7267 +07 gradient_boosted_trees.cc:1911] \"selective_gradient_boosting_ratio\" set but \"sampling_method\" not equal to \"SELGB\".\n",
      "[INFO 24-01-12 15:50:52.0461 +07 kernel.cc:1233] Loading model from path /var/folders/08/pfjkw6qj6432p465r25wkxf80000gp/T/tmpd0s44irx/model/ with prefix f8a7f07adb5f45de\n",
      "[INFO 24-01-12 15:50:52.0493 +07 kernel.cc:1061] Use fast generic engine\n"
     ]
    },
    {
     "name": "stdout",
     "output_type": "stream",
     "text": [
      "i: 69\n"
     ]
    },
    {
     "name": "stderr",
     "output_type": "stream",
     "text": [
      "[WARNING 24-01-12 15:50:52.2759 +07 gradient_boosted_trees.cc:1886] \"goss_alpha\" set but \"sampling_method\" not equal to \"GOSS\".\n",
      "[WARNING 24-01-12 15:50:52.2760 +07 gradient_boosted_trees.cc:1897] \"goss_beta\" set but \"sampling_method\" not equal to \"GOSS\".\n",
      "[WARNING 24-01-12 15:50:52.2760 +07 gradient_boosted_trees.cc:1911] \"selective_gradient_boosting_ratio\" set but \"sampling_method\" not equal to \"SELGB\".\n",
      "[INFO 24-01-12 15:50:52.5770 +07 kernel.cc:1233] Loading model from path /var/folders/08/pfjkw6qj6432p465r25wkxf80000gp/T/tmp1unz5aqq/model/ with prefix a87d42218bd14053\n",
      "[INFO 24-01-12 15:50:52.5801 +07 kernel.cc:1061] Use fast generic engine\n"
     ]
    },
    {
     "name": "stdout",
     "output_type": "stream",
     "text": [
      "i: 70\n"
     ]
    },
    {
     "name": "stderr",
     "output_type": "stream",
     "text": [
      "[WARNING 24-01-12 15:50:52.8000 +07 gradient_boosted_trees.cc:1886] \"goss_alpha\" set but \"sampling_method\" not equal to \"GOSS\".\n",
      "[WARNING 24-01-12 15:50:52.8000 +07 gradient_boosted_trees.cc:1897] \"goss_beta\" set but \"sampling_method\" not equal to \"GOSS\".\n",
      "[WARNING 24-01-12 15:50:52.8000 +07 gradient_boosted_trees.cc:1911] \"selective_gradient_boosting_ratio\" set but \"sampling_method\" not equal to \"SELGB\".\n",
      "[INFO 24-01-12 15:50:53.2435 +07 kernel.cc:1233] Loading model from path /var/folders/08/pfjkw6qj6432p465r25wkxf80000gp/T/tmphv9vbv9h/model/ with prefix dd596eff20fd4c1f\n",
      "[INFO 24-01-12 15:50:53.2508 +07 kernel.cc:1061] Use fast generic engine\n"
     ]
    },
    {
     "name": "stdout",
     "output_type": "stream",
     "text": [
      "i: 71\n"
     ]
    },
    {
     "name": "stderr",
     "output_type": "stream",
     "text": [
      "[WARNING 24-01-12 15:50:53.4656 +07 gradient_boosted_trees.cc:1886] \"goss_alpha\" set but \"sampling_method\" not equal to \"GOSS\".\n",
      "[WARNING 24-01-12 15:50:53.4656 +07 gradient_boosted_trees.cc:1897] \"goss_beta\" set but \"sampling_method\" not equal to \"GOSS\".\n",
      "[WARNING 24-01-12 15:50:53.4656 +07 gradient_boosted_trees.cc:1911] \"selective_gradient_boosting_ratio\" set but \"sampling_method\" not equal to \"SELGB\".\n",
      "[INFO 24-01-12 15:50:53.7620 +07 kernel.cc:1233] Loading model from path /var/folders/08/pfjkw6qj6432p465r25wkxf80000gp/T/tmpdt4t6meh/model/ with prefix 24e90430e6fa4dd5\n",
      "[INFO 24-01-12 15:50:53.7650 +07 kernel.cc:1061] Use fast generic engine\n"
     ]
    },
    {
     "name": "stdout",
     "output_type": "stream",
     "text": [
      "i: 72\n"
     ]
    },
    {
     "name": "stderr",
     "output_type": "stream",
     "text": [
      "[WARNING 24-01-12 15:50:53.9748 +07 gradient_boosted_trees.cc:1886] \"goss_alpha\" set but \"sampling_method\" not equal to \"GOSS\".\n",
      "[WARNING 24-01-12 15:50:53.9748 +07 gradient_boosted_trees.cc:1897] \"goss_beta\" set but \"sampling_method\" not equal to \"GOSS\".\n",
      "[WARNING 24-01-12 15:50:53.9749 +07 gradient_boosted_trees.cc:1911] \"selective_gradient_boosting_ratio\" set but \"sampling_method\" not equal to \"SELGB\".\n",
      "[INFO 24-01-12 15:50:54.2419 +07 kernel.cc:1233] Loading model from path /var/folders/08/pfjkw6qj6432p465r25wkxf80000gp/T/tmpyqhn9x18/model/ with prefix 3bfbb8b5896b4bcf\n",
      "[INFO 24-01-12 15:50:54.2437 +07 kernel.cc:1061] Use fast generic engine\n"
     ]
    },
    {
     "name": "stdout",
     "output_type": "stream",
     "text": [
      "i: 73\n"
     ]
    },
    {
     "name": "stderr",
     "output_type": "stream",
     "text": [
      "[WARNING 24-01-12 15:50:54.4613 +07 gradient_boosted_trees.cc:1886] \"goss_alpha\" set but \"sampling_method\" not equal to \"GOSS\".\n",
      "[WARNING 24-01-12 15:50:54.4613 +07 gradient_boosted_trees.cc:1897] \"goss_beta\" set but \"sampling_method\" not equal to \"GOSS\".\n",
      "[WARNING 24-01-12 15:50:54.4613 +07 gradient_boosted_trees.cc:1911] \"selective_gradient_boosting_ratio\" set but \"sampling_method\" not equal to \"SELGB\".\n",
      "[INFO 24-01-12 15:50:54.7748 +07 kernel.cc:1233] Loading model from path /var/folders/08/pfjkw6qj6432p465r25wkxf80000gp/T/tmp2pntkp67/model/ with prefix 5a1ad1d1639f4cb2\n",
      "[INFO 24-01-12 15:50:54.7778 +07 kernel.cc:1061] Use fast generic engine\n"
     ]
    },
    {
     "name": "stdout",
     "output_type": "stream",
     "text": [
      "i: 74\n"
     ]
    },
    {
     "name": "stderr",
     "output_type": "stream",
     "text": [
      "[WARNING 24-01-12 15:50:54.9943 +07 gradient_boosted_trees.cc:1886] \"goss_alpha\" set but \"sampling_method\" not equal to \"GOSS\".\n",
      "[WARNING 24-01-12 15:50:54.9943 +07 gradient_boosted_trees.cc:1897] \"goss_beta\" set but \"sampling_method\" not equal to \"GOSS\".\n",
      "[WARNING 24-01-12 15:50:54.9943 +07 gradient_boosted_trees.cc:1911] \"selective_gradient_boosting_ratio\" set but \"sampling_method\" not equal to \"SELGB\".\n",
      "[INFO 24-01-12 15:50:55.3995 +07 kernel.cc:1233] Loading model from path /var/folders/08/pfjkw6qj6432p465r25wkxf80000gp/T/tmp94qy0eav/model/ with prefix 7d3101e27af04114\n",
      "[INFO 24-01-12 15:50:55.4060 +07 kernel.cc:1061] Use fast generic engine\n"
     ]
    },
    {
     "name": "stdout",
     "output_type": "stream",
     "text": [
      "i: 75\n"
     ]
    },
    {
     "name": "stderr",
     "output_type": "stream",
     "text": [
      "[WARNING 24-01-12 15:50:55.6224 +07 gradient_boosted_trees.cc:1886] \"goss_alpha\" set but \"sampling_method\" not equal to \"GOSS\".\n",
      "[WARNING 24-01-12 15:50:55.6224 +07 gradient_boosted_trees.cc:1897] \"goss_beta\" set but \"sampling_method\" not equal to \"GOSS\".\n",
      "[WARNING 24-01-12 15:50:55.6224 +07 gradient_boosted_trees.cc:1911] \"selective_gradient_boosting_ratio\" set but \"sampling_method\" not equal to \"SELGB\".\n",
      "[INFO 24-01-12 15:50:55.9546 +07 kernel.cc:1233] Loading model from path /var/folders/08/pfjkw6qj6432p465r25wkxf80000gp/T/tmpw0nrf8qm/model/ with prefix b0041c2b87c240af\n",
      "[INFO 24-01-12 15:50:55.9586 +07 kernel.cc:1061] Use fast generic engine\n"
     ]
    },
    {
     "name": "stdout",
     "output_type": "stream",
     "text": [
      "i: 76\n"
     ]
    },
    {
     "name": "stderr",
     "output_type": "stream",
     "text": [
      "[WARNING 24-01-12 15:50:56.1723 +07 gradient_boosted_trees.cc:1886] \"goss_alpha\" set but \"sampling_method\" not equal to \"GOSS\".\n",
      "[WARNING 24-01-12 15:50:56.1724 +07 gradient_boosted_trees.cc:1897] \"goss_beta\" set but \"sampling_method\" not equal to \"GOSS\".\n",
      "[WARNING 24-01-12 15:50:56.1724 +07 gradient_boosted_trees.cc:1911] \"selective_gradient_boosting_ratio\" set but \"sampling_method\" not equal to \"SELGB\".\n",
      "[INFO 24-01-12 15:50:56.4182 +07 kernel.cc:1233] Loading model from path /var/folders/08/pfjkw6qj6432p465r25wkxf80000gp/T/tmpt17lekxc/model/ with prefix 424e54ef56e24a67\n",
      "[INFO 24-01-12 15:50:56.4197 +07 abstract_model.cc:1344] Engine \"GradientBoostedTreesQuickScorerExtended\" built\n",
      "[INFO 24-01-12 15:50:56.4197 +07 kernel.cc:1061] Use fast generic engine\n"
     ]
    },
    {
     "name": "stdout",
     "output_type": "stream",
     "text": [
      "i: 77\n"
     ]
    },
    {
     "name": "stderr",
     "output_type": "stream",
     "text": [
      "[WARNING 24-01-12 15:50:56.6274 +07 gradient_boosted_trees.cc:1886] \"goss_alpha\" set but \"sampling_method\" not equal to \"GOSS\".\n",
      "[WARNING 24-01-12 15:50:56.6274 +07 gradient_boosted_trees.cc:1897] \"goss_beta\" set but \"sampling_method\" not equal to \"GOSS\".\n",
      "[WARNING 24-01-12 15:50:56.6274 +07 gradient_boosted_trees.cc:1911] \"selective_gradient_boosting_ratio\" set but \"sampling_method\" not equal to \"SELGB\".\n",
      "[INFO 24-01-12 15:50:56.9273 +07 kernel.cc:1233] Loading model from path /var/folders/08/pfjkw6qj6432p465r25wkxf80000gp/T/tmpxa5_it5y/model/ with prefix 12c9f9e9df2f415f\n",
      "[INFO 24-01-12 15:50:56.9309 +07 kernel.cc:1061] Use fast generic engine\n"
     ]
    },
    {
     "name": "stdout",
     "output_type": "stream",
     "text": [
      "i: 78\n"
     ]
    },
    {
     "name": "stderr",
     "output_type": "stream",
     "text": [
      "[WARNING 24-01-12 15:50:57.1480 +07 gradient_boosted_trees.cc:1886] \"goss_alpha\" set but \"sampling_method\" not equal to \"GOSS\".\n",
      "[WARNING 24-01-12 15:50:57.1480 +07 gradient_boosted_trees.cc:1897] \"goss_beta\" set but \"sampling_method\" not equal to \"GOSS\".\n",
      "[WARNING 24-01-12 15:50:57.1480 +07 gradient_boosted_trees.cc:1911] \"selective_gradient_boosting_ratio\" set but \"sampling_method\" not equal to \"SELGB\".\n",
      "[INFO 24-01-12 15:50:57.5307 +07 kernel.cc:1233] Loading model from path /var/folders/08/pfjkw6qj6432p465r25wkxf80000gp/T/tmpuuw2sppe/model/ with prefix cdcccd4f86ef434e\n",
      "[INFO 24-01-12 15:50:57.5361 +07 kernel.cc:1061] Use fast generic engine\n"
     ]
    },
    {
     "name": "stdout",
     "output_type": "stream",
     "text": [
      "i: 79\n"
     ]
    },
    {
     "name": "stderr",
     "output_type": "stream",
     "text": [
      "[WARNING 24-01-12 15:50:58.0899 +07 gradient_boosted_trees.cc:1886] \"goss_alpha\" set but \"sampling_method\" not equal to \"GOSS\".\n",
      "[WARNING 24-01-12 15:50:58.0900 +07 gradient_boosted_trees.cc:1897] \"goss_beta\" set but \"sampling_method\" not equal to \"GOSS\".\n",
      "[WARNING 24-01-12 15:50:58.0900 +07 gradient_boosted_trees.cc:1911] \"selective_gradient_boosting_ratio\" set but \"sampling_method\" not equal to \"SELGB\".\n",
      "[INFO 24-01-12 15:50:58.4181 +07 kernel.cc:1233] Loading model from path /var/folders/08/pfjkw6qj6432p465r25wkxf80000gp/T/tmpzkds_710/model/ with prefix ca006b8e1d034597\n",
      "[INFO 24-01-12 15:50:58.4208 +07 kernel.cc:1061] Use fast generic engine\n"
     ]
    },
    {
     "name": "stdout",
     "output_type": "stream",
     "text": [
      "i: 80\n"
     ]
    },
    {
     "name": "stderr",
     "output_type": "stream",
     "text": [
      "[WARNING 24-01-12 15:50:58.6489 +07 gradient_boosted_trees.cc:1886] \"goss_alpha\" set but \"sampling_method\" not equal to \"GOSS\".\n",
      "[WARNING 24-01-12 15:50:58.6489 +07 gradient_boosted_trees.cc:1897] \"goss_beta\" set but \"sampling_method\" not equal to \"GOSS\".\n",
      "[WARNING 24-01-12 15:50:58.6489 +07 gradient_boosted_trees.cc:1911] \"selective_gradient_boosting_ratio\" set but \"sampling_method\" not equal to \"SELGB\".\n",
      "[INFO 24-01-12 15:50:58.9908 +07 kernel.cc:1233] Loading model from path /var/folders/08/pfjkw6qj6432p465r25wkxf80000gp/T/tmpfbc8fatl/model/ with prefix 45eee34c6ea24910\n",
      "[INFO 24-01-12 15:50:58.9950 +07 kernel.cc:1061] Use fast generic engine\n"
     ]
    },
    {
     "name": "stdout",
     "output_type": "stream",
     "text": [
      "i: 81\n"
     ]
    },
    {
     "name": "stderr",
     "output_type": "stream",
     "text": [
      "[WARNING 24-01-12 15:50:59.2091 +07 gradient_boosted_trees.cc:1886] \"goss_alpha\" set but \"sampling_method\" not equal to \"GOSS\".\n",
      "[WARNING 24-01-12 15:50:59.2091 +07 gradient_boosted_trees.cc:1897] \"goss_beta\" set but \"sampling_method\" not equal to \"GOSS\".\n",
      "[WARNING 24-01-12 15:50:59.2092 +07 gradient_boosted_trees.cc:1911] \"selective_gradient_boosting_ratio\" set but \"sampling_method\" not equal to \"SELGB\".\n",
      "[INFO 24-01-12 15:50:59.5196 +07 kernel.cc:1233] Loading model from path /var/folders/08/pfjkw6qj6432p465r25wkxf80000gp/T/tmpk7za6ytj/model/ with prefix e75257c5d03b4b61\n",
      "[INFO 24-01-12 15:50:59.5232 +07 kernel.cc:1061] Use fast generic engine\n"
     ]
    },
    {
     "name": "stdout",
     "output_type": "stream",
     "text": [
      "i: 82\n"
     ]
    },
    {
     "name": "stderr",
     "output_type": "stream",
     "text": [
      "[WARNING 24-01-12 15:50:59.7308 +07 gradient_boosted_trees.cc:1886] \"goss_alpha\" set but \"sampling_method\" not equal to \"GOSS\".\n",
      "[WARNING 24-01-12 15:50:59.7308 +07 gradient_boosted_trees.cc:1897] \"goss_beta\" set but \"sampling_method\" not equal to \"GOSS\".\n",
      "[WARNING 24-01-12 15:50:59.7308 +07 gradient_boosted_trees.cc:1911] \"selective_gradient_boosting_ratio\" set but \"sampling_method\" not equal to \"SELGB\".\n",
      "[INFO 24-01-12 15:50:59.9930 +07 kernel.cc:1233] Loading model from path /var/folders/08/pfjkw6qj6432p465r25wkxf80000gp/T/tmphu9lcpx3/model/ with prefix 3a3a870457bd4b31\n",
      "[INFO 24-01-12 15:50:59.9952 +07 kernel.cc:1061] Use fast generic engine\n"
     ]
    },
    {
     "name": "stdout",
     "output_type": "stream",
     "text": [
      "i: 83\n"
     ]
    },
    {
     "name": "stderr",
     "output_type": "stream",
     "text": [
      "[WARNING 24-01-12 15:51:00.2051 +07 gradient_boosted_trees.cc:1886] \"goss_alpha\" set but \"sampling_method\" not equal to \"GOSS\".\n",
      "[WARNING 24-01-12 15:51:00.2051 +07 gradient_boosted_trees.cc:1897] \"goss_beta\" set but \"sampling_method\" not equal to \"GOSS\".\n",
      "[WARNING 24-01-12 15:51:00.2051 +07 gradient_boosted_trees.cc:1911] \"selective_gradient_boosting_ratio\" set but \"sampling_method\" not equal to \"SELGB\".\n",
      "[INFO 24-01-12 15:51:00.4761 +07 kernel.cc:1233] Loading model from path /var/folders/08/pfjkw6qj6432p465r25wkxf80000gp/T/tmp2liitack/model/ with prefix 794b4865bb4b4c1b\n",
      "[INFO 24-01-12 15:51:00.4783 +07 kernel.cc:1061] Use fast generic engine\n"
     ]
    },
    {
     "name": "stdout",
     "output_type": "stream",
     "text": [
      "i: 84\n"
     ]
    },
    {
     "name": "stderr",
     "output_type": "stream",
     "text": [
      "[WARNING 24-01-12 15:51:00.6956 +07 gradient_boosted_trees.cc:1886] \"goss_alpha\" set but \"sampling_method\" not equal to \"GOSS\".\n",
      "[WARNING 24-01-12 15:51:00.6957 +07 gradient_boosted_trees.cc:1897] \"goss_beta\" set but \"sampling_method\" not equal to \"GOSS\".\n",
      "[WARNING 24-01-12 15:51:00.6957 +07 gradient_boosted_trees.cc:1911] \"selective_gradient_boosting_ratio\" set but \"sampling_method\" not equal to \"SELGB\".\n",
      "[INFO 24-01-12 15:51:00.9560 +07 kernel.cc:1233] Loading model from path /var/folders/08/pfjkw6qj6432p465r25wkxf80000gp/T/tmpaiqe4vme/model/ with prefix c1f21c89c2f5455b\n",
      "[INFO 24-01-12 15:51:00.9580 +07 kernel.cc:1061] Use fast generic engine\n"
     ]
    },
    {
     "name": "stdout",
     "output_type": "stream",
     "text": [
      "i: 85\n"
     ]
    },
    {
     "name": "stderr",
     "output_type": "stream",
     "text": [
      "[WARNING 24-01-12 15:51:01.1670 +07 gradient_boosted_trees.cc:1886] \"goss_alpha\" set but \"sampling_method\" not equal to \"GOSS\".\n",
      "[WARNING 24-01-12 15:51:01.1670 +07 gradient_boosted_trees.cc:1897] \"goss_beta\" set but \"sampling_method\" not equal to \"GOSS\".\n",
      "[WARNING 24-01-12 15:51:01.1670 +07 gradient_boosted_trees.cc:1911] \"selective_gradient_boosting_ratio\" set but \"sampling_method\" not equal to \"SELGB\".\n",
      "[INFO 24-01-12 15:51:01.4314 +07 kernel.cc:1233] Loading model from path /var/folders/08/pfjkw6qj6432p465r25wkxf80000gp/T/tmpadekdymw/model/ with prefix 438e0becdd3843c4\n",
      "[INFO 24-01-12 15:51:01.4333 +07 kernel.cc:1061] Use fast generic engine\n"
     ]
    },
    {
     "name": "stdout",
     "output_type": "stream",
     "text": [
      "i: 86\n"
     ]
    },
    {
     "name": "stderr",
     "output_type": "stream",
     "text": [
      "[WARNING 24-01-12 15:51:01.6463 +07 gradient_boosted_trees.cc:1886] \"goss_alpha\" set but \"sampling_method\" not equal to \"GOSS\".\n",
      "[WARNING 24-01-12 15:51:01.6463 +07 gradient_boosted_trees.cc:1897] \"goss_beta\" set but \"sampling_method\" not equal to \"GOSS\".\n",
      "[WARNING 24-01-12 15:51:01.6463 +07 gradient_boosted_trees.cc:1911] \"selective_gradient_boosting_ratio\" set but \"sampling_method\" not equal to \"SELGB\".\n",
      "[INFO 24-01-12 15:51:02.0187 +07 kernel.cc:1233] Loading model from path /var/folders/08/pfjkw6qj6432p465r25wkxf80000gp/T/tmpp_4kv2ab/model/ with prefix 9584713d658145e7\n",
      "[INFO 24-01-12 15:51:02.0241 +07 kernel.cc:1061] Use fast generic engine\n"
     ]
    },
    {
     "name": "stdout",
     "output_type": "stream",
     "text": [
      "i: 87\n"
     ]
    },
    {
     "name": "stderr",
     "output_type": "stream",
     "text": [
      "[WARNING 24-01-12 15:51:02.2343 +07 gradient_boosted_trees.cc:1886] \"goss_alpha\" set but \"sampling_method\" not equal to \"GOSS\".\n",
      "[WARNING 24-01-12 15:51:02.2343 +07 gradient_boosted_trees.cc:1897] \"goss_beta\" set but \"sampling_method\" not equal to \"GOSS\".\n",
      "[WARNING 24-01-12 15:51:02.2343 +07 gradient_boosted_trees.cc:1911] \"selective_gradient_boosting_ratio\" set but \"sampling_method\" not equal to \"SELGB\".\n",
      "[INFO 24-01-12 15:51:02.6565 +07 kernel.cc:1233] Loading model from path /var/folders/08/pfjkw6qj6432p465r25wkxf80000gp/T/tmprwevbdfp/model/ with prefix 96b6ba9849b1442b\n",
      "[INFO 24-01-12 15:51:02.6634 +07 kernel.cc:1061] Use fast generic engine\n"
     ]
    },
    {
     "name": "stdout",
     "output_type": "stream",
     "text": [
      "i: 88\n"
     ]
    },
    {
     "name": "stderr",
     "output_type": "stream",
     "text": [
      "[WARNING 24-01-12 15:51:02.8685 +07 gradient_boosted_trees.cc:1886] \"goss_alpha\" set but \"sampling_method\" not equal to \"GOSS\".\n",
      "[WARNING 24-01-12 15:51:02.8686 +07 gradient_boosted_trees.cc:1897] \"goss_beta\" set but \"sampling_method\" not equal to \"GOSS\".\n",
      "[WARNING 24-01-12 15:51:02.8686 +07 gradient_boosted_trees.cc:1911] \"selective_gradient_boosting_ratio\" set but \"sampling_method\" not equal to \"SELGB\".\n",
      "[INFO 24-01-12 15:51:03.1510 +07 kernel.cc:1233] Loading model from path /var/folders/08/pfjkw6qj6432p465r25wkxf80000gp/T/tmptvay2dax/model/ with prefix e4a6db80ac1c4e2a\n",
      "[INFO 24-01-12 15:51:03.1536 +07 kernel.cc:1061] Use fast generic engine\n"
     ]
    },
    {
     "name": "stdout",
     "output_type": "stream",
     "text": [
      "i: 89\n"
     ]
    },
    {
     "name": "stderr",
     "output_type": "stream",
     "text": [
      "[WARNING 24-01-12 15:51:03.3673 +07 gradient_boosted_trees.cc:1886] \"goss_alpha\" set but \"sampling_method\" not equal to \"GOSS\".\n",
      "[WARNING 24-01-12 15:51:03.3674 +07 gradient_boosted_trees.cc:1897] \"goss_beta\" set but \"sampling_method\" not equal to \"GOSS\".\n",
      "[WARNING 24-01-12 15:51:03.3674 +07 gradient_boosted_trees.cc:1911] \"selective_gradient_boosting_ratio\" set but \"sampling_method\" not equal to \"SELGB\".\n",
      "[INFO 24-01-12 15:51:03.7326 +07 kernel.cc:1233] Loading model from path /var/folders/08/pfjkw6qj6432p465r25wkxf80000gp/T/tmpgl4lmde_/model/ with prefix 5bd1ce33cbc94ade\n",
      "[INFO 24-01-12 15:51:03.7379 +07 kernel.cc:1061] Use fast generic engine\n"
     ]
    },
    {
     "name": "stdout",
     "output_type": "stream",
     "text": [
      "i: 90\n"
     ]
    },
    {
     "name": "stderr",
     "output_type": "stream",
     "text": [
      "[WARNING 24-01-12 15:51:03.9429 +07 gradient_boosted_trees.cc:1886] \"goss_alpha\" set but \"sampling_method\" not equal to \"GOSS\".\n",
      "[WARNING 24-01-12 15:51:03.9429 +07 gradient_boosted_trees.cc:1897] \"goss_beta\" set but \"sampling_method\" not equal to \"GOSS\".\n",
      "[WARNING 24-01-12 15:51:03.9429 +07 gradient_boosted_trees.cc:1911] \"selective_gradient_boosting_ratio\" set but \"sampling_method\" not equal to \"SELGB\".\n",
      "[INFO 24-01-12 15:51:04.3409 +07 kernel.cc:1233] Loading model from path /var/folders/08/pfjkw6qj6432p465r25wkxf80000gp/T/tmpn0yephfn/model/ with prefix 1c0ea5af354945d8\n",
      "[INFO 24-01-12 15:51:04.3468 +07 kernel.cc:1061] Use fast generic engine\n"
     ]
    },
    {
     "name": "stdout",
     "output_type": "stream",
     "text": [
      "i: 91\n"
     ]
    },
    {
     "name": "stderr",
     "output_type": "stream",
     "text": [
      "[WARNING 24-01-12 15:51:04.5536 +07 gradient_boosted_trees.cc:1886] \"goss_alpha\" set but \"sampling_method\" not equal to \"GOSS\".\n",
      "[WARNING 24-01-12 15:51:04.5536 +07 gradient_boosted_trees.cc:1897] \"goss_beta\" set but \"sampling_method\" not equal to \"GOSS\".\n",
      "[WARNING 24-01-12 15:51:04.5536 +07 gradient_boosted_trees.cc:1911] \"selective_gradient_boosting_ratio\" set but \"sampling_method\" not equal to \"SELGB\".\n",
      "[INFO 24-01-12 15:51:04.8320 +07 kernel.cc:1233] Loading model from path /var/folders/08/pfjkw6qj6432p465r25wkxf80000gp/T/tmpszme53hc/model/ with prefix 39ea22c588f84dd2\n",
      "[INFO 24-01-12 15:51:04.8346 +07 kernel.cc:1061] Use fast generic engine\n"
     ]
    },
    {
     "name": "stdout",
     "output_type": "stream",
     "text": [
      "i: 92\n"
     ]
    },
    {
     "name": "stderr",
     "output_type": "stream",
     "text": [
      "[WARNING 24-01-12 15:51:05.0407 +07 gradient_boosted_trees.cc:1886] \"goss_alpha\" set but \"sampling_method\" not equal to \"GOSS\".\n",
      "[WARNING 24-01-12 15:51:05.0407 +07 gradient_boosted_trees.cc:1897] \"goss_beta\" set but \"sampling_method\" not equal to \"GOSS\".\n",
      "[WARNING 24-01-12 15:51:05.0407 +07 gradient_boosted_trees.cc:1911] \"selective_gradient_boosting_ratio\" set but \"sampling_method\" not equal to \"SELGB\".\n",
      "[INFO 24-01-12 15:51:05.3506 +07 kernel.cc:1233] Loading model from path /var/folders/08/pfjkw6qj6432p465r25wkxf80000gp/T/tmpjqedlv0x/model/ with prefix ae4cf08a12ec4609\n",
      "[INFO 24-01-12 15:51:05.3543 +07 kernel.cc:1061] Use fast generic engine\n"
     ]
    },
    {
     "name": "stdout",
     "output_type": "stream",
     "text": [
      "i: 93\n"
     ]
    },
    {
     "name": "stderr",
     "output_type": "stream",
     "text": [
      "[WARNING 24-01-12 15:51:05.5692 +07 gradient_boosted_trees.cc:1886] \"goss_alpha\" set but \"sampling_method\" not equal to \"GOSS\".\n",
      "[WARNING 24-01-12 15:51:05.5692 +07 gradient_boosted_trees.cc:1897] \"goss_beta\" set but \"sampling_method\" not equal to \"GOSS\".\n",
      "[WARNING 24-01-12 15:51:05.5692 +07 gradient_boosted_trees.cc:1911] \"selective_gradient_boosting_ratio\" set but \"sampling_method\" not equal to \"SELGB\".\n",
      "[INFO 24-01-12 15:51:05.9081 +07 kernel.cc:1233] Loading model from path /var/folders/08/pfjkw6qj6432p465r25wkxf80000gp/T/tmpyw2er4ek/model/ with prefix c94bcb0091d2455a\n",
      "[INFO 24-01-12 15:51:05.9124 +07 kernel.cc:1061] Use fast generic engine\n"
     ]
    },
    {
     "name": "stdout",
     "output_type": "stream",
     "text": [
      "i: 94\n"
     ]
    },
    {
     "name": "stderr",
     "output_type": "stream",
     "text": [
      "[WARNING 24-01-12 15:51:06.1180 +07 gradient_boosted_trees.cc:1886] \"goss_alpha\" set but \"sampling_method\" not equal to \"GOSS\".\n",
      "[WARNING 24-01-12 15:51:06.1180 +07 gradient_boosted_trees.cc:1897] \"goss_beta\" set but \"sampling_method\" not equal to \"GOSS\".\n",
      "[WARNING 24-01-12 15:51:06.1181 +07 gradient_boosted_trees.cc:1911] \"selective_gradient_boosting_ratio\" set but \"sampling_method\" not equal to \"SELGB\".\n",
      "[INFO 24-01-12 15:51:06.3676 +07 kernel.cc:1233] Loading model from path /var/folders/08/pfjkw6qj6432p465r25wkxf80000gp/T/tmpdl247970/model/ with prefix ff87ff1c72e64841\n",
      "[INFO 24-01-12 15:51:06.3695 +07 kernel.cc:1061] Use fast generic engine\n"
     ]
    },
    {
     "name": "stdout",
     "output_type": "stream",
     "text": [
      "i: 95\n"
     ]
    },
    {
     "name": "stderr",
     "output_type": "stream",
     "text": [
      "[WARNING 24-01-12 15:51:06.5755 +07 gradient_boosted_trees.cc:1886] \"goss_alpha\" set but \"sampling_method\" not equal to \"GOSS\".\n",
      "[WARNING 24-01-12 15:51:06.5755 +07 gradient_boosted_trees.cc:1897] \"goss_beta\" set but \"sampling_method\" not equal to \"GOSS\".\n",
      "[WARNING 24-01-12 15:51:06.5755 +07 gradient_boosted_trees.cc:1911] \"selective_gradient_boosting_ratio\" set but \"sampling_method\" not equal to \"SELGB\".\n",
      "[INFO 24-01-12 15:51:06.8792 +07 kernel.cc:1233] Loading model from path /var/folders/08/pfjkw6qj6432p465r25wkxf80000gp/T/tmppnx7fp44/model/ with prefix 6d5d8622b13d4f76\n",
      "[INFO 24-01-12 15:51:06.8823 +07 abstract_model.cc:1344] Engine \"GradientBoostedTreesQuickScorerExtended\" built\n",
      "[INFO 24-01-12 15:51:06.8823 +07 kernel.cc:1061] Use fast generic engine\n"
     ]
    },
    {
     "name": "stdout",
     "output_type": "stream",
     "text": [
      "i: 96\n"
     ]
    },
    {
     "name": "stderr",
     "output_type": "stream",
     "text": [
      "[WARNING 24-01-12 15:51:07.0876 +07 gradient_boosted_trees.cc:1886] \"goss_alpha\" set but \"sampling_method\" not equal to \"GOSS\".\n",
      "[WARNING 24-01-12 15:51:07.0877 +07 gradient_boosted_trees.cc:1897] \"goss_beta\" set but \"sampling_method\" not equal to \"GOSS\".\n",
      "[WARNING 24-01-12 15:51:07.0877 +07 gradient_boosted_trees.cc:1911] \"selective_gradient_boosting_ratio\" set but \"sampling_method\" not equal to \"SELGB\".\n",
      "[INFO 24-01-12 15:51:07.4299 +07 kernel.cc:1233] Loading model from path /var/folders/08/pfjkw6qj6432p465r25wkxf80000gp/T/tmp48aopwvx/model/ with prefix 7ffe73d0d50d42aa\n",
      "[INFO 24-01-12 15:51:07.4335 +07 kernel.cc:1061] Use fast generic engine\n"
     ]
    },
    {
     "name": "stdout",
     "output_type": "stream",
     "text": [
      "i: 97\n"
     ]
    },
    {
     "name": "stderr",
     "output_type": "stream",
     "text": [
      "[WARNING 24-01-12 15:51:07.6486 +07 gradient_boosted_trees.cc:1886] \"goss_alpha\" set but \"sampling_method\" not equal to \"GOSS\".\n",
      "[WARNING 24-01-12 15:51:07.6487 +07 gradient_boosted_trees.cc:1897] \"goss_beta\" set but \"sampling_method\" not equal to \"GOSS\".\n",
      "[WARNING 24-01-12 15:51:07.6487 +07 gradient_boosted_trees.cc:1911] \"selective_gradient_boosting_ratio\" set but \"sampling_method\" not equal to \"SELGB\".\n",
      "[INFO 24-01-12 15:51:07.9422 +07 kernel.cc:1233] Loading model from path /var/folders/08/pfjkw6qj6432p465r25wkxf80000gp/T/tmpr5yc0xfk/model/ with prefix 41354a642d1f4141\n",
      "[INFO 24-01-12 15:51:07.9452 +07 kernel.cc:1061] Use fast generic engine\n"
     ]
    },
    {
     "name": "stdout",
     "output_type": "stream",
     "text": [
      "i: 98\n"
     ]
    },
    {
     "name": "stderr",
     "output_type": "stream",
     "text": [
      "[WARNING 24-01-12 15:51:08.1540 +07 gradient_boosted_trees.cc:1886] \"goss_alpha\" set but \"sampling_method\" not equal to \"GOSS\".\n",
      "[WARNING 24-01-12 15:51:08.1540 +07 gradient_boosted_trees.cc:1897] \"goss_beta\" set but \"sampling_method\" not equal to \"GOSS\".\n",
      "[WARNING 24-01-12 15:51:08.1540 +07 gradient_boosted_trees.cc:1911] \"selective_gradient_boosting_ratio\" set but \"sampling_method\" not equal to \"SELGB\".\n",
      "[INFO 24-01-12 15:51:08.5057 +07 kernel.cc:1233] Loading model from path /var/folders/08/pfjkw6qj6432p465r25wkxf80000gp/T/tmp8rbw8eo6/model/ with prefix f0090cef5042450d\n",
      "[INFO 24-01-12 15:51:08.5104 +07 kernel.cc:1061] Use fast generic engine\n"
     ]
    },
    {
     "name": "stdout",
     "output_type": "stream",
     "text": [
      "i: 99\n"
     ]
    },
    {
     "name": "stderr",
     "output_type": "stream",
     "text": [
      "[WARNING 24-01-12 15:51:08.7184 +07 gradient_boosted_trees.cc:1886] \"goss_alpha\" set but \"sampling_method\" not equal to \"GOSS\".\n",
      "[WARNING 24-01-12 15:51:08.7184 +07 gradient_boosted_trees.cc:1897] \"goss_beta\" set but \"sampling_method\" not equal to \"GOSS\".\n",
      "[WARNING 24-01-12 15:51:08.7184 +07 gradient_boosted_trees.cc:1911] \"selective_gradient_boosting_ratio\" set but \"sampling_method\" not equal to \"SELGB\".\n",
      "[INFO 24-01-12 15:51:08.9870 +07 kernel.cc:1233] Loading model from path /var/folders/08/pfjkw6qj6432p465r25wkxf80000gp/T/tmppm5cp__s/model/ with prefix 0a99a7a8dd864546\n",
      "[INFO 24-01-12 15:51:08.9892 +07 kernel.cc:1061] Use fast generic engine\n"
     ]
    }
   ],
   "source": [
    "predictions = None\n",
    "num_predictions = 0\n",
    "for i in range(100): \n",
    "    print('i:', i)\n",
    "    model = tfdf.keras.GradientBoostedTreesModel(\n",
    "        verbose=0, \n",
    "        features=[tfdf.keras.FeatureUsage(name=n) for n in input_features], \n",
    "        exclude_non_specified_features=True, \n",
    "        random_seed=i, \n",
    "        honest=True\n",
    "    )\n",
    "    model.fit(train_ds)\n",
    "    \n",
    "    sub_predictions = model.predict(serving_ds, verbose=0)[:,0]\n",
    "    if predictions is None:\n",
    "        predictions = sub_predictions\n",
    "    else:\n",
    "        predictions += sub_predictions\n",
    "    num_predictions += 1"
   ]
  },
  {
   "cell_type": "code",
   "execution_count": 22,
   "metadata": {},
   "outputs": [],
   "source": [
    "predictions/=num_predictions\n",
    "kaggle_predictions = pd.DataFrame({\n",
    "    \"PassengerId\": serving_df['PassengerId'], \n",
    "    \"Survived\": (predictions >= 0.5).astype(int)\n",
    "})  \n",
    "kaggle_predictions.to_csv('my_tf_tunning.csv', index=False)"
   ]
  },
  {
   "cell_type": "code",
   "execution_count": null,
   "metadata": {},
   "outputs": [],
   "source": []
  }
 ],
 "metadata": {
  "kernelspec": {
   "display_name": "tensorflow",
   "language": "python",
   "name": "python3"
  },
  "language_info": {
   "codemirror_mode": {
    "name": "ipython",
    "version": 3
   },
   "file_extension": ".py",
   "mimetype": "text/x-python",
   "name": "python",
   "nbconvert_exporter": "python",
   "pygments_lexer": "ipython3",
   "version": "3.10.13"
  }
 },
 "nbformat": 4,
 "nbformat_minor": 2
}
