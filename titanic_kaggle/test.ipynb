{
 "cells": [
  {
   "cell_type": "code",
   "execution_count": 8,
   "metadata": {},
   "outputs": [
    {
     "name": "stdout",
     "output_type": "stream",
     "text": [
      ",.,.(),.(\"\")\n"
     ]
    }
   ],
   "source": [
    "import re\n",
    "\n",
    "# Sample list of names\n",
    "names = [\n",
    "    'Braund, Mr. Owen Harris',\n",
    "    'Cumings, Mrs. John Bradley (Florence Briggs Thayer)',\n",
    "    # ... (and so on)\n",
    "    'Angle, Mrs. William A (Florence \"Mary\" Agnes Hughes)'\n",
    "]\n",
    "\n",
    "# Regular expression pattern to find characters that are not A-Z\n",
    "pattern = re.compile('[^a-zA-Z\\s]')\n",
    "\n",
    "# List to store non-alphabet characters\n",
    "non_alphabet_chars = []\n",
    "\n",
    "# Iterate over each name and find non-alphabet characters\n",
    "for name in names:\n",
    "    non_alphabet_chars.extend(pattern.findall(name))\n",
    "\n",
    "# Print the non-alphabet characters\n",
    "print(''.join(non_alphabet_chars))\n"
   ]
  },
  {
   "cell_type": "code",
   "execution_count": null,
   "metadata": {},
   "outputs": [],
   "source": []
  }
 ],
 "metadata": {
  "kernelspec": {
   "display_name": "tensorflow",
   "language": "python",
   "name": "python3"
  },
  "language_info": {
   "codemirror_mode": {
    "name": "ipython",
    "version": 3
   },
   "file_extension": ".py",
   "mimetype": "text/x-python",
   "name": "python",
   "nbconvert_exporter": "python",
   "pygments_lexer": "ipython3",
   "version": "3.10.13"
  }
 },
 "nbformat": 4,
 "nbformat_minor": 2
}
